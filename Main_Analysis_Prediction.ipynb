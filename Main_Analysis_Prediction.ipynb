{
  "nbformat": 4,
  "nbformat_minor": 0,
  "metadata": {
    "colab": {
      "name": "Main_Analysis_Prediction.ipynb",
      "provenance": [],
      "collapsed_sections": []
    },
    "kernelspec": {
      "display_name": "Python 3",
      "language": "python",
      "name": "python3"
    },
    "language_info": {
      "codemirror_mode": {
        "name": "ipython",
        "version": 3
      },
      "file_extension": ".py",
      "mimetype": "text/x-python",
      "name": "python",
      "nbconvert_exporter": "python",
      "pygments_lexer": "ipython3",
      "version": "3.8.5"
    },
    "widgets": {
      "application/vnd.jupyter.widget-state+json": {
        "c7236a26c81443e8ace449b0cf48a39e": {
          "model_module": "@jupyter-widgets/controls",
          "model_name": "VBoxModel",
          "state": {
            "_view_name": "VBoxView",
            "_dom_classes": [
              "widget-interact"
            ],
            "_model_name": "VBoxModel",
            "_view_module": "@jupyter-widgets/controls",
            "_model_module_version": "1.5.0",
            "_view_count": null,
            "_view_module_version": "1.5.0",
            "box_style": "",
            "layout": "IPY_MODEL_03250304823a4c28be953a8fc53ac672",
            "_model_module": "@jupyter-widgets/controls",
            "children": [
              "IPY_MODEL_adbc965c54af4e7cbe9130da6b522002",
              "IPY_MODEL_13255b50c6f14e2c8602cb063bd0712f"
            ]
          }
        },
        "03250304823a4c28be953a8fc53ac672": {
          "model_module": "@jupyter-widgets/base",
          "model_name": "LayoutModel",
          "state": {
            "_view_name": "LayoutView",
            "grid_template_rows": null,
            "right": null,
            "justify_content": null,
            "_view_module": "@jupyter-widgets/base",
            "overflow": null,
            "_model_module_version": "1.2.0",
            "_view_count": null,
            "flex_flow": null,
            "width": null,
            "min_width": null,
            "border": null,
            "align_items": null,
            "bottom": null,
            "_model_module": "@jupyter-widgets/base",
            "top": null,
            "grid_column": null,
            "overflow_y": null,
            "overflow_x": null,
            "grid_auto_flow": null,
            "grid_area": null,
            "grid_template_columns": null,
            "flex": null,
            "_model_name": "LayoutModel",
            "justify_items": null,
            "grid_row": null,
            "max_height": null,
            "align_content": null,
            "visibility": null,
            "align_self": null,
            "height": null,
            "min_height": null,
            "padding": null,
            "grid_auto_rows": null,
            "grid_gap": null,
            "max_width": null,
            "order": null,
            "_view_module_version": "1.2.0",
            "grid_template_areas": null,
            "object_position": null,
            "object_fit": null,
            "grid_auto_columns": null,
            "margin": null,
            "display": null,
            "left": null
          }
        },
        "adbc965c54af4e7cbe9130da6b522002": {
          "model_module": "@jupyter-widgets/controls",
          "model_name": "DropdownModel",
          "state": {
            "_options_labels": [
              "CRIMINAL_CASES",
              "AGE",
              "ASSETS",
              "LIABILITIES",
              "GENERAL_VOTES",
              "POSTAL_VOTES",
              "TOTAL_VOTES",
              "OVER_TOTAL_ELECTORS_IN_CONSTITUENCY",
              "OVER_TOTAL_VOTES_POLLED_IN_CONSTITUENCY",
              "TOTAL_ELECTORS",
              "WINNER"
            ],
            "_view_name": "DropdownView",
            "style": "IPY_MODEL_58dd24f6074e4ac1a3e50c0e39f1583f",
            "_dom_classes": [],
            "description": "x",
            "_model_name": "DropdownModel",
            "index": 0,
            "_view_module": "@jupyter-widgets/controls",
            "_model_module_version": "1.5.0",
            "_view_count": null,
            "disabled": false,
            "_view_module_version": "1.5.0",
            "description_tooltip": null,
            "_model_module": "@jupyter-widgets/controls",
            "layout": "IPY_MODEL_f5e5e653c80949869546c1310ac499a8"
          }
        },
        "13255b50c6f14e2c8602cb063bd0712f": {
          "model_module": "@jupyter-widgets/output",
          "model_name": "OutputModel",
          "state": {
            "_view_name": "OutputView",
            "msg_id": "",
            "_dom_classes": [],
            "_model_name": "OutputModel",
            "outputs": [
              {
                "output_type": "display_data",
                "metadata": {
                  "tags": [],
                  "needs_background": "light"
                },
                "image/png": "iVBORw0KGgoAAAANSUhEUgAAAYQAAAENCAYAAAAPAhLDAAAABHNCSVQICAgIfAhkiAAAAAlwSFlzAAALEgAACxIB0t1+/AAAADh0RVh0U29mdHdhcmUAbWF0cGxvdGxpYiB2ZXJzaW9uMy4yLjIsIGh0dHA6Ly9tYXRwbG90bGliLm9yZy+WH4yJAAAYSElEQVR4nO3dfZBldX3n8feHQYjxCQgdMoHRQXfMBq0VsBepEim23PCUxIHdWgQtGQ3J6ApVGpPNglatxCwb8qBm2Riyg0wBKQTZIIHdoDgSkXI3PDQ4wgyIDDLITI0zrSioJKPAd/+4v5ZLc3umu+/tvkP3+1V16p77Pb9zzu9378x85jzce1NVSJK017A7IEnaMxgIkiTAQJAkNQaCJAkwECRJjYEgSQIMBO2hktySZGj3RCe5LEklWd5VW95qlw2rX60fQ31ttHAZCJoz7R/P7mlnkvEkdyf5dJKTkiyZo31vTrJ5LrY913qFkTQf9h52B7Qo/GF7XALsB7wOeBdwFjCW5J1V9c1J65wJ/Pz8dfF5zgMuBLYOsQ9TGfZrowXKQNCcq6rzJ9eSHAT8D+A/AF9KMlpVO7rW+fb89fD5qmobsG2YfZjKsF8bLVyeMtJQVNV24HTgFmAZ8OHu5b3Ok6djVZL/1049/XOSR5PclOTtrc1xbb1XAa+adMrqsq5tVdvHL7XTV1uTPJ3k3W35Lk/bJPmXSf4uyWNJfpzkq0mO79Hu/Lad43ose941idb3Ve3pw11937yr16bV90ryviR3JvlR69edSf5jkuf9Xe96DQ5MsibJtnZab2OS9/QatxY2jxA0NFX1TJL/ChwHnJHkd2vXX651AZ1TOQ8D1wCPA0uBf03nSOOzwGY6p6g+2Nb5i67110/a3gHAbcCPgM8BzwDbp9H1Q4F/BO4F/mfrw9uBzyd5R1V9dhrbmMofAqcAbwD+O/CDVv/BlGs862+AdwCPAp8GCjgV+CvgGOCdPdbZD/i/wE+AvwX2pfNark3yTFVdPuuR6IWnqpyc5mSi8w9S7abNvsBPW9tDu+q3TF4X+B6wBfj5Hts5cNLzzcDm3fUNuALYu8fyy9ry5V215V3r/dmk9qNtHN8HXt5VP7+1P67HPia2d9nu9j1pea/X5oy2zt3AS7vqLwHG2rJ3TPEafBpY0lU/DHgKuG/Yf4ac5nfylJGGqqp20vmHHmBkGqv8FHi6x3a+O4vd/wT4/ap6aobrPQ58bNL+x4Ar6fyP+9RZ9KVfv9Uez62qH3X168fAf25Pf7vHek8CH6qqp7vWuY/OUcOvJnnpHPVXeyADQXuCtMfd3Vt/JZ3/Vd+X5I+TnJjkFX3sd3N1Xciegbur6oc96re0xyNm36VZO5LOKa9beiz7Cp0Q7dWvB6vqiR71R9vj/gPpnV4QDAQNVZKfo3MuH2B8N81/t00/As4FPg98N8n1Sf7FLHb/nVmsA1NfZ5jYXj8hNVuvAB6rqp9MXtCOgL5L735NdW1i4qhpTj4noj2TgaBhO4bOzQ3bq2rzrhpW1dNV9RdV9QbgIODfA9cBbwO+kGTfGe57tp/2PWiK+i+1x8e7as+0x143cOw3y/338jhwQJIXTV6QZG/gQKDXkYD0MwaChqbdCvmR9vQzM1m3qnZU1eeq6jTgH4DXAK/vavI0c/e/2yOTvKxH/bj2+LWu2vfb47Ie7Uen2P7E+fyZ9P9rdP4+H9tj2bFtW3fPYHtahAwEDUWSXwSupvOP6LeB/7ab9vsmeXOP+ot49pTTk12LvgeMJHnxQDr8XK8A/sukfozSua3zcTpHLRPuaI/vaf9Tn2i/bPI2ukxcZH/lDPq0tj3+cZKffYq5zV/Ynl46g+1pEfJzCJpzSc5vs3vx7FdXHAPsQ+cfzHdO4y6hFwNfTbIJuAt4BPg54NeAXwVuqKr7u9rfTOfzCV9IciuwE/h6Vf3vAQzpVuC3k7yJzt04E59D2At4b/dF2qq6ve3/WOCOJP9A55TTbwI30fvI4WbgPwGXJLkW+CHwg6r6y6k6VFWfSbISOA3YmOTv6JwSO4XO5yY+W1VX9jluLXTDvu/VaeFOPHuf+8S0k87FzbuAS4ATgb2mWPcWuu61B14E/AGdC8nfBv6ZzkXo24D3AftMWv8lwMV0PrfwFJPu92/Pb9lF3y9j6s8hXEYnhK6nc0roSTrBcMIU29qvjXdHew02AKuZ4nMIbZ0PAfe39kXXZyomvzZd9b2A99P53MGTbboLOLvX67yr16DX+J0W/pT25kuSFjmvIUiSAANBktQYCJIkwECQJDV7/G2nBx54YC1fvnzY3ZCkF4y77rrru1U1nS+LfI49PhCWL1/O2NjYsLshSS8YSR6ZzXqeMpIkAQaCJKkxECRJgIEgSWoMBEkSYCBIkprdBkKSZUm+nOS+JBuTfKDVD0iyLsmD7XH/Vk+Si5JsSnJPkiO7trWqtX8wyaq5G5Ykaaamc4TwFPB7VXUYcDRwdpLD6Pym7c1VtYLO97ef29qfBKxo02o6X0FMkgOAjwJvAo4CPjoRIpKk4dttIFTVtqq6u83/kM53tB8MrAQub80up/NDHLT6FdVxG7BfkqXACcC6qnqsqr4PrKPzffiSpD3AjD6pnGQ5cARwO3BQVW1ri77Dsz88fjDwaNdqW1ptqvqcWX7u38/l5qe0+cJfH8p+Jakf076onOSlwLXAB6vrJwKh/XRT59eVBiLJ6iRjScbGx8cHtVlJ0i5MKxDaD5lfC1xZVZ9r5e3tVBDtcUerb+W5vxN7SKtNVX+eqlpTVaNVNToyMuPvZ5IkzcJ07jIKcClwf1V9omvRDcDEnUKr6Py+7ET9zHa30dHA4+3U0k3A8Un2bxeTj281SdIeYDrXEN4MvAu4N8n6VvswcCFwTZKzgEeA09qyG4GTgU10fuT7PQBV9ViSPwLubO0+VlWPDWQUkqS+7TYQquqrQKZY/NYe7Qs4e4ptrQXWzqSDkqT54SeVJUmAgSBJagwESRJgIEiSGgNBkgQYCJKkxkCQJAEGgiSpMRAkSYCBIElqDARJEmAgSJIaA0GSBBgIkqTGQJAkAQaCJKkxECRJwPR+U3ltkh1JNnTVPptkfZs2T/y0ZpLlSf6pa9lfd63zxiT3JtmU5KL2W82SpD3EdH5T+TLgL4ErJgpV9faJ+SQfBx7vav9QVR3eYzsXA78D3E7nd5dPBD4/8y5LkubCbo8QqupW4LFey9r/8k8DrtrVNpIsBV5eVbe131y+Ajhl5t2VJM2Vfq8hvAXYXlUPdtUOTfK1JF9J8pZWOxjY0tVmS6v1lGR1krEkY+Pj4312UZI0Hf0Gwhk89+hgG/DKqjoC+BDwmSQvn+lGq2pNVY1W1ejIyEifXZQkTcd0riH0lGRv4N8Bb5yoVdVOYGebvyvJQ8Brga3AIV2rH9JqkqQ9RD9HCP8W+EZV/exUUJKRJEva/KuBFcC3qmob8ESSo9t1hzOB6/vYtyRpwKZz2+lVwD8Cv5JkS5Kz2qLTef7F5GOBe9ptqH8LvK+qJi5Ivx/4NLAJeAjvMJKkPcpuTxlV1RlT1N/do3YtcO0U7ceA18+wf5KkeeInlSVJgIEgSWoMBEkSYCBIkhoDQZIEGAiSpMZAkCQBBoIkqTEQJEmAgSBJagwESRJgIEiSGgNBkgQYCJKkxkCQJAEGgiSpMRAkScD0fkJzbZIdSTZ01c5PsjXJ+jad3LXsvCSbkjyQ5ISu+omttinJuYMfiiSpH9M5QrgMOLFH/ZNVdXibbgRIchid31p+XVvnr5IsSbIE+BRwEnAYcEZrK0naQ0znN5VvTbJ8mttbCVxdVTuBh5NsAo5qyzZV1bcAklzd2t434x5LkuZEP9cQzklyTzultH+rHQw82tVmS6tNVe8pyeokY0nGxsfH++iiJGm6ZhsIFwOvAQ4HtgEfH1iPgKpaU1WjVTU6MjIyyE1Lkqaw21NGvVTV9on5JJcA/6c93Qos62p6SKuxi7okaQ8wqyOEJEu7np4KTNyBdANwepJ9kxwKrADuAO4EViQ5NMk+dC483zD7bkuSBm23RwhJrgKOAw5MsgX4KHBcksOBAjYD7wWoqo1JrqFzsfgp4Oyqerpt5xzgJmAJsLaqNg58NJKkWZvOXUZn9Chfuov2FwAX9KjfCNw4o95JkuaNn1SWJAEGgiSpMRAkSYCBIElqDARJEmAgSJIaA0GSBBgIkqTGQJAkAQaCJKkxECRJgIEgSWoMBEkSYCBIkhoDQZIEGAiSpMZAkCQB0wiEJGuT7Eiyoav2Z0m+keSeJNcl2a/Vlyf5pyTr2/TXXeu8Mcm9STYluShJ5mZIkqTZmM4RwmXAiZNq64DXV9W/Ar4JnNe17KGqOrxN7+uqXwz8DrCiTZO3KUkaot0GQlXdCjw2qfbFqnqqPb0NOGRX20iyFHh5Vd1WVQVcAZwyuy5LkubCIK4h/Bbw+a7nhyb5WpKvJHlLqx0MbOlqs6XVekqyOslYkrHx8fEBdFGStDt9BUKSjwBPAVe20jbglVV1BPAh4DNJXj7T7VbVmqoararRkZGRfrooSZqmvWe7YpJ3A78BvLWdBqKqdgI72/xdSR4CXgts5bmnlQ5pNUnSHmJWRwhJTgT+AHhbVT3ZVR9JsqTNv5rOxeNvVdU24IkkR7e7i84Eru+795KkgdntEUKSq4DjgAOTbAE+Sueuon2Bde3u0dvaHUXHAh9L8lPgGeB9VTVxQfr9dO5YejGdaw7d1x0kSUO220CoqjN6lC+dou21wLVTLBsDXj+j3kmS5o2fVJYkAQaCJKkxECRJgIEgSWoMBEkSYCBIkhoDQZIEGAiSpMZAkCQBBoIkqTEQJEmAgSBJagwESRJgIEiSGgNBkgQYCJKkxkCQJAHTDIQka5PsSLKhq3ZAknVJHmyP+7d6klyUZFOSe5Ic2bXOqtb+wSSrBj8cSdJsTfcI4TLgxEm1c4Gbq2oFcHN7DnASsKJNq4GLoRMgdH6P+U3AUcBHJ0JEkjR80wqEqroVeGxSeSVweZu/HDilq35FddwG7JdkKXACsK6qHquq7wPreH7ISJKGpJ9rCAdV1bY2/x3goDZ/MPBoV7strTZV/XmSrE4ylmRsfHy8jy5KkqZrIBeVq6qAGsS22vbWVNVoVY2OjIwMarOSpF3oJxC2t1NBtMcdrb4VWNbV7pBWm6ouSdoD9BMINwATdwqtAq7vqp/Z7jY6Gni8nVq6CTg+yf7tYvLxrSZJ2gPsPZ1GSa4CjgMOTLKFzt1CFwLXJDkLeAQ4rTW/ETgZ2AQ8CbwHoKoeS/JHwJ2t3ceqavKFaknSkEwrEKrqjCkWvbVH2wLOnmI7a4G10+6dJGne+EllSRJgIEiSGgNBkgQYCJKkxkCQJAEGgiSpMRAkSYCBIElqDARJEmAgSJIaA0GSBBgIkqTGQJAkAQaCJKkxECRJgIEgSWpmHQhJfiXJ+q7piSQfTHJ+kq1d9ZO71jkvyaYkDyQ5YTBDkCQNwrR+Ma2XqnoAOBwgyRJgK3AdnZ/M/GRV/Xl3+ySHAacDrwN+GfhSktdW1dOz7YMkaXAGdcrorcBDVfXILtqsBK6uqp1V9TCd31w+akD7lyT1aVCBcDpwVdfzc5Lck2Rtkv1b7WDg0a42W1rteZKsTjKWZGx8fHxAXZQk7UrfgZBkH+BtwP9qpYuB19A5nbQN+PhMt1lVa6pqtKpGR0ZG+u2iJGkaBnGEcBJwd1VtB6iq7VX1dFU9A1zCs6eFtgLLutY7pNUkSXuAQQTCGXSdLkqytGvZqcCGNn8DcHqSfZMcCqwA7hjA/iVJAzDru4wAkrwE+DXgvV3lP01yOFDA5ollVbUxyTXAfcBTwNneYSRJe46+AqGqfgz8wqTau3bR/gLggn72KUmaG35SWZIEGAiSpMZAkCQBBoIkqTEQJEmAgSBJagwESRJgIEiSGgNBkgQYCJKkxkCQJAEGgiSpMRAkSYCBIElqDARJEmAgSJIaA0GSBAwgEJJsTnJvkvVJxlrtgCTrkjzYHvdv9SS5KMmmJPckObLf/UuSBmNQRwj/pqoOr6rR9vxc4OaqWgHc3J4DnASsaNNq4OIB7V+S1Ke5OmW0Eri8zV8OnNJVv6I6bgP2S7J0jvogSZqBQQRCAV9McleS1a12UFVta/PfAQ5q8wcDj3atu6XVniPJ6iRjScbGx8cH0EVJ0u7sPYBtHFNVW5P8IrAuyTe6F1ZVJamZbLCq1gBrAEZHR2e0riRpdvo+Qqiqre1xB3AdcBSwfeJUUHvc0ZpvBZZ1rX5Iq0mShqyvQEjykiQvm5gHjgc2ADcAq1qzVcD1bf4G4Mx2t9HRwONdp5YkSUPU7ymjg4Drkkxs6zNV9YUkdwLXJDkLeAQ4rbW/ETgZ2AQ8Cbynz/1Lkgakr0Coqm8Bb+hR/x7w1h71As7uZ5+SpLnhJ5UlSYCBIElqDARJEmAgSJIaA0GSBBgIkqTGQJAkAQaCJKkxECRJgIEgSWoMBEkSYCBIkhoDQZIEGAiSpMZAkCQBBoIkqTEQJElAH4GQZFmSLye5L8nGJB9o9fOTbE2yvk0nd61zXpJNSR5IcsIgBiBJGox+fkLzKeD3quruJC8D7kqyri37ZFX9eXfjJIcBpwOvA34Z+FKS11bV0330QZI0ILM+QqiqbVV1d5v/IXA/cPAuVlkJXF1VO6vqYWATcNRs9y9JGqyBXENIshw4Ari9lc5Jck+StUn2b7WDgUe7VtvCFAGSZHWSsSRj4+Pjg+iiJGk3+g6EJC8FrgU+WFVPABcDrwEOB7YBH5/pNqtqTVWNVtXoyMhIv12UJE1DX4GQ5EV0wuDKqvocQFVtr6qnq+oZ4BKePS20FVjWtfohrSZJ2gP0c5dRgEuB+6vqE131pV3NTgU2tPkbgNOT7JvkUGAFcMds9y9JGqx+7jJ6M/Au4N4k61vtw8AZSQ4HCtgMvBegqjYmuQa4j84dSmd7h5Ek7TlmHQhV9VUgPRbduIt1LgAumO0+JUlzx08qS5IAA0GS1BgIkiTAQJAkNQaCJAkwECRJjYEgSQIMBElSYyBIkgADQZLUGAiSJMBAkCQ1BoIkCTAQJEmNgSBJAgwESVJjIEiSgCEEQpITkzyQZFOSc+d7/5Kk3uY1EJIsAT4FnAQcRuf3lw+bzz5Iknqb9W8qz9JRwKaq+hZAkquBlcB989yPObX83L8f2r43X/jrQ9u3pBe2+Q6Eg4FHu55vAd40uVGS1cDq9vRHSR6Y5f4OBL47y3VfkPInP5tddGOfZDGP37EvXhPjf9VsVp7vQJiWqloDrOl3O0nGqmp0AF16wVnMY4fFPX7HvjjHDv2Pf74vKm8FlnU9P6TVJElDNt+BcCewIsmhSfYBTgdumOc+SJJ6mNdTRlX1VJJzgJuAJcDaqto4h7vs+7TTC9hiHjss7vE79sWrr/GnqgbVEUnSC5ifVJYkAQaCJKlZkIGwGL8eI8nmJPcmWZ9krNUOSLIuyYPtcf9h93MQkqxNsiPJhq5az7Gm46L2Z+GeJEcOr+eDMcX4z0+ytb3/65Oc3LXsvDb+B5KcMJxeD0aSZUm+nOS+JBuTfKDVF/z7v4uxD+69r6oFNdG5WP0Q8GpgH+DrwGHD7tc8jHszcOCk2p8C57b5c4E/GXY/BzTWY4EjgQ27GytwMvB5IMDRwO3D7v8cjf984Pd7tD2s/R3YFzi0/d1YMuwx9DH2pcCRbf5lwDfbGBf8+7+LsQ/svV+IRwg/+3qMqvoJMPH1GIvRSuDyNn85cMoQ+zIwVXUr8Nik8lRjXQlcUR23AfslWTo/PZ0bU4x/KiuBq6tqZ1U9DGyi83fkBamqtlXV3W3+h8D9dL4BYcG//7sY+1Rm/N4vxEDo9fUYu3rRFooCvpjkrvbVHwAHVdW2Nv8d4KDhdG1eTDXWxfTn4Zx2WmRt1+nBBTv+JMuBI4DbWWTv/6Sxw4De+4UYCIvVMVV1JJ1vkj07ybHdC6tzDLko7jFeTGPtcjHwGuBwYBvw8eF2Z24leSlwLfDBqnqie9lCf/97jH1g7/1CDIRF+fUYVbW1Pe4ArqNzaLh94vC4Pe4YXg/n3FRjXRR/Hqpqe1U9XVXPAJfw7KmBBTf+JC+i8w/ilVX1uVZeFO9/r7EP8r1fiIGw6L4eI8lLkrxsYh44HthAZ9yrWrNVwPXD6eG8mGqsNwBntrtNjgYe7zq1sGBMOi9+Kp33HzrjPz3JvkkOBVYAd8x3/wYlSYBLgfur6hNdixb8+z/V2Af63g/7yvkcXY0/mc4V+IeAjwy7P/Mw3lfTuZvg68DGiTEDvwDcDDwIfAk4YNh9HdB4r6JzaPxTOudFz5pqrHTuLvlU+7NwLzA67P7P0fj/po3vnvYPwdKu9h9p438AOGnY/e9z7MfQOR10D7C+TScvhvd/F2Mf2HvvV1dIkoCFecpIkjQLBoIkCTAQJEmNgSBJAgwESVJjIEiSAANBktT8f+imc/v1JFCgAAAAAElFTkSuQmCC\n",
                "text/plain": "<Figure size 432x288 with 1 Axes>"
              }
            ],
            "_view_module": "@jupyter-widgets/output",
            "_model_module_version": "1.0.0",
            "_view_count": null,
            "_view_module_version": "1.0.0",
            "layout": "IPY_MODEL_0341befc48dd4eb38f30d4409b535aac",
            "_model_module": "@jupyter-widgets/output"
          }
        },
        "58dd24f6074e4ac1a3e50c0e39f1583f": {
          "model_module": "@jupyter-widgets/controls",
          "model_name": "DescriptionStyleModel",
          "state": {
            "_view_name": "StyleView",
            "_model_name": "DescriptionStyleModel",
            "description_width": "",
            "_view_module": "@jupyter-widgets/base",
            "_model_module_version": "1.5.0",
            "_view_count": null,
            "_view_module_version": "1.2.0",
            "_model_module": "@jupyter-widgets/controls"
          }
        },
        "f5e5e653c80949869546c1310ac499a8": {
          "model_module": "@jupyter-widgets/base",
          "model_name": "LayoutModel",
          "state": {
            "_view_name": "LayoutView",
            "grid_template_rows": null,
            "right": null,
            "justify_content": null,
            "_view_module": "@jupyter-widgets/base",
            "overflow": null,
            "_model_module_version": "1.2.0",
            "_view_count": null,
            "flex_flow": null,
            "width": null,
            "min_width": null,
            "border": null,
            "align_items": null,
            "bottom": null,
            "_model_module": "@jupyter-widgets/base",
            "top": null,
            "grid_column": null,
            "overflow_y": null,
            "overflow_x": null,
            "grid_auto_flow": null,
            "grid_area": null,
            "grid_template_columns": null,
            "flex": null,
            "_model_name": "LayoutModel",
            "justify_items": null,
            "grid_row": null,
            "max_height": null,
            "align_content": null,
            "visibility": null,
            "align_self": null,
            "height": null,
            "min_height": null,
            "padding": null,
            "grid_auto_rows": null,
            "grid_gap": null,
            "max_width": null,
            "order": null,
            "_view_module_version": "1.2.0",
            "grid_template_areas": null,
            "object_position": null,
            "object_fit": null,
            "grid_auto_columns": null,
            "margin": null,
            "display": null,
            "left": null
          }
        },
        "0341befc48dd4eb38f30d4409b535aac": {
          "model_module": "@jupyter-widgets/base",
          "model_name": "LayoutModel",
          "state": {
            "_view_name": "LayoutView",
            "grid_template_rows": null,
            "right": null,
            "justify_content": null,
            "_view_module": "@jupyter-widgets/base",
            "overflow": null,
            "_model_module_version": "1.2.0",
            "_view_count": null,
            "flex_flow": null,
            "width": null,
            "min_width": null,
            "border": null,
            "align_items": null,
            "bottom": null,
            "_model_module": "@jupyter-widgets/base",
            "top": null,
            "grid_column": null,
            "overflow_y": null,
            "overflow_x": null,
            "grid_auto_flow": null,
            "grid_area": null,
            "grid_template_columns": null,
            "flex": null,
            "_model_name": "LayoutModel",
            "justify_items": null,
            "grid_row": null,
            "max_height": null,
            "align_content": null,
            "visibility": null,
            "align_self": null,
            "height": null,
            "min_height": null,
            "padding": null,
            "grid_auto_rows": null,
            "grid_gap": null,
            "max_width": null,
            "order": null,
            "_view_module_version": "1.2.0",
            "grid_template_areas": null,
            "object_position": null,
            "object_fit": null,
            "grid_auto_columns": null,
            "margin": null,
            "display": null,
            "left": null
          }
        }
      }
    }
  },
  "cells": [
    {
      "cell_type": "markdown",
      "metadata": {
        "id": "ZGrXh8KHUO8E"
      },
      "source": [
        "##**Loksabha Election 2019  Results Analysis and Prediction using Supervised Machine Learning**"
      ]
    },
    {
      "cell_type": "markdown",
      "metadata": {
        "id": "xKlUoScJUmPa"
      },
      "source": [
        "## Importing Libraries"
      ]
    },
    {
      "cell_type": "code",
      "metadata": {
        "id": "zno6JXaSQk2T"
      },
      "source": [
        "import pandas as pd\n",
        "import numpy as np\n",
        "import matplotlib.pyplot as plt\n",
        "import seaborn as sns\n"
      ],
      "execution_count": null,
      "outputs": []
    },
    {
      "cell_type": "code",
      "metadata": {
        "colab": {
          "base_uri": "https://localhost:8080/",
          "height": 411
        },
        "id": "RfAeNWtnQk2i",
        "scrolled": false,
        "outputId": "67379cc6-06c9-49fb-d0c0-473f74b11815"
      },
      "source": [
        "!pip install --upgrade jupyter_core jupyter_client\n",
        "!jupyter nbextension enable --py widgetsnbextension"
      ],
      "execution_count": null,
      "outputs": [
        {
          "output_type": "stream",
          "text": [
            "Requirement already up-to-date: jupyter_core in /usr/local/lib/python3.7/dist-packages (4.7.1)\n",
            "Collecting jupyter_client\n",
            "\u001b[?25l  Downloading https://files.pythonhosted.org/packages/77/e8/c3cf72a32a697256608d5fa96360c431adec6e1c6709ba7f13f99ff5ee04/jupyter_client-6.1.12-py3-none-any.whl (112kB)\n",
            "\r\u001b[K     |███                             | 10kB 20.7MB/s eta 0:00:01\r\u001b[K     |█████▉                          | 20kB 27.1MB/s eta 0:00:01\r\u001b[K     |████████▊                       | 30kB 32.1MB/s eta 0:00:01\r\u001b[K     |███████████▋                    | 40kB 23.6MB/s eta 0:00:01\r\u001b[K     |██████████████▌                 | 51kB 15.8MB/s eta 0:00:01\r\u001b[K     |█████████████████▍              | 61kB 13.8MB/s eta 0:00:01\r\u001b[K     |████████████████████▍           | 71kB 12.3MB/s eta 0:00:01\r\u001b[K     |███████████████████████▎        | 81kB 13.5MB/s eta 0:00:01\r\u001b[K     |██████████████████████████▏     | 92kB 14.1MB/s eta 0:00:01\r\u001b[K     |█████████████████████████████   | 102kB 12.1MB/s eta 0:00:01\r\u001b[K     |████████████████████████████████| 112kB 12.1MB/s eta 0:00:01\r\u001b[K     |████████████████████████████████| 122kB 12.1MB/s \n",
            "\u001b[?25hRequirement already satisfied, skipping upgrade: traitlets in /usr/local/lib/python3.7/dist-packages (from jupyter_core) (5.0.5)\n",
            "Requirement already satisfied, skipping upgrade: python-dateutil>=2.1 in /usr/local/lib/python3.7/dist-packages (from jupyter_client) (2.8.1)\n",
            "Requirement already satisfied, skipping upgrade: pyzmq>=13 in /usr/local/lib/python3.7/dist-packages (from jupyter_client) (22.0.3)\n",
            "Requirement already satisfied, skipping upgrade: tornado>=4.1 in /usr/local/lib/python3.7/dist-packages (from jupyter_client) (5.1.1)\n",
            "Requirement already satisfied, skipping upgrade: ipython-genutils in /usr/local/lib/python3.7/dist-packages (from traitlets->jupyter_core) (0.2.0)\n",
            "Requirement already satisfied, skipping upgrade: six>=1.5 in /usr/local/lib/python3.7/dist-packages (from python-dateutil>=2.1->jupyter_client) (1.15.0)\n",
            "Installing collected packages: jupyter-client\n",
            "  Found existing installation: jupyter-client 5.3.5\n",
            "    Uninstalling jupyter-client-5.3.5:\n",
            "      Successfully uninstalled jupyter-client-5.3.5\n",
            "Successfully installed jupyter-client-6.1.12\n"
          ],
          "name": "stdout"
        },
        {
          "output_type": "display_data",
          "data": {
            "application/vnd.colab-display-data+json": {
              "pip_warning": {
                "packages": [
                  "jupyter_client"
                ]
              }
            }
          },
          "metadata": {
            "tags": []
          }
        },
        {
          "output_type": "stream",
          "text": [
            "Enabling notebook extension jupyter-js-widgets/extension...\n",
            "      - Validating: \u001b[32mOK\u001b[0m\n"
          ],
          "name": "stdout"
        }
      ]
    },
    {
      "cell_type": "code",
      "metadata": {
        "id": "_KxM5BOHQk2m"
      },
      "source": [
        "from ipywidgets import interact, interactive, fixed, interact_manual\n",
        "import ipywidgets as widgets"
      ],
      "execution_count": null,
      "outputs": []
    },
    {
      "cell_type": "markdown",
      "metadata": {
        "id": "z91eQxbRUt5G"
      },
      "source": [
        "##Reading Dataset"
      ]
    },
    {
      "cell_type": "code",
      "metadata": {
        "id": "8rgQp3xcQk2n"
      },
      "source": [
        "df = pd.read_csv('/content/Election_2019.csv')"
      ],
      "execution_count": null,
      "outputs": []
    },
    {
      "cell_type": "code",
      "metadata": {
        "colab": {
          "base_uri": "https://localhost:8080/",
          "height": 411
        },
        "id": "Bt53Q8PyQk2o",
        "scrolled": false,
        "outputId": "2b10922c-5173-4a44-c70a-b1c56c95fc91"
      },
      "source": [
        "df.head()"
      ],
      "execution_count": null,
      "outputs": [
        {
          "output_type": "execute_result",
          "data": {
            "text/html": [
              "<div>\n",
              "<style scoped>\n",
              "    .dataframe tbody tr th:only-of-type {\n",
              "        vertical-align: middle;\n",
              "    }\n",
              "\n",
              "    .dataframe tbody tr th {\n",
              "        vertical-align: top;\n",
              "    }\n",
              "\n",
              "    .dataframe thead th {\n",
              "        text-align: right;\n",
              "    }\n",
              "</style>\n",
              "<table border=\"1\" class=\"dataframe\">\n",
              "  <thead>\n",
              "    <tr style=\"text-align: right;\">\n",
              "      <th></th>\n",
              "      <th>STATE</th>\n",
              "      <th>CONSTITUENCY</th>\n",
              "      <th>NAME</th>\n",
              "      <th>WINNER</th>\n",
              "      <th>PARTY</th>\n",
              "      <th>SYMBOL</th>\n",
              "      <th>GENDER</th>\n",
              "      <th>CRIMINAL\\nCASES</th>\n",
              "      <th>AGE</th>\n",
              "      <th>CATEGORY</th>\n",
              "      <th>EDUCATION</th>\n",
              "      <th>ASSETS</th>\n",
              "      <th>LIABILITIES</th>\n",
              "      <th>GENERAL\\nVOTES</th>\n",
              "      <th>POSTAL\\nVOTES</th>\n",
              "      <th>TOTAL\\nVOTES</th>\n",
              "      <th>OVER TOTAL ELECTORS \\nIN CONSTITUENCY</th>\n",
              "      <th>OVER TOTAL VOTES POLLED \\nIN CONSTITUENCY</th>\n",
              "      <th>TOTAL ELECTORS</th>\n",
              "    </tr>\n",
              "  </thead>\n",
              "  <tbody>\n",
              "    <tr>\n",
              "      <th>0</th>\n",
              "      <td>Telangana</td>\n",
              "      <td>ADILABAD</td>\n",
              "      <td>SOYAM BAPU RAO</td>\n",
              "      <td>1</td>\n",
              "      <td>BJP</td>\n",
              "      <td>Lotus</td>\n",
              "      <td>MALE</td>\n",
              "      <td>52</td>\n",
              "      <td>52.0</td>\n",
              "      <td>ST</td>\n",
              "      <td>12th Pass</td>\n",
              "      <td>Rs 30,99,414\\n ~ 30 Lacs+</td>\n",
              "      <td>Rs 2,31,450\\n ~ 2 Lacs+</td>\n",
              "      <td>376892</td>\n",
              "      <td>482</td>\n",
              "      <td>377374</td>\n",
              "      <td>25.330684</td>\n",
              "      <td>35.468248</td>\n",
              "      <td>1489790</td>\n",
              "    </tr>\n",
              "    <tr>\n",
              "      <th>1</th>\n",
              "      <td>Telangana</td>\n",
              "      <td>ADILABAD</td>\n",
              "      <td>Godam Nagesh</td>\n",
              "      <td>0</td>\n",
              "      <td>TRS</td>\n",
              "      <td>Car</td>\n",
              "      <td>MALE</td>\n",
              "      <td>0</td>\n",
              "      <td>54.0</td>\n",
              "      <td>ST</td>\n",
              "      <td>Post Graduate</td>\n",
              "      <td>Rs 1,84,77,888\\n ~ 1 Crore+</td>\n",
              "      <td>Rs 8,47,000\\n ~ 8 Lacs+</td>\n",
              "      <td>318665</td>\n",
              "      <td>149</td>\n",
              "      <td>318814</td>\n",
              "      <td>21.399929</td>\n",
              "      <td>29.964370</td>\n",
              "      <td>1489790</td>\n",
              "    </tr>\n",
              "    <tr>\n",
              "      <th>2</th>\n",
              "      <td>Telangana</td>\n",
              "      <td>ADILABAD</td>\n",
              "      <td>RATHOD RAMESH</td>\n",
              "      <td>0</td>\n",
              "      <td>INC</td>\n",
              "      <td>Hand</td>\n",
              "      <td>MALE</td>\n",
              "      <td>3</td>\n",
              "      <td>52.0</td>\n",
              "      <td>ST</td>\n",
              "      <td>12th Pass</td>\n",
              "      <td>Rs 3,64,91,000\\n ~ 3 Crore+</td>\n",
              "      <td>Rs 1,53,00,000\\n ~ 1 Crore+</td>\n",
              "      <td>314057</td>\n",
              "      <td>181</td>\n",
              "      <td>314238</td>\n",
              "      <td>21.092771</td>\n",
              "      <td>29.534285</td>\n",
              "      <td>1489790</td>\n",
              "    </tr>\n",
              "    <tr>\n",
              "      <th>3</th>\n",
              "      <td>Telangana</td>\n",
              "      <td>ADILABAD</td>\n",
              "      <td>NOTA</td>\n",
              "      <td>0</td>\n",
              "      <td>NOTA</td>\n",
              "      <td>NaN</td>\n",
              "      <td>NaN</td>\n",
              "      <td>NaN</td>\n",
              "      <td>NaN</td>\n",
              "      <td>NaN</td>\n",
              "      <td>NaN</td>\n",
              "      <td>NaN</td>\n",
              "      <td>NaN</td>\n",
              "      <td>13030</td>\n",
              "      <td>6</td>\n",
              "      <td>13036</td>\n",
              "      <td>0.875023</td>\n",
              "      <td>1.225214</td>\n",
              "      <td>1489790</td>\n",
              "    </tr>\n",
              "    <tr>\n",
              "      <th>4</th>\n",
              "      <td>Uttar Pradesh</td>\n",
              "      <td>AGRA</td>\n",
              "      <td>Satyapal Singh Baghel</td>\n",
              "      <td>1</td>\n",
              "      <td>BJP</td>\n",
              "      <td>Lotus</td>\n",
              "      <td>MALE</td>\n",
              "      <td>5</td>\n",
              "      <td>58.0</td>\n",
              "      <td>SC</td>\n",
              "      <td>Doctorate</td>\n",
              "      <td>Rs 7,42,74,036\\n ~ 7 Crore+</td>\n",
              "      <td>Rs 86,06,522\\n ~ 86 Lacs+</td>\n",
              "      <td>644459</td>\n",
              "      <td>2416</td>\n",
              "      <td>646875</td>\n",
              "      <td>33.383823</td>\n",
              "      <td>56.464615</td>\n",
              "      <td>1937690</td>\n",
              "    </tr>\n",
              "  </tbody>\n",
              "</table>\n",
              "</div>"
            ],
            "text/plain": [
              "           STATE  ... TOTAL ELECTORS\n",
              "0      Telangana  ...        1489790\n",
              "1      Telangana  ...        1489790\n",
              "2      Telangana  ...        1489790\n",
              "3      Telangana  ...        1489790\n",
              "4  Uttar Pradesh  ...        1937690\n",
              "\n",
              "[5 rows x 19 columns]"
            ]
          },
          "metadata": {
            "tags": []
          },
          "execution_count": 8
        }
      ]
    },
    {
      "cell_type": "markdown",
      "metadata": {
        "id": "FbS51Ro8Qk2p"
      },
      "source": [
        "# Preprocessing and  EDA"
      ]
    },
    {
      "cell_type": "code",
      "metadata": {
        "colab": {
          "base_uri": "https://localhost:8080/"
        },
        "id": "aevblM6UfYpo",
        "outputId": "b58ee2a4-c33c-4d37-c0f7-feb74103571f"
      },
      "source": [
        "df.shape"
      ],
      "execution_count": null,
      "outputs": [
        {
          "output_type": "execute_result",
          "data": {
            "text/plain": [
              "(2263, 19)"
            ]
          },
          "metadata": {
            "tags": []
          },
          "execution_count": 9
        }
      ]
    },
    {
      "cell_type": "code",
      "metadata": {
        "colab": {
          "base_uri": "https://localhost:8080/"
        },
        "id": "pv5TwVmPPrsM",
        "outputId": "66fa0bef-e589-49d4-b70a-c38d94cca517"
      },
      "source": [
        "df.info()"
      ],
      "execution_count": null,
      "outputs": [
        {
          "output_type": "stream",
          "text": [
            "<class 'pandas.core.frame.DataFrame'>\n",
            "RangeIndex: 2263 entries, 0 to 2262\n",
            "Data columns (total 19 columns):\n",
            " #   Column                                    Non-Null Count  Dtype  \n",
            "---  ------                                    --------------  -----  \n",
            " 0   STATE                                     2263 non-null   object \n",
            " 1   CONSTITUENCY                              2263 non-null   object \n",
            " 2   NAME                                      2263 non-null   object \n",
            " 3   WINNER                                    2263 non-null   int64  \n",
            " 4   PARTY                                     2263 non-null   object \n",
            " 5   SYMBOL                                    2018 non-null   object \n",
            " 6   GENDER                                    2018 non-null   object \n",
            " 7   CRIMINAL\n",
            "CASES                            2018 non-null   object \n",
            " 8   AGE                                       2018 non-null   float64\n",
            " 9   CATEGORY                                  2018 non-null   object \n",
            " 10  EDUCATION                                 2018 non-null   object \n",
            " 11  ASSETS                                    2018 non-null   object \n",
            " 12  LIABILITIES                               2018 non-null   object \n",
            " 13  GENERAL\n",
            "VOTES                             2263 non-null   int64  \n",
            " 14  POSTAL\n",
            "VOTES                              2263 non-null   int64  \n",
            " 15  TOTAL\n",
            "VOTES                               2263 non-null   int64  \n",
            " 16  OVER TOTAL ELECTORS \n",
            "IN CONSTITUENCY      2263 non-null   float64\n",
            " 17  OVER TOTAL VOTES POLLED \n",
            "IN CONSTITUENCY  2263 non-null   float64\n",
            " 18  TOTAL ELECTORS                            2263 non-null   int64  \n",
            "dtypes: float64(3), int64(5), object(11)\n",
            "memory usage: 336.0+ KB\n"
          ],
          "name": "stdout"
        }
      ]
    },
    {
      "cell_type": "code",
      "metadata": {
        "colab": {
          "base_uri": "https://localhost:8080/"
        },
        "id": "UomwI6D_Pv5D",
        "outputId": "9c092405-6bc9-4545-c7d8-4cf6cbedcd4b"
      },
      "source": [
        "df.columns"
      ],
      "execution_count": null,
      "outputs": [
        {
          "output_type": "execute_result",
          "data": {
            "text/plain": [
              "Index(['STATE', 'CONSTITUENCY', 'NAME', 'WINNER', 'PARTY', 'SYMBOL', 'GENDER',\n",
              "       'CRIMINAL\\nCASES', 'AGE', 'CATEGORY', 'EDUCATION', 'ASSETS',\n",
              "       'LIABILITIES', 'GENERAL\\nVOTES', 'POSTAL\\nVOTES', 'TOTAL\\nVOTES',\n",
              "       'OVER TOTAL ELECTORS \\nIN CONSTITUENCY',\n",
              "       'OVER TOTAL VOTES POLLED \\nIN CONSTITUENCY', 'TOTAL ELECTORS'],\n",
              "      dtype='object')"
            ]
          },
          "metadata": {
            "tags": []
          },
          "execution_count": 11
        }
      ]
    },
    {
      "cell_type": "code",
      "metadata": {
        "id": "I70iFUByQk2p"
      },
      "source": [
        "# renaming column names\n",
        "df = df.rename(columns={'CRIMINAL\\nCASES': 'CRIMINAL_CASES', 'GENERAL\\nVOTES': 'GENERAL_VOTES', 'POSTAL\\nVOTES': 'POSTAL_VOTES', 'TOTAL\\nVOTES': 'TOTAL_VOTES', 'OVER TOTAL ELECTORS \\nIN CONSTITUENCY': 'OVER_TOTAL_ELECTORS_IN_CONSTITUENCY', 'OVER TOTAL VOTES POLLED \\nIN CONSTITUENCY': 'OVER_TOTAL_VOTES_POLLED_IN_CONSTITUENCY', 'TOTAL ELECTORS': 'TOTAL_ELECTORS'})\n",
        "\n",
        "# drop rows with NA values\n",
        "df = df[df['GENDER'].notna()]\n",
        "\n",
        "# replace Nil values with 0\n",
        "df['ASSETS'] = df['ASSETS'].replace(['Nil', '`', 'Not Available'], '0')\n",
        "df['LIABILITIES'] = df['LIABILITIES'].replace(['NIL', '`', 'Not Available'], '0')\n",
        "df['CRIMINAL_CASES'] = df['CRIMINAL_CASES'].replace(['Not Available'], '0')\n",
        "\n",
        "# clean ASSETS and LIABILITIES column values\n",
        "df['ASSETS'] = df['ASSETS'].map(lambda x: x.lstrip('Rs ').split('\\n')[0].replace(',', ''))\n",
        "df['LIABILITIES'] = df['LIABILITIES'].map(lambda x: x.lstrip('Rs ').split('\\n')[0].replace(',', ''))\n",
        "\n",
        "# convert ASSETS, LIABILITIES and CRIMINAL_CASES column values into numeric\n",
        "df['ASSETS'] = df['ASSETS'].astype(str).astype(float)\n",
        "df['LIABILITIES'] = df['LIABILITIES'].astype(str).astype(float)\n",
        "df['CRIMINAL_CASES'] = df['CRIMINAL_CASES'].astype(str).astype(int)\n",
        "\n",
        "# reorder columns\n",
        "cols = df.columns.tolist()\n",
        "cols = cols[0:3] + cols[4:] + cols[3:4]\n",
        "df = df[cols]"
      ],
      "execution_count": null,
      "outputs": []
    },
    {
      "cell_type": "code",
      "metadata": {
        "colab": {
          "base_uri": "https://localhost:8080/"
        },
        "id": "KC6CzNmxQk2r",
        "outputId": "e97bd350-6eb5-42a0-fcbb-382c3673f198"
      },
      "source": [
        "df.info()"
      ],
      "execution_count": null,
      "outputs": [
        {
          "output_type": "stream",
          "text": [
            "<class 'pandas.core.frame.DataFrame'>\n",
            "Int64Index: 2018 entries, 0 to 2261\n",
            "Data columns (total 19 columns):\n",
            " #   Column                                   Non-Null Count  Dtype  \n",
            "---  ------                                   --------------  -----  \n",
            " 0   STATE                                    2018 non-null   object \n",
            " 1   CONSTITUENCY                             2018 non-null   object \n",
            " 2   NAME                                     2018 non-null   object \n",
            " 3   PARTY                                    2018 non-null   object \n",
            " 4   SYMBOL                                   2018 non-null   object \n",
            " 5   GENDER                                   2018 non-null   object \n",
            " 6   CRIMINAL_CASES                           2018 non-null   int64  \n",
            " 7   AGE                                      2018 non-null   float64\n",
            " 8   CATEGORY                                 2018 non-null   object \n",
            " 9   EDUCATION                                2018 non-null   object \n",
            " 10  ASSETS                                   2018 non-null   float64\n",
            " 11  LIABILITIES                              2018 non-null   float64\n",
            " 12  GENERAL_VOTES                            2018 non-null   int64  \n",
            " 13  POSTAL_VOTES                             2018 non-null   int64  \n",
            " 14  TOTAL_VOTES                              2018 non-null   int64  \n",
            " 15  OVER_TOTAL_ELECTORS_IN_CONSTITUENCY      2018 non-null   float64\n",
            " 16  OVER_TOTAL_VOTES_POLLED_IN_CONSTITUENCY  2018 non-null   float64\n",
            " 17  TOTAL_ELECTORS                           2018 non-null   int64  \n",
            " 18  WINNER                                   2018 non-null   int64  \n",
            "dtypes: float64(5), int64(6), object(8)\n",
            "memory usage: 315.3+ KB\n"
          ],
          "name": "stdout"
        }
      ]
    },
    {
      "cell_type": "markdown",
      "metadata": {
        "id": "fZ5OFzaYP8cw"
      },
      "source": [
        "#Visualizations"
      ]
    },
    {
      "cell_type": "code",
      "metadata": {
        "id": "4ZPy6pBxQk2t"
      },
      "source": [
        "st_con=df.groupby('STATE').apply(lambda x:x['CONSTITUENCY'].nunique()).reset_index(name='Constituency')"
      ],
      "execution_count": null,
      "outputs": []
    },
    {
      "cell_type": "code",
      "metadata": {
        "colab": {
          "base_uri": "https://localhost:8080/",
          "height": 362
        },
        "id": "UM_C-qE7Qk2u",
        "scrolled": true,
        "outputId": "fd830d9c-f2e3-43f8-a9b0-3d9341093de8"
      },
      "source": [
        "st_con = st_con.sort_values(by=['Constituency'],ascending=False)\n",
        "plt.figure(figsize=(15,5))\n",
        "plt.bar(st_con.STATE.head(10),st_con.Constituency.head(10),color = 'b', alpha = 0.3)\n",
        "plt.title('Top 10 States with highest number of Constituencies - 2019',fontsize=25)\n"
      ],
      "execution_count": null,
      "outputs": [
        {
          "output_type": "execute_result",
          "data": {
            "text/plain": [
              "Text(0.5, 1.0, 'Top 10 States with highest number of Constituencies - 2019')"
            ]
          },
          "metadata": {
            "tags": []
          },
          "execution_count": 15
        },
        {
          "output_type": "display_data",
          "data": {
            "image/png": "[encoded data removed]",
            "text/plain": [
              "<Figure size 1080x360 with 1 Axes>"
            ]
          },
          "metadata": {
            "tags": [],
            "needs_background": "light"
          }
        }
      ]
    },
    {
      "cell_type": "code",
      "metadata": {
        "colab": {
          "base_uri": "https://localhost:8080/",
          "height": 1000
        },
        "id": "eGCMCmF2Qk2v",
        "outputId": "2df1a952-27dc-46ff-bf59-7cd6bcc7a2b5"
      },
      "source": [
        "party_counts=df.groupby('STATE').apply(lambda x:x['PARTY'].nunique()).reset_index(name='party_count')\n",
        "party_counts"
      ],
      "execution_count": null,
      "outputs": [
        {
          "output_type": "execute_result",
          "data": {
            "text/html": [
              "<div>\n",
              "<style scoped>\n",
              "    .dataframe tbody tr th:only-of-type {\n",
              "        vertical-align: middle;\n",
              "    }\n",
              "\n",
              "    .dataframe tbody tr th {\n",
              "        vertical-align: top;\n",
              "    }\n",
              "\n",
              "    .dataframe thead th {\n",
              "        text-align: right;\n",
              "    }\n",
              "</style>\n",
              "<table border=\"1\" class=\"dataframe\">\n",
              "  <thead>\n",
              "    <tr style=\"text-align: right;\">\n",
              "      <th></th>\n",
              "      <th>STATE</th>\n",
              "      <th>party_count</th>\n",
              "    </tr>\n",
              "  </thead>\n",
              "  <tbody>\n",
              "    <tr>\n",
              "      <th>0</th>\n",
              "      <td>Andaman &amp; Nicobar Islands</td>\n",
              "      <td>5</td>\n",
              "    </tr>\n",
              "    <tr>\n",
              "      <th>1</th>\n",
              "      <td>Andhra Pradesh</td>\n",
              "      <td>8</td>\n",
              "    </tr>\n",
              "    <tr>\n",
              "      <th>2</th>\n",
              "      <td>Arunachal Pradesh</td>\n",
              "      <td>6</td>\n",
              "    </tr>\n",
              "    <tr>\n",
              "      <th>3</th>\n",
              "      <td>Assam</td>\n",
              "      <td>11</td>\n",
              "    </tr>\n",
              "    <tr>\n",
              "      <th>4</th>\n",
              "      <td>Bihar</td>\n",
              "      <td>43</td>\n",
              "    </tr>\n",
              "    <tr>\n",
              "      <th>5</th>\n",
              "      <td>Chandigarh</td>\n",
              "      <td>4</td>\n",
              "    </tr>\n",
              "    <tr>\n",
              "      <th>6</th>\n",
              "      <td>Chhattisgarh</td>\n",
              "      <td>9</td>\n",
              "    </tr>\n",
              "    <tr>\n",
              "      <th>7</th>\n",
              "      <td>Dadra &amp; Nagar Haveli</td>\n",
              "      <td>4</td>\n",
              "    </tr>\n",
              "    <tr>\n",
              "      <th>8</th>\n",
              "      <td>Daman &amp; Diu</td>\n",
              "      <td>3</td>\n",
              "    </tr>\n",
              "    <tr>\n",
              "      <th>9</th>\n",
              "      <td>Goa</td>\n",
              "      <td>3</td>\n",
              "    </tr>\n",
              "    <tr>\n",
              "      <th>10</th>\n",
              "      <td>Gujarat</td>\n",
              "      <td>5</td>\n",
              "    </tr>\n",
              "    <tr>\n",
              "      <th>11</th>\n",
              "      <td>Haryana</td>\n",
              "      <td>7</td>\n",
              "    </tr>\n",
              "    <tr>\n",
              "      <th>12</th>\n",
              "      <td>Himachal Pradesh</td>\n",
              "      <td>3</td>\n",
              "    </tr>\n",
              "    <tr>\n",
              "      <th>13</th>\n",
              "      <td>Jammu &amp; Kashmir</td>\n",
              "      <td>10</td>\n",
              "    </tr>\n",
              "    <tr>\n",
              "      <th>14</th>\n",
              "      <td>Jharkhand</td>\n",
              "      <td>14</td>\n",
              "    </tr>\n",
              "    <tr>\n",
              "      <th>15</th>\n",
              "      <td>Karnataka</td>\n",
              "      <td>7</td>\n",
              "    </tr>\n",
              "    <tr>\n",
              "      <th>16</th>\n",
              "      <td>Kerala</td>\n",
              "      <td>10</td>\n",
              "    </tr>\n",
              "    <tr>\n",
              "      <th>17</th>\n",
              "      <td>Lakshadweep</td>\n",
              "      <td>3</td>\n",
              "    </tr>\n",
              "    <tr>\n",
              "      <th>18</th>\n",
              "      <td>Madhya Pradesh</td>\n",
              "      <td>10</td>\n",
              "    </tr>\n",
              "    <tr>\n",
              "      <th>19</th>\n",
              "      <td>Maharashtra</td>\n",
              "      <td>15</td>\n",
              "    </tr>\n",
              "    <tr>\n",
              "      <th>20</th>\n",
              "      <td>Manipur</td>\n",
              "      <td>7</td>\n",
              "    </tr>\n",
              "    <tr>\n",
              "      <th>21</th>\n",
              "      <td>Meghalaya</td>\n",
              "      <td>4</td>\n",
              "    </tr>\n",
              "    <tr>\n",
              "      <th>22</th>\n",
              "      <td>Mizoram</td>\n",
              "      <td>4</td>\n",
              "    </tr>\n",
              "    <tr>\n",
              "      <th>23</th>\n",
              "      <td>NCT OF Delhi</td>\n",
              "      <td>4</td>\n",
              "    </tr>\n",
              "    <tr>\n",
              "      <th>24</th>\n",
              "      <td>Nagaland</td>\n",
              "      <td>3</td>\n",
              "    </tr>\n",
              "    <tr>\n",
              "      <th>25</th>\n",
              "      <td>Odisha</td>\n",
              "      <td>11</td>\n",
              "    </tr>\n",
              "    <tr>\n",
              "      <th>26</th>\n",
              "      <td>Puducherry</td>\n",
              "      <td>4</td>\n",
              "    </tr>\n",
              "    <tr>\n",
              "      <th>27</th>\n",
              "      <td>Punjab</td>\n",
              "      <td>11</td>\n",
              "    </tr>\n",
              "    <tr>\n",
              "      <th>28</th>\n",
              "      <td>Rajasthan</td>\n",
              "      <td>10</td>\n",
              "    </tr>\n",
              "    <tr>\n",
              "      <th>29</th>\n",
              "      <td>Sikkim</td>\n",
              "      <td>4</td>\n",
              "    </tr>\n",
              "    <tr>\n",
              "      <th>30</th>\n",
              "      <td>Tamil Nadu</td>\n",
              "      <td>15</td>\n",
              "    </tr>\n",
              "    <tr>\n",
              "      <th>31</th>\n",
              "      <td>Telangana</td>\n",
              "      <td>10</td>\n",
              "    </tr>\n",
              "    <tr>\n",
              "      <th>32</th>\n",
              "      <td>Tripura</td>\n",
              "      <td>4</td>\n",
              "    </tr>\n",
              "    <tr>\n",
              "      <th>33</th>\n",
              "      <td>Uttar Pradesh</td>\n",
              "      <td>16</td>\n",
              "    </tr>\n",
              "    <tr>\n",
              "      <th>34</th>\n",
              "      <td>Uttarakhand</td>\n",
              "      <td>4</td>\n",
              "    </tr>\n",
              "    <tr>\n",
              "      <th>35</th>\n",
              "      <td>West Bengal</td>\n",
              "      <td>11</td>\n",
              "    </tr>\n",
              "  </tbody>\n",
              "</table>\n",
              "</div>"
            ],
            "text/plain": [
              "                        STATE  party_count\n",
              "0   Andaman & Nicobar Islands            5\n",
              "1              Andhra Pradesh            8\n",
              "2           Arunachal Pradesh            6\n",
              "3                       Assam           11\n",
              "4                       Bihar           43\n",
              "5                  Chandigarh            4\n",
              "6                Chhattisgarh            9\n",
              "7        Dadra & Nagar Haveli            4\n",
              "8                 Daman & Diu            3\n",
              "9                         Goa            3\n",
              "10                    Gujarat            5\n",
              "11                    Haryana            7\n",
              "12           Himachal Pradesh            3\n",
              "13            Jammu & Kashmir           10\n",
              "14                  Jharkhand           14\n",
              "15                  Karnataka            7\n",
              "16                     Kerala           10\n",
              "17                Lakshadweep            3\n",
              "18             Madhya Pradesh           10\n",
              "19                Maharashtra           15\n",
              "20                    Manipur            7\n",
              "21                  Meghalaya            4\n",
              "22                    Mizoram            4\n",
              "23               NCT OF Delhi            4\n",
              "24                   Nagaland            3\n",
              "25                     Odisha           11\n",
              "26                 Puducherry            4\n",
              "27                     Punjab           11\n",
              "28                  Rajasthan           10\n",
              "29                     Sikkim            4\n",
              "30                 Tamil Nadu           15\n",
              "31                  Telangana           10\n",
              "32                    Tripura            4\n",
              "33              Uttar Pradesh           16\n",
              "34                Uttarakhand            4\n",
              "35                West Bengal           11"
            ]
          },
          "metadata": {
            "tags": []
          },
          "execution_count": 16
        }
      ]
    },
    {
      "cell_type": "code",
      "metadata": {
        "colab": {
          "base_uri": "https://localhost:8080/",
          "height": 362
        },
        "id": "rArgvLT6Qk2v",
        "outputId": "85a5bc7e-5353-49cf-a59e-204c1ef7ca8f"
      },
      "source": [
        "party_counts = party_counts.sort_values(by=['party_count'],ascending=False)\n",
        "plt.figure(figsize=(15,5))\n",
        "plt.bar(party_counts.STATE.head(10),party_counts.party_count.head(10),color = 'b', alpha = 0.3)\n",
        "plt.title('Top 10 States with highest number of parties competeting - 2019',fontsize=25)"
      ],
      "execution_count": null,
      "outputs": [
        {
          "output_type": "execute_result",
          "data": {
            "text/plain": [
              "Text(0.5, 1.0, 'Top 10 States with highest number of parties competeting - 2019')"
            ]
          },
          "metadata": {
            "tags": []
          },
          "execution_count": 17
        },
        {
          "output_type": "display_data",
          "data": {
            "image/png": "[encoded data removed]",
            "text/plain": [
              "<Figure size 1080x360 with 1 Axes>"
            ]
          },
          "metadata": {
            "tags": [],
            "needs_background": "light"
          }
        }
      ]
    },
    {
      "cell_type": "code",
      "metadata": {
        "colab": {
          "base_uri": "https://localhost:8080/"
        },
        "id": "eIOe3uxBQk2w",
        "scrolled": true,
        "outputId": "3efa2316-b838-472f-9352-77b3bb8a1550"
      },
      "source": [
        "parties = df[\"PARTY\"].value_counts()\n",
        "parties"
      ],
      "execution_count": null,
      "outputs": [
        {
          "output_type": "execute_result",
          "data": {
            "text/plain": [
              "BJP       420\n",
              "INC       413\n",
              "IND       201\n",
              "BSP       163\n",
              "CPI(M)    100\n",
              "         ... \n",
              "ASDC        1\n",
              "BLRP        1\n",
              "TJS         1\n",
              "BVA         1\n",
              "AIPF        1\n",
              "Name: PARTY, Length: 132, dtype: int64"
            ]
          },
          "metadata": {
            "tags": []
          },
          "execution_count": 18
        }
      ]
    },
    {
      "cell_type": "code",
      "metadata": {
        "colab": {
          "base_uri": "https://localhost:8080/",
          "height": 317
        },
        "id": "ZwNNC_rYQk2x",
        "outputId": "ff59fe35-075b-4e16-e25e-bb3a7e565ef0"
      },
      "source": [
        "ax = sns.countplot(data=df,x='GENDER',hue='WINNER',palette='hls')\n",
        "ax.legend(['seats lost','seats won'],frameon=False)\n",
        "plt.title(\"Gender v/s Win and Lose\", fontsize=20)"
      ],
      "execution_count": null,
      "outputs": [
        {
          "output_type": "execute_result",
          "data": {
            "text/plain": [
              "Text(0.5, 1.0, 'Gender v/s Win and Lose')"
            ]
          },
          "metadata": {
            "tags": []
          },
          "execution_count": 19
        },
        {
          "output_type": "display_data",
          "data": {
            "image/png": "[encoded data removed]",
            "text/plain": [
              "<Figure size 432x288 with 1 Axes>"
            ]
          },
          "metadata": {
            "tags": [],
            "needs_background": "light"
          }
        }
      ]
    },
    {
      "cell_type": "code",
      "metadata": {
        "colab": {
          "base_uri": "https://localhost:8080/",
          "height": 325
        },
        "id": "Phw8Ows2Qk2x",
        "outputId": "dbd80b0d-5c62-4c6f-8460-f023e0031527"
      },
      "source": [
        "ax=df['PARTY'].value_counts().head(10).plot.bar(\n",
        "figsize=(16,4),\n",
        "color='red'\n",
        ")\n",
        "plt.title(\"Top 10 parties with number of seats contesting\",fontsize=20)"
      ],
      "execution_count": null,
      "outputs": [
        {
          "output_type": "execute_result",
          "data": {
            "text/plain": [
              "Text(0.5, 1.0, 'Top 10 parties with number of seats contesting')"
            ]
          },
          "metadata": {
            "tags": []
          },
          "execution_count": 20
        },
        {
          "output_type": "display_data",
          "data": {
            "image/png": "[encoded data removed]",
            "text/plain": [
              "<Figure size 1152x288 with 1 Axes>"
            ]
          },
          "metadata": {
            "tags": [],
            "needs_background": "light"
          }
        }
      ]
    },
    {
      "cell_type": "code",
      "metadata": {
        "colab": {
          "base_uri": "https://localhost:8080/",
          "height": 430
        },
        "id": "vO50WubQQk2y",
        "outputId": "361247ef-a9a7-4e77-8bc2-d878a6774432"
      },
      "source": [
        "plt.figure(figsize=(20,8))\n",
        "sns.countplot(data=df,x='EDUCATION')"
      ],
      "execution_count": null,
      "outputs": [
        {
          "output_type": "execute_result",
          "data": {
            "text/plain": [
              "<matplotlib.axes._subplots.AxesSubplot at 0x7f4697605e50>"
            ]
          },
          "metadata": {
            "tags": []
          },
          "execution_count": 21
        },
        {
          "output_type": "display_data",
          "data": {
            "image/png": "[encoded data removed]",
            "text/plain": [
              "<Figure size 1440x576 with 1 Axes>"
            ]
          },
          "metadata": {
            "tags": [],
            "needs_background": "light"
          }
        }
      ]
    },
    {
      "cell_type": "code",
      "metadata": {
        "colab": {
          "base_uri": "https://localhost:8080/",
          "height": 317
        },
        "id": "ltYTv2kfQk2z",
        "outputId": "2dac9e75-a6ba-4e98-d860-751b3fa15306"
      },
      "source": [
        "df.describe()"
      ],
      "execution_count": null,
      "outputs": [
        {
          "output_type": "execute_result",
          "data": {
            "text/html": [
              "<div>\n",
              "<style scoped>\n",
              "    .dataframe tbody tr th:only-of-type {\n",
              "        vertical-align: middle;\n",
              "    }\n",
              "\n",
              "    .dataframe tbody tr th {\n",
              "        vertical-align: top;\n",
              "    }\n",
              "\n",
              "    .dataframe thead th {\n",
              "        text-align: right;\n",
              "    }\n",
              "</style>\n",
              "<table border=\"1\" class=\"dataframe\">\n",
              "  <thead>\n",
              "    <tr style=\"text-align: right;\">\n",
              "      <th></th>\n",
              "      <th>CRIMINAL_CASES</th>\n",
              "      <th>AGE</th>\n",
              "      <th>ASSETS</th>\n",
              "      <th>LIABILITIES</th>\n",
              "      <th>GENERAL_VOTES</th>\n",
              "      <th>POSTAL_VOTES</th>\n",
              "      <th>TOTAL_VOTES</th>\n",
              "      <th>OVER_TOTAL_ELECTORS_IN_CONSTITUENCY</th>\n",
              "      <th>OVER_TOTAL_VOTES_POLLED_IN_CONSTITUENCY</th>\n",
              "      <th>TOTAL_ELECTORS</th>\n",
              "      <th>WINNER</th>\n",
              "    </tr>\n",
              "  </thead>\n",
              "  <tbody>\n",
              "    <tr>\n",
              "      <th>count</th>\n",
              "      <td>2018.000000</td>\n",
              "      <td>2018.000000</td>\n",
              "      <td>2.018000e+03</td>\n",
              "      <td>2.018000e+03</td>\n",
              "      <td>2.018000e+03</td>\n",
              "      <td>2018.000000</td>\n",
              "      <td>2.018000e+03</td>\n",
              "      <td>2018.000000</td>\n",
              "      <td>2018.000000</td>\n",
              "      <td>2.018000e+03</td>\n",
              "      <td>2018.000000</td>\n",
              "    </tr>\n",
              "    <tr>\n",
              "      <th>mean</th>\n",
              "      <td>1.453915</td>\n",
              "      <td>52.273538</td>\n",
              "      <td>1.315849e+08</td>\n",
              "      <td>1.973860e+07</td>\n",
              "      <td>2.911903e+05</td>\n",
              "      <td>1105.111001</td>\n",
              "      <td>2.922954e+05</td>\n",
              "      <td>17.596810</td>\n",
              "      <td>25.808492</td>\n",
              "      <td>1.660261e+06</td>\n",
              "      <td>0.267096</td>\n",
              "    </tr>\n",
              "    <tr>\n",
              "      <th>std</th>\n",
              "      <td>7.636973</td>\n",
              "      <td>11.869373</td>\n",
              "      <td>4.122697e+08</td>\n",
              "      <td>8.945292e+07</td>\n",
              "      <td>2.545964e+05</td>\n",
              "      <td>1661.283371</td>\n",
              "      <td>2.555874e+05</td>\n",
              "      <td>14.886247</td>\n",
              "      <td>21.403985</td>\n",
              "      <td>3.164246e+05</td>\n",
              "      <td>0.442553</td>\n",
              "    </tr>\n",
              "    <tr>\n",
              "      <th>min</th>\n",
              "      <td>0.000000</td>\n",
              "      <td>25.000000</td>\n",
              "      <td>0.000000e+00</td>\n",
              "      <td>0.000000e+00</td>\n",
              "      <td>1.339000e+03</td>\n",
              "      <td>0.000000</td>\n",
              "      <td>1.342000e+03</td>\n",
              "      <td>0.097941</td>\n",
              "      <td>1.000039</td>\n",
              "      <td>5.518900e+04</td>\n",
              "      <td>0.000000</td>\n",
              "    </tr>\n",
              "    <tr>\n",
              "      <th>25%</th>\n",
              "      <td>0.000000</td>\n",
              "      <td>43.250000</td>\n",
              "      <td>6.272526e+06</td>\n",
              "      <td>0.000000e+00</td>\n",
              "      <td>3.047625e+04</td>\n",
              "      <td>97.000000</td>\n",
              "      <td>3.074375e+04</td>\n",
              "      <td>1.953617</td>\n",
              "      <td>2.870669</td>\n",
              "      <td>1.530404e+06</td>\n",
              "      <td>0.000000</td>\n",
              "    </tr>\n",
              "    <tr>\n",
              "      <th>50%</th>\n",
              "      <td>0.000000</td>\n",
              "      <td>52.000000</td>\n",
              "      <td>2.404181e+07</td>\n",
              "      <td>9.039245e+05</td>\n",
              "      <td>2.846300e+05</td>\n",
              "      <td>463.000000</td>\n",
              "      <td>2.855250e+05</td>\n",
              "      <td>18.036861</td>\n",
              "      <td>27.749894</td>\n",
              "      <td>1.679891e+06</td>\n",
              "      <td>0.000000</td>\n",
              "    </tr>\n",
              "    <tr>\n",
              "      <th>75%</th>\n",
              "      <td>1.000000</td>\n",
              "      <td>61.000000</td>\n",
              "      <td>9.152498e+07</td>\n",
              "      <td>6.097971e+06</td>\n",
              "      <td>5.058620e+05</td>\n",
              "      <td>1545.500000</td>\n",
              "      <td>5.076175e+05</td>\n",
              "      <td>30.708115</td>\n",
              "      <td>44.349684</td>\n",
              "      <td>1.823404e+06</td>\n",
              "      <td>1.000000</td>\n",
              "    </tr>\n",
              "    <tr>\n",
              "      <th>max</th>\n",
              "      <td>240.000000</td>\n",
              "      <td>86.000000</td>\n",
              "      <td>8.950179e+09</td>\n",
              "      <td>1.547511e+09</td>\n",
              "      <td>1.066824e+06</td>\n",
              "      <td>19367.000000</td>\n",
              "      <td>1.068569e+06</td>\n",
              "      <td>51.951012</td>\n",
              "      <td>74.411856</td>\n",
              "      <td>3.150313e+06</td>\n",
              "      <td>1.000000</td>\n",
              "    </tr>\n",
              "  </tbody>\n",
              "</table>\n",
              "</div>"
            ],
            "text/plain": [
              "       CRIMINAL_CASES          AGE  ...  TOTAL_ELECTORS       WINNER\n",
              "count     2018.000000  2018.000000  ...    2.018000e+03  2018.000000\n",
              "mean         1.453915    52.273538  ...    1.660261e+06     0.267096\n",
              "std          7.636973    11.869373  ...    3.164246e+05     0.442553\n",
              "min          0.000000    25.000000  ...    5.518900e+04     0.000000\n",
              "25%          0.000000    43.250000  ...    1.530404e+06     0.000000\n",
              "50%          0.000000    52.000000  ...    1.679891e+06     0.000000\n",
              "75%          1.000000    61.000000  ...    1.823404e+06     1.000000\n",
              "max        240.000000    86.000000  ...    3.150313e+06     1.000000\n",
              "\n",
              "[8 rows x 11 columns]"
            ]
          },
          "metadata": {
            "tags": []
          },
          "execution_count": 22
        }
      ]
    },
    {
      "cell_type": "markdown",
      "metadata": {
        "id": "bt4pATDPQkG8"
      },
      "source": [
        "From above we can notice that minimum age of a candidate is 25"
      ]
    },
    {
      "cell_type": "code",
      "metadata": {
        "id": "kuykDzs-Qk20"
      },
      "source": [
        "numerics = ['int16', 'int32', 'int64', 'float16', 'float32', 'float64']\n",
        "\n",
        "num_df = df.select_dtypes(include=numerics)"
      ],
      "execution_count": null,
      "outputs": []
    },
    {
      "cell_type": "code",
      "metadata": {
        "colab": {
          "base_uri": "https://localhost:8080/",
          "height": 224
        },
        "id": "emGN4j7xQk21",
        "outputId": "d7c2c86a-9d3c-453d-9280-446434906d64"
      },
      "source": [
        "num_df.head()"
      ],
      "execution_count": null,
      "outputs": [
        {
          "output_type": "execute_result",
          "data": {
            "text/html": [
              "<div>\n",
              "<style scoped>\n",
              "    .dataframe tbody tr th:only-of-type {\n",
              "        vertical-align: middle;\n",
              "    }\n",
              "\n",
              "    .dataframe tbody tr th {\n",
              "        vertical-align: top;\n",
              "    }\n",
              "\n",
              "    .dataframe thead th {\n",
              "        text-align: right;\n",
              "    }\n",
              "</style>\n",
              "<table border=\"1\" class=\"dataframe\">\n",
              "  <thead>\n",
              "    <tr style=\"text-align: right;\">\n",
              "      <th></th>\n",
              "      <th>CRIMINAL_CASES</th>\n",
              "      <th>AGE</th>\n",
              "      <th>ASSETS</th>\n",
              "      <th>LIABILITIES</th>\n",
              "      <th>GENERAL_VOTES</th>\n",
              "      <th>POSTAL_VOTES</th>\n",
              "      <th>TOTAL_VOTES</th>\n",
              "      <th>OVER_TOTAL_ELECTORS_IN_CONSTITUENCY</th>\n",
              "      <th>OVER_TOTAL_VOTES_POLLED_IN_CONSTITUENCY</th>\n",
              "      <th>TOTAL_ELECTORS</th>\n",
              "      <th>WINNER</th>\n",
              "    </tr>\n",
              "  </thead>\n",
              "  <tbody>\n",
              "    <tr>\n",
              "      <th>0</th>\n",
              "      <td>52</td>\n",
              "      <td>52.0</td>\n",
              "      <td>3099414.0</td>\n",
              "      <td>231450.0</td>\n",
              "      <td>376892</td>\n",
              "      <td>482</td>\n",
              "      <td>377374</td>\n",
              "      <td>25.330684</td>\n",
              "      <td>35.468248</td>\n",
              "      <td>1489790</td>\n",
              "      <td>1</td>\n",
              "    </tr>\n",
              "    <tr>\n",
              "      <th>1</th>\n",
              "      <td>0</td>\n",
              "      <td>54.0</td>\n",
              "      <td>18477888.0</td>\n",
              "      <td>847000.0</td>\n",
              "      <td>318665</td>\n",
              "      <td>149</td>\n",
              "      <td>318814</td>\n",
              "      <td>21.399929</td>\n",
              "      <td>29.964370</td>\n",
              "      <td>1489790</td>\n",
              "      <td>0</td>\n",
              "    </tr>\n",
              "    <tr>\n",
              "      <th>2</th>\n",
              "      <td>3</td>\n",
              "      <td>52.0</td>\n",
              "      <td>36491000.0</td>\n",
              "      <td>15300000.0</td>\n",
              "      <td>314057</td>\n",
              "      <td>181</td>\n",
              "      <td>314238</td>\n",
              "      <td>21.092771</td>\n",
              "      <td>29.534285</td>\n",
              "      <td>1489790</td>\n",
              "      <td>0</td>\n",
              "    </tr>\n",
              "    <tr>\n",
              "      <th>4</th>\n",
              "      <td>5</td>\n",
              "      <td>58.0</td>\n",
              "      <td>74274036.0</td>\n",
              "      <td>8606522.0</td>\n",
              "      <td>644459</td>\n",
              "      <td>2416</td>\n",
              "      <td>646875</td>\n",
              "      <td>33.383823</td>\n",
              "      <td>56.464615</td>\n",
              "      <td>1937690</td>\n",
              "      <td>1</td>\n",
              "    </tr>\n",
              "    <tr>\n",
              "      <th>5</th>\n",
              "      <td>0</td>\n",
              "      <td>47.0</td>\n",
              "      <td>133784385.0</td>\n",
              "      <td>22251891.0</td>\n",
              "      <td>434199</td>\n",
              "      <td>1130</td>\n",
              "      <td>435329</td>\n",
              "      <td>22.466390</td>\n",
              "      <td>37.999125</td>\n",
              "      <td>1937690</td>\n",
              "      <td>0</td>\n",
              "    </tr>\n",
              "  </tbody>\n",
              "</table>\n",
              "</div>"
            ],
            "text/plain": [
              "   CRIMINAL_CASES   AGE  ...  TOTAL_ELECTORS  WINNER\n",
              "0              52  52.0  ...         1489790       1\n",
              "1               0  54.0  ...         1489790       0\n",
              "2               3  52.0  ...         1489790       0\n",
              "4               5  58.0  ...         1937690       1\n",
              "5               0  47.0  ...         1937690       0\n",
              "\n",
              "[5 rows x 11 columns]"
            ]
          },
          "metadata": {
            "tags": []
          },
          "execution_count": 24
        }
      ]
    },
    {
      "cell_type": "code",
      "metadata": {
        "colab": {
          "base_uri": "https://localhost:8080/",
          "height": 335,
          "referenced_widgets": [
            "c7236a26c81443e8ace449b0cf48a39e",
            "03250304823a4c28be953a8fc53ac672",
            "adbc965c54af4e7cbe9130da6b522002",
            "13255b50c6f14e2c8602cb063bd0712f",
            "58dd24f6074e4ac1a3e50c0e39f1583f",
            "f5e5e653c80949869546c1310ac499a8",
            "0341befc48dd4eb38f30d4409b535aac"
          ]
        },
        "id": "0SubHQ49Qk21",
        "outputId": "b87e7d63-a2bd-4a90-b191-d8506c852ab0"
      },
      "source": [
        "def f(x):\n",
        "    global df\n",
        "    plt.hist(df[x])\n",
        "    plt.title(\"Distribution\",fontsize=20)\n",
        "interact(f,x=num_df) "
      ],
      "execution_count": null,
      "outputs": [
        {
          "output_type": "display_data",
          "data": {
            "application/vnd.jupyter.widget-view+json": {
              "model_id": "c7236a26c81443e8ace449b0cf48a39e",
              "version_minor": 0,
              "version_major": 2
            },
            "text/plain": [
              "interactive(children=(Dropdown(description='x', options=('CRIMINAL_CASES', 'AGE', 'ASSETS', 'LIABILITIES', 'GE…"
            ]
          },
          "metadata": {
            "tags": []
          }
        },
        {
          "output_type": "execute_result",
          "data": {
            "text/plain": [
              "<function __main__.f>"
            ]
          },
          "metadata": {
            "tags": []
          },
          "execution_count": 25
        }
      ]
    },
    {
      "cell_type": "code",
      "metadata": {
        "colab": {
          "base_uri": "https://localhost:8080/",
          "height": 401
        },
        "id": "tefwY9rOQk23",
        "scrolled": true,
        "outputId": "a71097e0-348b-4e33-95f2-222ac76d86f6"
      },
      "source": [
        "print(df['WINNER'].value_counts())\n",
        "sns.countplot(\"WINNER\",data=df)"
      ],
      "execution_count": null,
      "outputs": [
        {
          "output_type": "stream",
          "text": [
            "0    1479\n",
            "1     539\n",
            "Name: WINNER, dtype: int64\n"
          ],
          "name": "stdout"
        },
        {
          "output_type": "stream",
          "text": [
            "/usr/local/lib/python3.7/dist-packages/seaborn/_decorators.py:43: FutureWarning: Pass the following variable as a keyword arg: x. From version 0.12, the only valid positional argument will be `data`, and passing other arguments without an explicit keyword will result in an error or misinterpretation.\n",
            "  FutureWarning\n"
          ],
          "name": "stderr"
        },
        {
          "output_type": "execute_result",
          "data": {
            "text/plain": [
              "<matplotlib.axes._subplots.AxesSubplot at 0x7f46974ad350>"
            ]
          },
          "metadata": {
            "tags": []
          },
          "execution_count": 26
        },
        {
          "output_type": "display_data",
          "data": {
            "image/png": "[encoded data removed]",
            "text/plain": [
              "<Figure size 432x288 with 1 Axes>"
            ]
          },
          "metadata": {
            "tags": [],
            "needs_background": "light"
          }
        }
      ]
    },
    {
      "cell_type": "code",
      "metadata": {
        "id": "Dt-F9Z2yQk23"
      },
      "source": [
        "winparty = df[df['WINNER']==1]\n"
      ],
      "execution_count": null,
      "outputs": []
    },
    {
      "cell_type": "code",
      "metadata": {
        "colab": {
          "base_uri": "https://localhost:8080/",
          "height": 448
        },
        "id": "XuSYpuFOQk24",
        "scrolled": false,
        "outputId": "e7686b40-73af-42d5-e784-626062c5bb7b"
      },
      "source": [
        "ax=winparty['PARTY'].value_counts().head(10).plot.bar(\n",
        "figsize=(20,8),\n",
        "color='red'\n",
        ")\n",
        "plt.title(\"Top 10 parties with number of most seats won\",fontsize=20)"
      ],
      "execution_count": null,
      "outputs": [
        {
          "output_type": "execute_result",
          "data": {
            "text/plain": [
              "Text(0.5, 1.0, 'Top 10 parties with number of most seats won')"
            ]
          },
          "metadata": {
            "tags": []
          },
          "execution_count": 28
        },
        {
          "output_type": "display_data",
          "data": {
            "image/png": "[encoded data removed]",
            "text/plain": [
              "<Figure size 1440x576 with 1 Axes>"
            ]
          },
          "metadata": {
            "tags": [],
            "needs_background": "light"
          }
        }
      ]
    },
    {
      "cell_type": "code",
      "metadata": {
        "colab": {
          "base_uri": "https://localhost:8080/",
          "height": 286
        },
        "id": "YsdXhUCtQk24",
        "outputId": "45d377da-a1af-4cb4-b55f-c2f630310a5c"
      },
      "source": [
        "ax = winparty['PARTY'].value_counts().head(10)\n",
        "ax.plot.pie()\n",
        "plt.title(\"Pie Chart for Top 10 parties with most seats Won\",fontsize=20)"
      ],
      "execution_count": null,
      "outputs": [
        {
          "output_type": "execute_result",
          "data": {
            "text/plain": [
              "Text(0.5, 1.0, 'Pie Chart for Top 10 parties with most seats Won')"
            ]
          },
          "metadata": {
            "tags": []
          },
          "execution_count": 29
        },
        {
          "output_type": "display_data",
          "data": {
            "image/png": "[encoded data removed]",
            "text/plain": [
              "<Figure size 432x288 with 1 Axes>"
            ]
          },
          "metadata": {
            "tags": []
          }
        }
      ]
    },
    {
      "cell_type": "code",
      "metadata": {
        "colab": {
          "base_uri": "https://localhost:8080/",
          "height": 447
        },
        "id": "r8GGLRNwQk25",
        "scrolled": false,
        "outputId": "2c61efec-70cc-4ab8-c50f-94f695dc44ee"
      },
      "source": [
        "plt.figure(figsize=(20,8))\n",
        "sns.countplot(data=df,x='EDUCATION')\n",
        "plt.title(\"Qualification of candidates\",fontsize=20)"
      ],
      "execution_count": null,
      "outputs": [
        {
          "output_type": "execute_result",
          "data": {
            "text/plain": [
              "Text(0.5, 1.0, 'Qualification of candidates')"
            ]
          },
          "metadata": {
            "tags": []
          },
          "execution_count": 30
        },
        {
          "output_type": "display_data",
          "data": {
            "image/png": "[encoded data removed]",
            "text/plain": [
              "<Figure size 1440x576 with 1 Axes>"
            ]
          },
          "metadata": {
            "tags": [],
            "needs_background": "light"
          }
        }
      ]
    },
    {
      "cell_type": "code",
      "metadata": {
        "colab": {
          "base_uri": "https://localhost:8080/",
          "height": 447
        },
        "id": "tXYlscmNQk26",
        "scrolled": false,
        "outputId": "42e8d84e-5cb6-45d7-847a-c5f7bd167eb4"
      },
      "source": [
        "plt.figure(figsize=(20,8))\n",
        "sns.countplot(data=winparty,x='EDUCATION')\n",
        "plt.title(\"Qualification of elected candidates\",fontsize=20)"
      ],
      "execution_count": null,
      "outputs": [
        {
          "output_type": "execute_result",
          "data": {
            "text/plain": [
              "Text(0.5, 1.0, 'Qualification of elected candidates')"
            ]
          },
          "metadata": {
            "tags": []
          },
          "execution_count": 31
        },
        {
          "output_type": "display_data",
          "data": {
            "image/png": "[encoded data removed]",
            "text/plain": [
              "<Figure size 1440x576 with 1 Axes>"
            ]
          },
          "metadata": {
            "tags": [],
            "needs_background": "light"
          }
        }
      ]
    },
    {
      "cell_type": "code",
      "metadata": {
        "id": "-xetvOulQk28"
      },
      "source": [
        "party_df = df.drop(['CONSTITUENCY','NAME', 'PARTY', 'SYMBOL', 'GENDER','CATEGORY', 'EDUCATION','AGE','ASSETS', 'LIABILITIES'],axis=1)"
      ],
      "execution_count": null,
      "outputs": []
    },
    {
      "cell_type": "code",
      "metadata": {
        "id": "N9DT4Ng-Qk28"
      },
      "source": [
        "party_counts=party_df.groupby('STATE').sum('all').reset_index()"
      ],
      "execution_count": null,
      "outputs": []
    },
    {
      "cell_type": "code",
      "metadata": {
        "id": "LPdOPuEkQk29"
      },
      "source": [
        "crime = party_counts.sort_values(by='CRIMINAL_CASES',ascending=False)\n"
      ],
      "execution_count": null,
      "outputs": []
    },
    {
      "cell_type": "code",
      "metadata": {
        "colab": {
          "base_uri": "https://localhost:8080/",
          "height": 358
        },
        "id": "2RkSDvz5Qk29",
        "scrolled": false,
        "outputId": "a19cec7c-8238-4aa4-90dd-d07d57f6c5b9"
      },
      "source": [
        "plt.figure(figsize=(15,5))\n",
        "plt.bar(crime.STATE.head(10),crime.CRIMINAL_CASES.head(10),color = 'b', alpha = 0.3)\n",
        "plt.title(\"Top 10 States with most number of criminal cases for candidates - 2019 Election \",fontsize=20)"
      ],
      "execution_count": null,
      "outputs": [
        {
          "output_type": "execute_result",
          "data": {
            "text/plain": [
              "Text(0.5, 1.0, 'Top 10 States with most number of criminal cases for candidates - 2019 Election ')"
            ]
          },
          "metadata": {
            "tags": []
          },
          "execution_count": 35
        },
        {
          "output_type": "display_data",
          "data": {
            "image/png": "[encoded data removed]",
            "text/plain": [
              "<Figure size 1080x360 with 1 Axes>"
            ]
          },
          "metadata": {
            "tags": [],
            "needs_background": "light"
          }
        }
      ]
    },
    {
      "cell_type": "code",
      "metadata": {
        "id": "D4NXYgIvQk2-"
      },
      "source": [
        "winner_crime = df[df['WINNER']==1]\n",
        "winner_crime=winner_crime.groupby('STATE').sum('CRIMINAL_CASES').reset_index()\n",
        "winner_crime=winner_crime.sort_values(by='CRIMINAL_CASES',ascending=False)"
      ],
      "execution_count": null,
      "outputs": []
    },
    {
      "cell_type": "code",
      "metadata": {
        "colab": {
          "base_uri": "https://localhost:8080/",
          "height": 358
        },
        "id": "FuCG0VTIQk2-",
        "outputId": "a4b56ef6-1a0a-4f36-861f-b013f11cb9ba"
      },
      "source": [
        "plt.figure(figsize=(15,5))\n",
        "plt.bar(winner_crime.STATE.head(10),winner_crime.CRIMINAL_CASES.head(10),color = 'b', alpha = 0.3)\n",
        "plt.title(\"Top 10 States with most number of criminal cases for winning candidates - 2019 Election \",fontsize=20)"
      ],
      "execution_count": null,
      "outputs": [
        {
          "output_type": "execute_result",
          "data": {
            "text/plain": [
              "Text(0.5, 1.0, 'Top 10 States with most number of criminal cases for winning candidates - 2019 Election ')"
            ]
          },
          "metadata": {
            "tags": []
          },
          "execution_count": 37
        },
        {
          "output_type": "display_data",
          "data": {
            "image/png": "[encoded data removed]",
            "text/plain": [
              "<Figure size 1080x360 with 1 Axes>"
            ]
          },
          "metadata": {
            "tags": [],
            "needs_background": "light"
          }
        }
      ]
    },
    {
      "cell_type": "code",
      "metadata": {
        "id": "0zMolzxuQk2_"
      },
      "source": [
        "party_criminal = {}\n",
        "gk = df.groupby('PARTY')\n",
        "for name,group in gk:\n",
        "    party_criminal[name] = group['CRIMINAL_CASES'].sum()"
      ],
      "execution_count": null,
      "outputs": []
    },
    {
      "cell_type": "code",
      "metadata": {
        "id": "oi0XPJzEQk2_"
      },
      "source": [
        "party_criminal=pd.DataFrame(party_criminal.items(), columns=['Party', 'criminal_cases'])"
      ],
      "execution_count": null,
      "outputs": []
    },
    {
      "cell_type": "code",
      "metadata": {
        "id": "AJAOBTY3Qk3A"
      },
      "source": [
        "party_criminal = party_criminal.sort_values(by=['criminal_cases'],ascending=False)"
      ],
      "execution_count": null,
      "outputs": []
    },
    {
      "cell_type": "code",
      "metadata": {
        "colab": {
          "base_uri": "https://localhost:8080/",
          "height": 358
        },
        "id": "irWhtzJDQk3A",
        "scrolled": false,
        "outputId": "a6f4287d-acc2-4e3f-b415-c5a79b3ddd06"
      },
      "source": [
        "plt.figure(figsize=(15,5))\n",
        "plt.bar(party_criminal.Party.head(10),party_criminal.criminal_cases.head(10),color = 'red', alpha = 0.3)\n",
        "plt.title(\"Top 10 Parties with most number of criminal cases\",fontsize=20)"
      ],
      "execution_count": null,
      "outputs": [
        {
          "output_type": "execute_result",
          "data": {
            "text/plain": [
              "Text(0.5, 1.0, 'Top 10 Parties with most number of criminal cases')"
            ]
          },
          "metadata": {
            "tags": []
          },
          "execution_count": 41
        },
        {
          "output_type": "display_data",
          "data": {
            "image/png": "[encoded data removed]",
            "text/plain": [
              "<Figure size 1080x360 with 1 Axes>"
            ]
          },
          "metadata": {
            "tags": [],
            "needs_background": "light"
          }
        }
      ]
    },
    {
      "cell_type": "code",
      "metadata": {
        "colab": {
          "base_uri": "https://localhost:8080/",
          "height": 410
        },
        "id": "J94-PC-9Qk3B",
        "outputId": "e9765fc9-0903-45e7-c838-b2cdf3d87a0c"
      },
      "source": [
        "df.corr()"
      ],
      "execution_count": null,
      "outputs": [
        {
          "output_type": "execute_result",
          "data": {
            "text/html": [
              "<div>\n",
              "<style scoped>\n",
              "    .dataframe tbody tr th:only-of-type {\n",
              "        vertical-align: middle;\n",
              "    }\n",
              "\n",
              "    .dataframe tbody tr th {\n",
              "        vertical-align: top;\n",
              "    }\n",
              "\n",
              "    .dataframe thead th {\n",
              "        text-align: right;\n",
              "    }\n",
              "</style>\n",
              "<table border=\"1\" class=\"dataframe\">\n",
              "  <thead>\n",
              "    <tr style=\"text-align: right;\">\n",
              "      <th></th>\n",
              "      <th>CRIMINAL_CASES</th>\n",
              "      <th>AGE</th>\n",
              "      <th>ASSETS</th>\n",
              "      <th>LIABILITIES</th>\n",
              "      <th>GENERAL_VOTES</th>\n",
              "      <th>POSTAL_VOTES</th>\n",
              "      <th>TOTAL_VOTES</th>\n",
              "      <th>OVER_TOTAL_ELECTORS_IN_CONSTITUENCY</th>\n",
              "      <th>OVER_TOTAL_VOTES_POLLED_IN_CONSTITUENCY</th>\n",
              "      <th>TOTAL_ELECTORS</th>\n",
              "      <th>WINNER</th>\n",
              "    </tr>\n",
              "  </thead>\n",
              "  <tbody>\n",
              "    <tr>\n",
              "      <th>CRIMINAL_CASES</th>\n",
              "      <td>1.000000</td>\n",
              "      <td>-0.018752</td>\n",
              "      <td>-0.002315</td>\n",
              "      <td>0.002672</td>\n",
              "      <td>0.047591</td>\n",
              "      <td>0.010010</td>\n",
              "      <td>0.047471</td>\n",
              "      <td>0.060339</td>\n",
              "      <td>0.056959</td>\n",
              "      <td>-0.012796</td>\n",
              "      <td>0.035990</td>\n",
              "    </tr>\n",
              "    <tr>\n",
              "      <th>AGE</th>\n",
              "      <td>-0.018752</td>\n",
              "      <td>1.000000</td>\n",
              "      <td>0.094521</td>\n",
              "      <td>0.035221</td>\n",
              "      <td>0.208567</td>\n",
              "      <td>0.129360</td>\n",
              "      <td>0.208600</td>\n",
              "      <td>0.207304</td>\n",
              "      <td>0.223700</td>\n",
              "      <td>0.021083</td>\n",
              "      <td>0.110294</td>\n",
              "    </tr>\n",
              "    <tr>\n",
              "      <th>ASSETS</th>\n",
              "      <td>-0.002315</td>\n",
              "      <td>0.094521</td>\n",
              "      <td>1.000000</td>\n",
              "      <td>0.568523</td>\n",
              "      <td>0.179242</td>\n",
              "      <td>0.108270</td>\n",
              "      <td>0.179251</td>\n",
              "      <td>0.166518</td>\n",
              "      <td>0.171897</td>\n",
              "      <td>0.073806</td>\n",
              "      <td>0.113585</td>\n",
              "    </tr>\n",
              "    <tr>\n",
              "      <th>LIABILITIES</th>\n",
              "      <td>0.002672</td>\n",
              "      <td>0.035221</td>\n",
              "      <td>0.568523</td>\n",
              "      <td>1.000000</td>\n",
              "      <td>0.136556</td>\n",
              "      <td>0.162972</td>\n",
              "      <td>0.137086</td>\n",
              "      <td>0.136384</td>\n",
              "      <td>0.136204</td>\n",
              "      <td>0.024895</td>\n",
              "      <td>0.109456</td>\n",
              "    </tr>\n",
              "    <tr>\n",
              "      <th>GENERAL_VOTES</th>\n",
              "      <td>0.047591</td>\n",
              "      <td>0.208567</td>\n",
              "      <td>0.179242</td>\n",
              "      <td>0.136556</td>\n",
              "      <td>1.000000</td>\n",
              "      <td>0.594395</td>\n",
              "      <td>0.999986</td>\n",
              "      <td>0.957413</td>\n",
              "      <td>0.958186</td>\n",
              "      <td>0.227139</td>\n",
              "      <td>0.714533</td>\n",
              "    </tr>\n",
              "    <tr>\n",
              "      <th>POSTAL_VOTES</th>\n",
              "      <td>0.010010</td>\n",
              "      <td>0.129360</td>\n",
              "      <td>0.108270</td>\n",
              "      <td>0.162972</td>\n",
              "      <td>0.594395</td>\n",
              "      <td>1.000000</td>\n",
              "      <td>0.598591</td>\n",
              "      <td>0.609817</td>\n",
              "      <td>0.614288</td>\n",
              "      <td>0.036731</td>\n",
              "      <td>0.500400</td>\n",
              "    </tr>\n",
              "    <tr>\n",
              "      <th>TOTAL_VOTES</th>\n",
              "      <td>0.047471</td>\n",
              "      <td>0.208600</td>\n",
              "      <td>0.179251</td>\n",
              "      <td>0.137086</td>\n",
              "      <td>0.999986</td>\n",
              "      <td>0.598591</td>\n",
              "      <td>1.000000</td>\n",
              "      <td>0.957664</td>\n",
              "      <td>0.958464</td>\n",
              "      <td>0.226497</td>\n",
              "      <td>0.715015</td>\n",
              "    </tr>\n",
              "    <tr>\n",
              "      <th>OVER_TOTAL_ELECTORS_IN_CONSTITUENCY</th>\n",
              "      <td>0.060339</td>\n",
              "      <td>0.207304</td>\n",
              "      <td>0.166518</td>\n",
              "      <td>0.136384</td>\n",
              "      <td>0.957413</td>\n",
              "      <td>0.609817</td>\n",
              "      <td>0.957664</td>\n",
              "      <td>1.000000</td>\n",
              "      <td>0.974384</td>\n",
              "      <td>0.003023</td>\n",
              "      <td>0.729544</td>\n",
              "    </tr>\n",
              "    <tr>\n",
              "      <th>OVER_TOTAL_VOTES_POLLED_IN_CONSTITUENCY</th>\n",
              "      <td>0.056959</td>\n",
              "      <td>0.223700</td>\n",
              "      <td>0.171897</td>\n",
              "      <td>0.136204</td>\n",
              "      <td>0.958186</td>\n",
              "      <td>0.614288</td>\n",
              "      <td>0.958464</td>\n",
              "      <td>0.974384</td>\n",
              "      <td>1.000000</td>\n",
              "      <td>0.073187</td>\n",
              "      <td>0.749932</td>\n",
              "    </tr>\n",
              "    <tr>\n",
              "      <th>TOTAL_ELECTORS</th>\n",
              "      <td>-0.012796</td>\n",
              "      <td>0.021083</td>\n",
              "      <td>0.073806</td>\n",
              "      <td>0.024895</td>\n",
              "      <td>0.227139</td>\n",
              "      <td>0.036731</td>\n",
              "      <td>0.226497</td>\n",
              "      <td>0.003023</td>\n",
              "      <td>0.073187</td>\n",
              "      <td>1.000000</td>\n",
              "      <td>0.036610</td>\n",
              "    </tr>\n",
              "    <tr>\n",
              "      <th>WINNER</th>\n",
              "      <td>0.035990</td>\n",
              "      <td>0.110294</td>\n",
              "      <td>0.113585</td>\n",
              "      <td>0.109456</td>\n",
              "      <td>0.714533</td>\n",
              "      <td>0.500400</td>\n",
              "      <td>0.715015</td>\n",
              "      <td>0.729544</td>\n",
              "      <td>0.749932</td>\n",
              "      <td>0.036610</td>\n",
              "      <td>1.000000</td>\n",
              "    </tr>\n",
              "  </tbody>\n",
              "</table>\n",
              "</div>"
            ],
            "text/plain": [
              "                                         CRIMINAL_CASES  ...    WINNER\n",
              "CRIMINAL_CASES                                 1.000000  ...  0.035990\n",
              "AGE                                           -0.018752  ...  0.110294\n",
              "ASSETS                                        -0.002315  ...  0.113585\n",
              "LIABILITIES                                    0.002672  ...  0.109456\n",
              "GENERAL_VOTES                                  0.047591  ...  0.714533\n",
              "POSTAL_VOTES                                   0.010010  ...  0.500400\n",
              "TOTAL_VOTES                                    0.047471  ...  0.715015\n",
              "OVER_TOTAL_ELECTORS_IN_CONSTITUENCY            0.060339  ...  0.729544\n",
              "OVER_TOTAL_VOTES_POLLED_IN_CONSTITUENCY        0.056959  ...  0.749932\n",
              "TOTAL_ELECTORS                                -0.012796  ...  0.036610\n",
              "WINNER                                         0.035990  ...  1.000000\n",
              "\n",
              "[11 rows x 11 columns]"
            ]
          },
          "metadata": {
            "tags": []
          },
          "execution_count": 42
        }
      ]
    },
    {
      "cell_type": "markdown",
      "metadata": {
        "id": "KXhx_g1tQ_IL"
      },
      "source": [
        "Dropping unnecessary columns "
      ]
    },
    {
      "cell_type": "code",
      "metadata": {
        "id": "YrAuofbGQ-op"
      },
      "source": [
        "df.drop(columns=['CRIMINAL_CASES','AGE','ASSETS','LIABILITIES','TOTAL_ELECTORS','SYMBOL'],inplace=True)"
      ],
      "execution_count": null,
      "outputs": []
    },
    {
      "cell_type": "code",
      "metadata": {
        "colab": {
          "base_uri": "https://localhost:8080/"
        },
        "id": "ecyPyRF4LArK",
        "outputId": "f7074661-f684-428c-854d-06904296747e"
      },
      "source": [
        "df.info()"
      ],
      "execution_count": null,
      "outputs": [
        {
          "output_type": "stream",
          "text": [
            "<class 'pandas.core.frame.DataFrame'>\n",
            "Int64Index: 2018 entries, 0 to 2261\n",
            "Data columns (total 13 columns):\n",
            " #   Column                                   Non-Null Count  Dtype  \n",
            "---  ------                                   --------------  -----  \n",
            " 0   STATE                                    2018 non-null   object \n",
            " 1   CONSTITUENCY                             2018 non-null   object \n",
            " 2   NAME                                     2018 non-null   object \n",
            " 3   PARTY                                    2018 non-null   object \n",
            " 4   GENDER                                   2018 non-null   object \n",
            " 5   CATEGORY                                 2018 non-null   object \n",
            " 6   EDUCATION                                2018 non-null   object \n",
            " 7   GENERAL_VOTES                            2018 non-null   int64  \n",
            " 8   POSTAL_VOTES                             2018 non-null   int64  \n",
            " 9   TOTAL_VOTES                              2018 non-null   int64  \n",
            " 10  OVER_TOTAL_ELECTORS_IN_CONSTITUENCY      2018 non-null   float64\n",
            " 11  OVER_TOTAL_VOTES_POLLED_IN_CONSTITUENCY  2018 non-null   float64\n",
            " 12  WINNER                                   2018 non-null   int64  \n",
            "dtypes: float64(2), int64(4), object(7)\n",
            "memory usage: 300.7+ KB\n"
          ],
          "name": "stdout"
        }
      ]
    },
    {
      "cell_type": "markdown",
      "metadata": {
        "id": "6X8qFb9AQleA"
      },
      "source": [
        "Outlier "
      ]
    },
    {
      "cell_type": "code",
      "metadata": {
        "colab": {
          "base_uri": "https://localhost:8080/",
          "height": 368
        },
        "id": "DL1EQbdlQk-r",
        "outputId": "713e54a0-4ba1-4d57-b6c0-d206857efeaf"
      },
      "source": [
        "df.plot( kind = 'box', subplots = True, layout = (5,5), sharex = False, sharey = False,color='black',figsize=(15,15))\n",
        "plt.show()"
      ],
      "execution_count": null,
      "outputs": [
        {
          "output_type": "display_data",
          "data": {
            "image/png": "[encoded data removed]",
            "text/plain": [
              "<Figure size 1080x1080 with 25 Axes>"
            ]
          },
          "metadata": {
            "tags": [],
            "needs_background": "light"
          }
        }
      ]
    },
    {
      "cell_type": "code",
      "metadata": {
        "id": "2za6JcuRTZEy"
      },
      "source": [
        "Q1 = df['POSTAL_VOTES'].quantile(0.25)\n",
        "Q3 = df['POSTAL_VOTES'].quantile(0.75)\n",
        "IQR = Q3 - Q1\n",
        "df = df[~ ((df['POSTAL_VOTES'] < (Q1 - 1.5 * IQR)) | (df['POSTAL_VOTES'] > (Q3 + 1.5 * IQR)))]"
      ],
      "execution_count": null,
      "outputs": []
    },
    {
      "cell_type": "code",
      "metadata": {
        "colab": {
          "base_uri": "https://localhost:8080/",
          "height": 368
        },
        "id": "fu5a1WfBTtIL",
        "outputId": "e8eea65d-cc26-4dc1-98fe-9ee2d37966cc"
      },
      "source": [
        "df.plot( kind = 'box', subplots = True, layout = (5,5), sharex = False, sharey = False,color='black',figsize=(15,15))\n",
        "plt.show()"
      ],
      "execution_count": null,
      "outputs": [
        {
          "output_type": "display_data",
          "data": {
            "image/png": "[encoded data removed]",
            "text/plain": [
              "<Figure size 1080x1080 with 25 Axes>"
            ]
          },
          "metadata": {
            "tags": [],
            "needs_background": "light"
          }
        }
      ]
    },
    {
      "cell_type": "markdown",
      "metadata": {
        "id": "Ls3jyVNrTzyd"
      },
      "source": [
        "## Ordinal Encoding of Categorical columns"
      ]
    },
    {
      "cell_type": "code",
      "metadata": {
        "id": "WCs2fxiJLQLz"
      },
      "source": [
        "from sklearn.preprocessing import OrdinalEncoder\n",
        "ord=OrdinalEncoder()"
      ],
      "execution_count": null,
      "outputs": []
    },
    {
      "cell_type": "code",
      "metadata": {
        "colab": {
          "base_uri": "https://localhost:8080/"
        },
        "id": "3Hw_3X0nLrhc",
        "outputId": "fa2b7ecd-7917-48ed-f44e-5b1045b375fc"
      },
      "source": [
        "df[['STATE','CONSTITUENCY','NAME','PARTY','GENDER','CATEGORY','EDUCATION']]=ord.fit_transform(df[['STATE','CONSTITUENCY','NAME','PARTY','GENDER','CATEGORY','EDUCATION']])"
      ],
      "execution_count": null,
      "outputs": [
        {
          "output_type": "stream",
          "text": [
            "/usr/local/lib/python3.7/dist-packages/ipykernel_launcher.py:1: SettingWithCopyWarning: \n",
            "A value is trying to be set on a copy of a slice from a DataFrame.\n",
            "Try using .loc[row_indexer,col_indexer] = value instead\n",
            "\n",
            "See the caveats in the documentation: https://pandas.pydata.org/pandas-docs/stable/user_guide/indexing.html#returning-a-view-versus-a-copy\n",
            "  \"\"\"Entry point for launching an IPython kernel.\n",
            "/usr/local/lib/python3.7/dist-packages/pandas/core/indexing.py:1734: SettingWithCopyWarning: \n",
            "A value is trying to be set on a copy of a slice from a DataFrame.\n",
            "Try using .loc[row_indexer,col_indexer] = value instead\n",
            "\n",
            "See the caveats in the documentation: https://pandas.pydata.org/pandas-docs/stable/user_guide/indexing.html#returning-a-view-versus-a-copy\n",
            "  isetter(loc, value[:, i].tolist())\n"
          ],
          "name": "stderr"
        }
      ]
    },
    {
      "cell_type": "code",
      "metadata": {
        "colab": {
          "base_uri": "https://localhost:8080/",
          "height": 224
        },
        "id": "Wl_CSOo0UyW2",
        "outputId": "59a7d3e6-15d2-45aa-faf1-a34f5db65a58"
      },
      "source": [
        "df.head()"
      ],
      "execution_count": null,
      "outputs": [
        {
          "output_type": "execute_result",
          "data": {
            "text/html": [
              "<div>\n",
              "<style scoped>\n",
              "    .dataframe tbody tr th:only-of-type {\n",
              "        vertical-align: middle;\n",
              "    }\n",
              "\n",
              "    .dataframe tbody tr th {\n",
              "        vertical-align: top;\n",
              "    }\n",
              "\n",
              "    .dataframe thead th {\n",
              "        text-align: right;\n",
              "    }\n",
              "</style>\n",
              "<table border=\"1\" class=\"dataframe\">\n",
              "  <thead>\n",
              "    <tr style=\"text-align: right;\">\n",
              "      <th></th>\n",
              "      <th>STATE</th>\n",
              "      <th>CONSTITUENCY</th>\n",
              "      <th>NAME</th>\n",
              "      <th>PARTY</th>\n",
              "      <th>GENDER</th>\n",
              "      <th>CATEGORY</th>\n",
              "      <th>EDUCATION</th>\n",
              "      <th>GENERAL_VOTES</th>\n",
              "      <th>POSTAL_VOTES</th>\n",
              "      <th>TOTAL_VOTES</th>\n",
              "      <th>OVER_TOTAL_ELECTORS_IN_CONSTITUENCY</th>\n",
              "      <th>OVER_TOTAL_VOTES_POLLED_IN_CONSTITUENCY</th>\n",
              "      <th>WINNER</th>\n",
              "    </tr>\n",
              "  </thead>\n",
              "  <tbody>\n",
              "    <tr>\n",
              "      <th>0</th>\n",
              "      <td>31.0</td>\n",
              "      <td>0.0</td>\n",
              "      <td>1606.0</td>\n",
              "      <td>26.0</td>\n",
              "      <td>1.0</td>\n",
              "      <td>2.0</td>\n",
              "      <td>1.0</td>\n",
              "      <td>376892</td>\n",
              "      <td>482</td>\n",
              "      <td>377374</td>\n",
              "      <td>25.330684</td>\n",
              "      <td>35.468248</td>\n",
              "      <td>1</td>\n",
              "    </tr>\n",
              "    <tr>\n",
              "      <th>1</th>\n",
              "      <td>31.0</td>\n",
              "      <td>0.0</td>\n",
              "      <td>654.0</td>\n",
              "      <td>116.0</td>\n",
              "      <td>1.0</td>\n",
              "      <td>2.0</td>\n",
              "      <td>11.0</td>\n",
              "      <td>318665</td>\n",
              "      <td>149</td>\n",
              "      <td>318814</td>\n",
              "      <td>21.399929</td>\n",
              "      <td>29.964370</td>\n",
              "      <td>0</td>\n",
              "    </tr>\n",
              "    <tr>\n",
              "      <th>2</th>\n",
              "      <td>31.0</td>\n",
              "      <td>0.0</td>\n",
              "      <td>1403.0</td>\n",
              "      <td>46.0</td>\n",
              "      <td>1.0</td>\n",
              "      <td>2.0</td>\n",
              "      <td>1.0</td>\n",
              "      <td>314057</td>\n",
              "      <td>181</td>\n",
              "      <td>314238</td>\n",
              "      <td>21.092771</td>\n",
              "      <td>29.534285</td>\n",
              "      <td>0</td>\n",
              "    </tr>\n",
              "    <tr>\n",
              "      <th>4</th>\n",
              "      <td>33.0</td>\n",
              "      <td>1.0</td>\n",
              "      <td>1678.0</td>\n",
              "      <td>26.0</td>\n",
              "      <td>1.0</td>\n",
              "      <td>1.0</td>\n",
              "      <td>4.0</td>\n",
              "      <td>644459</td>\n",
              "      <td>2416</td>\n",
              "      <td>646875</td>\n",
              "      <td>33.383823</td>\n",
              "      <td>56.464615</td>\n",
              "      <td>1</td>\n",
              "    </tr>\n",
              "    <tr>\n",
              "      <th>5</th>\n",
              "      <td>33.0</td>\n",
              "      <td>1.0</td>\n",
              "      <td>1053.0</td>\n",
              "      <td>35.0</td>\n",
              "      <td>1.0</td>\n",
              "      <td>1.0</td>\n",
              "      <td>11.0</td>\n",
              "      <td>434199</td>\n",
              "      <td>1130</td>\n",
              "      <td>435329</td>\n",
              "      <td>22.466390</td>\n",
              "      <td>37.999125</td>\n",
              "      <td>0</td>\n",
              "    </tr>\n",
              "  </tbody>\n",
              "</table>\n",
              "</div>"
            ],
            "text/plain": [
              "   STATE  CONSTITUENCY  ...  OVER_TOTAL_VOTES_POLLED_IN_CONSTITUENCY  WINNER\n",
              "0   31.0           0.0  ...                                35.468248       1\n",
              "1   31.0           0.0  ...                                29.964370       0\n",
              "2   31.0           0.0  ...                                29.534285       0\n",
              "4   33.0           1.0  ...                                56.464615       1\n",
              "5   33.0           1.0  ...                                37.999125       0\n",
              "\n",
              "[5 rows x 13 columns]"
            ]
          },
          "metadata": {
            "tags": []
          },
          "execution_count": 50
        }
      ]
    },
    {
      "cell_type": "code",
      "metadata": {
        "colab": {
          "base_uri": "https://localhost:8080/",
          "height": 555
        },
        "id": "ir3oai3RX5Fx",
        "outputId": "70f30b25-b6c6-439d-aac6-1efc451a2c58"
      },
      "source": [
        "corrmat=df.corr()\n",
        "plt.subplots(figsize=(20,8))\n",
        "sns.heatmap(corrmat,vmin=-0.4,vmax=0.9,annot=True,linewidths=0.2,cmap='YlGnBu')"
      ],
      "execution_count": null,
      "outputs": [
        {
          "output_type": "execute_result",
          "data": {
            "text/plain": [
              "<matplotlib.axes._subplots.AxesSubplot at 0x7f4696f52f10>"
            ]
          },
          "metadata": {
            "tags": []
          },
          "execution_count": 51
        },
        {
          "output_type": "display_data",
          "data": {
            "image/png": "[encoded data removed]",
            "text/plain": [
              "<Figure size 1440x576 with 2 Axes>"
            ]
          },
          "metadata": {
            "tags": [],
            "needs_background": "light"
          }
        }
      ]
    },
    {
      "cell_type": "code",
      "metadata": {
        "id": "zz74nOSbhqHJ"
      },
      "source": [
        "df_new=df[['GENERAL_VOTES','POSTAL_VOTES','TOTAL_VOTES','OVER_TOTAL_ELECTORS_IN_CONSTITUENCY','OVER_TOTAL_VOTES_POLLED_IN_CONSTITUENCY','WINNER']]"
      ],
      "execution_count": null,
      "outputs": []
    },
    {
      "cell_type": "code",
      "metadata": {
        "colab": {
          "base_uri": "https://localhost:8080/"
        },
        "id": "FxnhI2d6oSd2",
        "outputId": "c7a74abc-94e9-41fa-bb4a-8acdcff785a5"
      },
      "source": [
        "df_new.columns"
      ],
      "execution_count": null,
      "outputs": [
        {
          "output_type": "execute_result",
          "data": {
            "text/plain": [
              "Index(['GENERAL_VOTES', 'POSTAL_VOTES', 'TOTAL_VOTES',\n",
              "       'OVER_TOTAL_ELECTORS_IN_CONSTITUENCY',\n",
              "       'OVER_TOTAL_VOTES_POLLED_IN_CONSTITUENCY', 'WINNER'],\n",
              "      dtype='object')"
            ]
          },
          "metadata": {
            "tags": []
          },
          "execution_count": 53
        }
      ]
    },
    {
      "cell_type": "markdown",
      "metadata": {
        "id": "CpAxqiubZzxE"
      },
      "source": [
        "## Splitting the data into test and train set"
      ]
    },
    {
      "cell_type": "code",
      "metadata": {
        "id": "wct_b8JOWJs2"
      },
      "source": [
        "X=df_new.drop(['WINNER'],axis=1)\n",
        "y=df_new['WINNER']"
      ],
      "execution_count": null,
      "outputs": []
    },
    {
      "cell_type": "code",
      "metadata": {
        "id": "B7iJ-A6JaIRW"
      },
      "source": [
        "from sklearn.model_selection import train_test_split\n",
        "from sklearn.metrics import classification_report,confusion_matrix,accuracy_score,precision_score,recall_score,roc_auc_score,f1_score\n",
        "Xtrain,Xtest,ytrain,ytest=train_test_split(X,y,random_state=1,test_size=0.3,stratify=y)"
      ],
      "execution_count": null,
      "outputs": []
    },
    {
      "cell_type": "code",
      "metadata": {
        "id": "W0-rWBR_QaVc"
      },
      "source": [
        "from sklearn.metrics import log_loss"
      ],
      "execution_count": null,
      "outputs": []
    },
    {
      "cell_type": "markdown",
      "metadata": {
        "id": "kpY-ZvsEWb06"
      },
      "source": [
        "# **Model Building**"
      ]
    },
    {
      "cell_type": "markdown",
      "metadata": {
        "id": "he-oARhxSXP2"
      },
      "source": [
        "**Logistic Regression**"
      ]
    },
    {
      "cell_type": "code",
      "metadata": {
        "colab": {
          "base_uri": "https://localhost:8080/"
        },
        "id": "JKPSN0fbaNNb",
        "outputId": "d1c4f5e5-c6f9-4a87-e43a-1c8d68d3cdb1"
      },
      "source": [
        "from sklearn.linear_model import LogisticRegression\n",
        "logistic_model=LogisticRegression()\n",
        "logistic_model.fit(Xtrain,ytrain)\n",
        "ypred=logistic_model.predict(Xtest)\n",
        "print(classification_report(ytest,ypred))"
      ],
      "execution_count": null,
      "outputs": [
        {
          "output_type": "stream",
          "text": [
            "              precision    recall  f1-score   support\n",
            "\n",
            "           0       0.74      0.46      0.57       438\n",
            "           1       0.20      0.47      0.29       130\n",
            "\n",
            "    accuracy                           0.46       568\n",
            "   macro avg       0.47      0.46      0.43       568\n",
            "weighted avg       0.62      0.46      0.50       568\n",
            "\n"
          ],
          "name": "stdout"
        }
      ]
    },
    {
      "cell_type": "code",
      "metadata": {
        "colab": {
          "base_uri": "https://localhost:8080/"
        },
        "id": "I-B91_8rFu5I",
        "outputId": "73ed8335-cde3-4e59-d872-f140b9472db4"
      },
      "source": [
        "confusion_matrix(ytest,ypred)"
      ],
      "execution_count": null,
      "outputs": [
        {
          "output_type": "execute_result",
          "data": {
            "text/plain": [
              "array([[201, 237],\n",
              "       [ 69,  61]])"
            ]
          },
          "metadata": {
            "tags": []
          },
          "execution_count": 58
        }
      ]
    },
    {
      "cell_type": "markdown",
      "metadata": {
        "id": "_GR7uGPKSdDW"
      },
      "source": [
        "**Scaling**"
      ]
    },
    {
      "cell_type": "code",
      "metadata": {
        "colab": {
          "base_uri": "https://localhost:8080/"
        },
        "id": "-7Vy5ZuOav3R",
        "outputId": "15b25cb5-6e80-4edf-c23d-0a82d9f7479b"
      },
      "source": [
        "from sklearn.preprocessing import StandardScaler\n",
        "sc = StandardScaler()\n",
        "Xtrain_sc = sc.fit_transform(Xtrain)\n",
        "Xtest_sc = sc.transform(Xtest)\n",
        "logistic_model.fit(Xtrain_sc,ytrain)\n",
        "ypred_sc=logistic_model.predict(Xtest_sc)\n",
        "print(classification_report(ytest,ypred_sc))"
      ],
      "execution_count": null,
      "outputs": [
        {
          "output_type": "stream",
          "text": [
            "              precision    recall  f1-score   support\n",
            "\n",
            "           0       0.97      0.98      0.97       438\n",
            "           1       0.92      0.88      0.90       130\n",
            "\n",
            "    accuracy                           0.96       568\n",
            "   macro avg       0.94      0.93      0.94       568\n",
            "weighted avg       0.96      0.96      0.96       568\n",
            "\n"
          ],
          "name": "stdout"
        }
      ]
    },
    {
      "cell_type": "code",
      "metadata": {
        "colab": {
          "base_uri": "https://localhost:8080/"
        },
        "id": "TF3cu8L4-Knf",
        "outputId": "e46b3616-6b06-4e0b-e8c0-50d07106aec3"
      },
      "source": [
        "confusion_matrix(ytest,ypred_sc)"
      ],
      "execution_count": null,
      "outputs": [
        {
          "output_type": "execute_result",
          "data": {
            "text/plain": [
              "array([[428,  10],\n",
              "       [ 15, 115]])"
            ]
          },
          "metadata": {
            "tags": []
          },
          "execution_count": 60
        }
      ]
    },
    {
      "cell_type": "code",
      "metadata": {
        "id": "_-M_sE74wRit",
        "colab": {
          "base_uri": "https://localhost:8080/"
        },
        "outputId": "b1f526f4-c640-40b6-9256-9628023fdf4e"
      },
      "source": [
        "l_log1=log_loss(ytest,ypred_sc)\n",
        "l_log1"
      ],
      "execution_count": null,
      "outputs": [
        {
          "output_type": "execute_result",
          "data": {
            "text/plain": [
              "1.5202067004349815"
            ]
          },
          "metadata": {
            "tags": []
          },
          "execution_count": 61
        }
      ]
    },
    {
      "cell_type": "markdown",
      "metadata": {
        "id": "RP0WNKWVizgV"
      },
      "source": [
        "Hyper Parameter Tuning"
      ]
    },
    {
      "cell_type": "code",
      "metadata": {
        "colab": {
          "base_uri": "https://localhost:8080/"
        },
        "id": "VyAl83PzirGH",
        "outputId": "2e58946e-18de-45a0-bd62-5618660a7be2"
      },
      "source": [
        "logistic_model_tuned=LogisticRegression(class_weight={0:2,1:3},penalty='l2',C=10.0)\n",
        "logistic_model_tuned.fit(Xtrain_sc,ytrain)\n",
        "ypred_tuned=logistic_model_tuned.predict(Xtest_sc)\n",
        "print(classification_report(ytest,ypred_tuned))"
      ],
      "execution_count": null,
      "outputs": [
        {
          "output_type": "stream",
          "text": [
            "              precision    recall  f1-score   support\n",
            "\n",
            "           0       0.97      0.96      0.97       438\n",
            "           1       0.87      0.91      0.89       130\n",
            "\n",
            "    accuracy                           0.95       568\n",
            "   macro avg       0.92      0.93      0.93       568\n",
            "weighted avg       0.95      0.95      0.95       568\n",
            "\n"
          ],
          "name": "stdout"
        }
      ]
    },
    {
      "cell_type": "code",
      "metadata": {
        "id": "LozjTiivGh4L",
        "colab": {
          "base_uri": "https://localhost:8080/"
        },
        "outputId": "b66ee965-991b-47cb-9424-ecd2f0e1f76a"
      },
      "source": [
        "l_log2=log_loss(ytest,ypred_tuned)\n",
        "l_log2"
      ],
      "execution_count": null,
      "outputs": [
        {
          "output_type": "execute_result",
          "data": {
            "text/plain": [
              "1.8242564869737052"
            ]
          },
          "metadata": {
            "tags": []
          },
          "execution_count": 63
        }
      ]
    },
    {
      "cell_type": "code",
      "metadata": {
        "colab": {
          "base_uri": "https://localhost:8080/"
        },
        "id": "7d9HAlrlQ8rQ",
        "outputId": "93b18040-cd3b-495d-87fc-3460f7cfdd84"
      },
      "source": [
        "confusion_matrix(ytest,ypred_tuned)"
      ],
      "execution_count": null,
      "outputs": [
        {
          "output_type": "execute_result",
          "data": {
            "text/plain": [
              "array([[420,  18],\n",
              "       [ 12, 118]])"
            ]
          },
          "metadata": {
            "tags": []
          },
          "execution_count": 64
        }
      ]
    },
    {
      "cell_type": "markdown",
      "metadata": {
        "id": "LelL8sA4kQPt"
      },
      "source": [
        "**MinMAx scaling**"
      ]
    },
    {
      "cell_type": "code",
      "metadata": {
        "colab": {
          "base_uri": "https://localhost:8080/"
        },
        "id": "DRap9izma08S",
        "outputId": "cbe1d02d-c177-4acb-b007-10a97e013d03"
      },
      "source": [
        "from sklearn.preprocessing import MinMaxScaler\n",
        "mm = MinMaxScaler()\n",
        "Xtrain_mm = mm.fit_transform(Xtrain)\n",
        "Xtest_mm = mm.transform(Xtest)\n",
        "logistic_model.fit(Xtrain_mm,ytrain)\n",
        "ypred_mm=logistic_model.predict(Xtest_mm)\n",
        "print(classification_report(ytest,ypred))"
      ],
      "execution_count": null,
      "outputs": [
        {
          "output_type": "stream",
          "text": [
            "              precision    recall  f1-score   support\n",
            "\n",
            "           0       0.74      0.46      0.57       438\n",
            "           1       0.20      0.47      0.29       130\n",
            "\n",
            "    accuracy                           0.46       568\n",
            "   macro avg       0.47      0.46      0.43       568\n",
            "weighted avg       0.62      0.46      0.50       568\n",
            "\n"
          ],
          "name": "stdout"
        }
      ]
    },
    {
      "cell_type": "code",
      "metadata": {
        "colab": {
          "base_uri": "https://localhost:8080/"
        },
        "id": "6LKu3RcJ91ds",
        "outputId": "dce0893f-c648-4e7b-f013-48463b3839ed"
      },
      "source": [
        "confusion_matrix(ytest,ypred_mm)"
      ],
      "execution_count": null,
      "outputs": [
        {
          "output_type": "execute_result",
          "data": {
            "text/plain": [
              "array([[423,  15],\n",
              "       [ 21, 109]])"
            ]
          },
          "metadata": {
            "tags": []
          },
          "execution_count": 66
        }
      ]
    },
    {
      "cell_type": "markdown",
      "metadata": {
        "id": "8jzk81iflQ-F"
      },
      "source": [
        "Minmax scaling is not effective in improving the model"
      ]
    },
    {
      "cell_type": "markdown",
      "metadata": {
        "id": "CE3SzMeqGOEo"
      },
      "source": [
        "There are more misclassifications in class 0 than in the model of scaled version"
      ]
    },
    {
      "cell_type": "markdown",
      "metadata": {
        "id": "1iuG9FWUSjbu"
      },
      "source": [
        "**KNN**"
      ]
    },
    {
      "cell_type": "code",
      "metadata": {
        "colab": {
          "base_uri": "https://localhost:8080/",
          "height": 282
        },
        "id": "msnFm9Xga_Bi",
        "outputId": "822b5f25-6190-4bb8-e098-21407565f9be"
      },
      "source": [
        "from sklearn.neighbors import KNeighborsClassifier\n",
        "acc_values=[]\n",
        "neighbors=np.arange(3,15)\n",
        "for k in neighbors: \n",
        "    classifier=KNeighborsClassifier(n_neighbors=k,metric='minkowski')\n",
        "    classifier.fit(Xtrain,ytrain)\n",
        "    y_pred=classifier.predict(Xtest)\n",
        "    acc=accuracy_score(ytest,y_pred)\n",
        "    acc_values.append(acc)\n",
        "plt.plot(neighbors,acc_values,'o-')"
      ],
      "execution_count": null,
      "outputs": [
        {
          "output_type": "execute_result",
          "data": {
            "text/plain": [
              "[<matplotlib.lines.Line2D at 0x7f46886bf190>]"
            ]
          },
          "metadata": {
            "tags": []
          },
          "execution_count": 67
        },
        {
          "output_type": "display_data",
          "data": {
            "image/png": "[encoded data removed]",
            "text/plain": [
              "<Figure size 432x288 with 1 Axes>"
            ]
          },
          "metadata": {
            "tags": [],
            "needs_background": "light"
          }
        }
      ]
    },
    {
      "cell_type": "code",
      "metadata": {
        "colab": {
          "base_uri": "https://localhost:8080/"
        },
        "id": "0n-gTS7_bNyj",
        "outputId": "dba28ac3-731d-4f9c-e5d2-9f40ad7c79a9"
      },
      "source": [
        "classifier=KNeighborsClassifier(n_neighbors=3,metric='minkowski')     # any value of neighbours at which accuracy is max can be considered.\n",
        "classifier.fit(Xtrain,ytrain)\n",
        "ypred=classifier.predict(Xtest)\n",
        "print(classification_report(ytest,ypred))"
      ],
      "execution_count": null,
      "outputs": [
        {
          "output_type": "stream",
          "text": [
            "              precision    recall  f1-score   support\n",
            "\n",
            "           0       0.92      0.92      0.92       438\n",
            "           1       0.74      0.74      0.74       130\n",
            "\n",
            "    accuracy                           0.88       568\n",
            "   macro avg       0.83      0.83      0.83       568\n",
            "weighted avg       0.88      0.88      0.88       568\n",
            "\n"
          ],
          "name": "stdout"
        }
      ]
    },
    {
      "cell_type": "code",
      "metadata": {
        "colab": {
          "base_uri": "https://localhost:8080/"
        },
        "id": "FEO6tW_87S9S",
        "outputId": "97137ee0-6326-4287-fb3f-0e1e2855a4d6"
      },
      "source": [
        "confusion_matrix(ytest,ypred)"
      ],
      "execution_count": null,
      "outputs": [
        {
          "output_type": "execute_result",
          "data": {
            "text/plain": [
              "array([[404,  34],\n",
              "       [ 34,  96]])"
            ]
          },
          "metadata": {
            "tags": []
          },
          "execution_count": 69
        }
      ]
    },
    {
      "cell_type": "code",
      "metadata": {
        "colab": {
          "base_uri": "https://localhost:8080/"
        },
        "id": "e4VcBimIbT-b",
        "outputId": "07c09ffe-36fb-410b-9ce9-0932accf13a6"
      },
      "source": [
        "classifier.fit(Xtrain_sc,ytrain)\n",
        "y_pred=classifier.predict(Xtest_sc)\n",
        "print(classification_report(ytest,y_pred))"
      ],
      "execution_count": null,
      "outputs": [
        {
          "output_type": "stream",
          "text": [
            "              precision    recall  f1-score   support\n",
            "\n",
            "           0       0.95      0.97      0.96       438\n",
            "           1       0.90      0.84      0.87       130\n",
            "\n",
            "    accuracy                           0.94       568\n",
            "   macro avg       0.93      0.91      0.92       568\n",
            "weighted avg       0.94      0.94      0.94       568\n",
            "\n"
          ],
          "name": "stdout"
        }
      ]
    },
    {
      "cell_type": "code",
      "metadata": {
        "colab": {
          "base_uri": "https://localhost:8080/"
        },
        "id": "M7Y0ldrY7czn",
        "outputId": "16028b15-8407-4f56-ecfd-33d944b60b27"
      },
      "source": [
        "confusion_matrix(ytest,y_pred)"
      ],
      "execution_count": null,
      "outputs": [
        {
          "output_type": "execute_result",
          "data": {
            "text/plain": [
              "array([[426,  12],\n",
              "       [ 21, 109]])"
            ]
          },
          "metadata": {
            "tags": []
          },
          "execution_count": 71
        }
      ]
    },
    {
      "cell_type": "code",
      "metadata": {
        "colab": {
          "base_uri": "https://localhost:8080/"
        },
        "id": "-hMuv4IKbXal",
        "outputId": "5deebc19-9495-44b1-ea6b-7ab70e1dda94"
      },
      "source": [
        "classifier.fit(Xtrain_mm,ytrain)\n",
        "y_pred=classifier.predict(Xtest_mm)\n",
        "print(classification_report(ytest,y_pred))"
      ],
      "execution_count": null,
      "outputs": [
        {
          "output_type": "stream",
          "text": [
            "              precision    recall  f1-score   support\n",
            "\n",
            "           0       0.96      0.98      0.97       438\n",
            "           1       0.92      0.85      0.88       130\n",
            "\n",
            "    accuracy                           0.95       568\n",
            "   macro avg       0.94      0.91      0.93       568\n",
            "weighted avg       0.95      0.95      0.95       568\n",
            "\n"
          ],
          "name": "stdout"
        }
      ]
    },
    {
      "cell_type": "code",
      "metadata": {
        "colab": {
          "base_uri": "https://localhost:8080/"
        },
        "id": "ljzB_8LzivEf",
        "outputId": "3cf5901b-14ec-40ed-b2e9-1a943ee46da8"
      },
      "source": [
        "confusion_matrix(ytest,y_pred)"
      ],
      "execution_count": null,
      "outputs": [
        {
          "output_type": "execute_result",
          "data": {
            "text/plain": [
              "array([[429,   9],\n",
              "       [ 20, 110]])"
            ]
          },
          "metadata": {
            "tags": []
          },
          "execution_count": 73
        }
      ]
    },
    {
      "cell_type": "markdown",
      "metadata": {
        "id": "S49pcE9U7JXy"
      },
      "source": [
        "Standard Scaling has improved the performance of the KNN algorithm as it has reduced the misclassifications, MinMax scaling is also desirable and slightly improved compared to standard scaling."
      ]
    },
    {
      "cell_type": "code",
      "metadata": {
        "id": "xIdeZ4sfxFxX"
      },
      "source": [
        "l_knn=log_loss(ytest,y_pred)"
      ],
      "execution_count": null,
      "outputs": []
    },
    {
      "cell_type": "code",
      "metadata": {
        "colab": {
          "base_uri": "https://localhost:8080/"
        },
        "id": "YILNhG0TPXaZ",
        "outputId": "700173ed-77aa-403c-b30a-205c2f637583"
      },
      "source": [
        "l_knn"
      ],
      "execution_count": null,
      "outputs": [
        {
          "output_type": "execute_result",
          "data": {
            "text/plain": [
              "1.7634361123754965"
            ]
          },
          "metadata": {
            "tags": []
          },
          "execution_count": 75
        }
      ]
    },
    {
      "cell_type": "markdown",
      "metadata": {
        "id": "gDK1PZppS51C"
      },
      "source": [
        "**SVM**"
      ]
    },
    {
      "cell_type": "code",
      "metadata": {
        "colab": {
          "base_uri": "https://localhost:8080/"
        },
        "id": "9WFVuhhJdDcE",
        "outputId": "8f59db5f-f38b-461e-dd66-cd9e5ae53dc9"
      },
      "source": [
        "from sklearn.svm import SVC\n",
        "svm_linear=SVC(kernel='linear',probability=True)\n",
        "svm_linear.fit(Xtrain_sc,ytrain)\n",
        "ypred_svm=svm_linear.predict(Xtest_sc)\n",
        "print(classification_report(ytest,ypred_svm))"
      ],
      "execution_count": null,
      "outputs": [
        {
          "output_type": "stream",
          "text": [
            "              precision    recall  f1-score   support\n",
            "\n",
            "           0       0.96      0.98      0.97       438\n",
            "           1       0.92      0.87      0.89       130\n",
            "\n",
            "    accuracy                           0.95       568\n",
            "   macro avg       0.94      0.92      0.93       568\n",
            "weighted avg       0.95      0.95      0.95       568\n",
            "\n"
          ],
          "name": "stdout"
        }
      ]
    },
    {
      "cell_type": "code",
      "metadata": {
        "colab": {
          "base_uri": "https://localhost:8080/"
        },
        "id": "aEqowJlL7q-U",
        "outputId": "9aeba8d5-8828-4caf-a3a3-a2a5b971e1bf"
      },
      "source": [
        "confusion_matrix(ytest,ypred_svm)"
      ],
      "execution_count": null,
      "outputs": [
        {
          "output_type": "execute_result",
          "data": {
            "text/plain": [
              "array([[428,  10],\n",
              "       [ 17, 113]])"
            ]
          },
          "metadata": {
            "tags": []
          },
          "execution_count": 77
        }
      ]
    },
    {
      "cell_type": "code",
      "metadata": {
        "colab": {
          "base_uri": "https://localhost:8080/"
        },
        "id": "UTksRJrcf0TV",
        "outputId": "a88e9850-d01f-447f-e6b2-60474909d0bc"
      },
      "source": [
        "svm_linear.fit(Xtrain_mm,ytrain)\n",
        "ypred_svm1=svm_linear.predict(Xtest_mm)\n",
        "print(classification_report(ytest,ypred_svm1))"
      ],
      "execution_count": null,
      "outputs": [
        {
          "output_type": "stream",
          "text": [
            "              precision    recall  f1-score   support\n",
            "\n",
            "           0       0.96      0.98      0.97       438\n",
            "           1       0.93      0.85      0.89       130\n",
            "\n",
            "    accuracy                           0.95       568\n",
            "   macro avg       0.94      0.92      0.93       568\n",
            "weighted avg       0.95      0.95      0.95       568\n",
            "\n"
          ],
          "name": "stdout"
        }
      ]
    },
    {
      "cell_type": "code",
      "metadata": {
        "colab": {
          "base_uri": "https://localhost:8080/"
        },
        "id": "mEEEKEZt7y6t",
        "outputId": "9b54860b-5864-42a2-b33d-768e69b898bc"
      },
      "source": [
        "confusion_matrix(ytest,ypred_svm1)"
      ],
      "execution_count": null,
      "outputs": [
        {
          "output_type": "execute_result",
          "data": {
            "text/plain": [
              "array([[429,   9],\n",
              "       [ 19, 111]])"
            ]
          },
          "metadata": {
            "tags": []
          },
          "execution_count": 79
        }
      ]
    },
    {
      "cell_type": "code",
      "metadata": {
        "id": "5FOtpwxFxSfc",
        "colab": {
          "base_uri": "https://localhost:8080/"
        },
        "outputId": "8f0db0de-9ede-43bd-f232-be5fbfd7f385"
      },
      "source": [
        "l_svm=log_loss(ytest,ypred_svm)\n",
        "l_svm"
      ],
      "execution_count": null,
      "outputs": [
        {
          "output_type": "execute_result",
          "data": {
            "text/plain": [
              "1.641822110276216"
            ]
          },
          "metadata": {
            "tags": []
          },
          "execution_count": 80
        }
      ]
    },
    {
      "cell_type": "markdown",
      "metadata": {
        "id": "rqi5YUNy_CGE"
      },
      "source": [
        "Standard Scaling better in classification to minority class than MinMaxScaling."
      ]
    },
    {
      "cell_type": "markdown",
      "metadata": {
        "id": "R7uwXKc1TAUG"
      },
      "source": [
        "**DECISION TREE**"
      ]
    },
    {
      "cell_type": "code",
      "metadata": {
        "colab": {
          "base_uri": "https://localhost:8080/"
        },
        "id": "dF1INi1IgAaX",
        "outputId": "cc448629-9d4e-446d-c37c-97279c963937"
      },
      "source": [
        "from sklearn.tree import DecisionTreeClassifier\n",
        "dt=DecisionTreeClassifier(random_state=1,class_weight={0: 3, 1: 4})\n",
        "dt.fit(Xtrain,ytrain)\n",
        "ypred_dt=dt.predict(Xtest)\n",
        "print(classification_report(ytest,ypred_dt))"
      ],
      "execution_count": null,
      "outputs": [
        {
          "output_type": "stream",
          "text": [
            "              precision    recall  f1-score   support\n",
            "\n",
            "           0       0.95      0.96      0.96       438\n",
            "           1       0.87      0.85      0.86       130\n",
            "\n",
            "    accuracy                           0.94       568\n",
            "   macro avg       0.91      0.90      0.91       568\n",
            "weighted avg       0.94      0.94      0.94       568\n",
            "\n"
          ],
          "name": "stdout"
        }
      ]
    },
    {
      "cell_type": "code",
      "metadata": {
        "colab": {
          "base_uri": "https://localhost:8080/"
        },
        "id": "eDF6LGI1_OIM",
        "outputId": "a3f07674-18e1-4932-8d09-30116c1ae662"
      },
      "source": [
        "confusion_matrix(ytest,ypred_dt)"
      ],
      "execution_count": null,
      "outputs": [
        {
          "output_type": "execute_result",
          "data": {
            "text/plain": [
              "array([[422,  16],\n",
              "       [ 20, 110]])"
            ]
          },
          "metadata": {
            "tags": []
          },
          "execution_count": 82
        }
      ]
    },
    {
      "cell_type": "code",
      "metadata": {
        "id": "6374CBsyxkCs",
        "colab": {
          "base_uri": "https://localhost:8080/"
        },
        "outputId": "23144b43-fff6-4c8e-fb3d-d35be93cafb6"
      },
      "source": [
        "l_dt=log_loss(ytest,ypred_dt)\n",
        "l_dt"
      ],
      "execution_count": null,
      "outputs": [
        {
          "output_type": "execute_result",
          "data": {
            "text/plain": [
              "2.1890999010135"
            ]
          },
          "metadata": {
            "tags": []
          },
          "execution_count": 83
        }
      ]
    },
    {
      "cell_type": "markdown",
      "metadata": {
        "id": "cK5TeQsD_5gX"
      },
      "source": [
        "Hyper Parameter tuning in Decision Tree"
      ]
    },
    {
      "cell_type": "markdown",
      "metadata": {
        "id": "GBlFgA1rQcKR"
      },
      "source": [
        "The hyperparameters are chosen as criterion and the max_depth of the tree. max_depth is considered as increasing it manually may lead to overfitting. The criterion considers the best method to calculate the information gain in a node."
      ]
    },
    {
      "cell_type": "code",
      "metadata": {
        "id": "KPLWKn11_4sQ"
      },
      "source": [
        "from sklearn.model_selection import GridSearchCV\n",
        "# Create the parameter grid \n",
        "param_grid = {\n",
        "    \"criterion\": ['gini','entropy'], \n",
        "    \n",
        "    \"max_depth\": [2,4,6,8,10]\n",
        "    \n",
        "    \n",
        "}\n",
        "# Create an instance of grid search model\n",
        "grid_search = GridSearchCV(estimator = dt, param_grid = param_grid, \n",
        "                          cv = 5, n_jobs = -1, verbose = 2)"
      ],
      "execution_count": null,
      "outputs": []
    },
    {
      "cell_type": "code",
      "metadata": {
        "colab": {
          "base_uri": "https://localhost:8080/"
        },
        "id": "InXMs3q1C5Sj",
        "outputId": "7bffa5be-ea76-4a43-e7f7-68c23cbe8cc4"
      },
      "source": [
        "grid_search.fit(Xtrain,ytrain)"
      ],
      "execution_count": null,
      "outputs": [
        {
          "output_type": "stream",
          "text": [
            "Fitting 5 folds for each of 10 candidates, totalling 50 fits\n"
          ],
          "name": "stdout"
        },
        {
          "output_type": "stream",
          "text": [
            "[Parallel(n_jobs=-1)]: Using backend LokyBackend with 2 concurrent workers.\n",
            "[Parallel(n_jobs=-1)]: Done  50 out of  50 | elapsed:    1.2s finished\n"
          ],
          "name": "stderr"
        },
        {
          "output_type": "execute_result",
          "data": {
            "text/plain": [
              "GridSearchCV(cv=5, error_score=nan,\n",
              "             estimator=DecisionTreeClassifier(ccp_alpha=0.0,\n",
              "                                              class_weight={0: 3, 1: 4},\n",
              "                                              criterion='gini', max_depth=None,\n",
              "                                              max_features=None,\n",
              "                                              max_leaf_nodes=None,\n",
              "                                              min_impurity_decrease=0.0,\n",
              "                                              min_impurity_split=None,\n",
              "                                              min_samples_leaf=1,\n",
              "                                              min_samples_split=2,\n",
              "                                              min_weight_fraction_leaf=0.0,\n",
              "                                              presort='deprecated',\n",
              "                                              random_state=1, splitter='best'),\n",
              "             iid='deprecated', n_jobs=-1,\n",
              "             param_grid={'criterion': ['gini', 'entropy'],\n",
              "                         'max_depth': [2, 4, 6, 8, 10]},\n",
              "             pre_dispatch='2*n_jobs', refit=True, return_train_score=False,\n",
              "             scoring=None, verbose=2)"
            ]
          },
          "metadata": {
            "tags": []
          },
          "execution_count": 85
        }
      ]
    },
    {
      "cell_type": "code",
      "metadata": {
        "colab": {
          "base_uri": "https://localhost:8080/"
        },
        "id": "2R6sVXPaDRyX",
        "outputId": "8827ddf2-cdfd-48e3-b3dc-14aa8ca57d6f"
      },
      "source": [
        "grid_search.best_params_"
      ],
      "execution_count": null,
      "outputs": [
        {
          "output_type": "execute_result",
          "data": {
            "text/plain": [
              "{'criterion': 'gini', 'max_depth': 2}"
            ]
          },
          "metadata": {
            "tags": []
          },
          "execution_count": 86
        }
      ]
    },
    {
      "cell_type": "code",
      "metadata": {
        "colab": {
          "base_uri": "https://localhost:8080/"
        },
        "id": "S9p8MQJqDbW6",
        "outputId": "1076246f-bd65-498b-8b71-fb49ab6360f9"
      },
      "source": [
        "dtt=DecisionTreeClassifier(random_state=1,class_weight={0: 3, 1: 4},criterion='entropy',max_depth=4)\n",
        "dtt.fit(Xtrain,ytrain)\n",
        "ypred_dtt=dt.predict(Xtest)\n",
        "print(classification_report(ytest,ypred_dtt))"
      ],
      "execution_count": null,
      "outputs": [
        {
          "output_type": "stream",
          "text": [
            "              precision    recall  f1-score   support\n",
            "\n",
            "           0       0.95      0.96      0.96       438\n",
            "           1       0.87      0.85      0.86       130\n",
            "\n",
            "    accuracy                           0.94       568\n",
            "   macro avg       0.91      0.90      0.91       568\n",
            "weighted avg       0.94      0.94      0.94       568\n",
            "\n"
          ],
          "name": "stdout"
        }
      ]
    },
    {
      "cell_type": "code",
      "metadata": {
        "colab": {
          "base_uri": "https://localhost:8080/"
        },
        "id": "MhxorjdwDprb",
        "outputId": "ff06b14b-0fc0-49d5-a960-40c7e72e0617"
      },
      "source": [
        "confusion_matrix(ytest,ypred_dtt)"
      ],
      "execution_count": null,
      "outputs": [
        {
          "output_type": "execute_result",
          "data": {
            "text/plain": [
              "array([[422,  16],\n",
              "       [ 20, 110]])"
            ]
          },
          "metadata": {
            "tags": []
          },
          "execution_count": 88
        }
      ]
    },
    {
      "cell_type": "markdown",
      "metadata": {
        "id": "k94k8wSZD-HT"
      },
      "source": [
        "There is no improvement in the model with the tuning"
      ]
    },
    {
      "cell_type": "markdown",
      "metadata": {
        "id": "uzweFsqCTECo"
      },
      "source": [
        "**RANDOM FOREST**"
      ]
    },
    {
      "cell_type": "code",
      "metadata": {
        "colab": {
          "base_uri": "https://localhost:8080/"
        },
        "id": "uc4XE3DrgFMT",
        "outputId": "8e476584-3df8-4ab2-df13-6639a54fac39"
      },
      "source": [
        "from sklearn.ensemble import RandomForestClassifier\n",
        "rf=RandomForestClassifier(random_state=1)\n",
        "rf.fit(Xtrain,ytrain)\n",
        "ypred=rf.predict(Xtest)\n",
        "print(classification_report(ytest,ypred))"
      ],
      "execution_count": null,
      "outputs": [
        {
          "output_type": "stream",
          "text": [
            "              precision    recall  f1-score   support\n",
            "\n",
            "           0       0.96      0.98      0.97       438\n",
            "           1       0.94      0.85      0.90       130\n",
            "\n",
            "    accuracy                           0.95       568\n",
            "   macro avg       0.95      0.92      0.93       568\n",
            "weighted avg       0.95      0.95      0.95       568\n",
            "\n"
          ],
          "name": "stdout"
        }
      ]
    },
    {
      "cell_type": "code",
      "metadata": {
        "colab": {
          "base_uri": "https://localhost:8080/"
        },
        "id": "bd8BFl-iuVl2",
        "outputId": "b923e109-bec9-4944-b213-0a8bd4002168"
      },
      "source": [
        "confusion_matrix(ytest,ypred)"
      ],
      "execution_count": null,
      "outputs": [
        {
          "output_type": "execute_result",
          "data": {
            "text/plain": [
              "array([[431,   7],\n",
              "       [ 19, 111]])"
            ]
          },
          "metadata": {
            "tags": []
          },
          "execution_count": 90
        }
      ]
    },
    {
      "cell_type": "markdown",
      "metadata": {
        "id": "ajwfGzxZWIpK"
      },
      "source": [
        "Manual hyperparameter assignment "
      ]
    },
    {
      "cell_type": "code",
      "metadata": {
        "colab": {
          "base_uri": "https://localhost:8080/"
        },
        "id": "-WlhOaEEgMxV",
        "outputId": "99bb1ada-e913-426f-fe45-1567eeb17e86"
      },
      "source": [
        "rf1=RandomForestClassifier(n_estimators=200,max_depth=5,random_state=1,criterion='entropy')\n",
        "rf1.fit(Xtrain,ytrain)\n",
        "ypred1=rf1.predict(Xtest)\n",
        "print(classification_report(ytest,ypred1))"
      ],
      "execution_count": null,
      "outputs": [
        {
          "output_type": "stream",
          "text": [
            "              precision    recall  f1-score   support\n",
            "\n",
            "           0       0.96      0.98      0.97       438\n",
            "           1       0.93      0.85      0.89       130\n",
            "\n",
            "    accuracy                           0.95       568\n",
            "   macro avg       0.95      0.92      0.93       568\n",
            "weighted avg       0.95      0.95      0.95       568\n",
            "\n"
          ],
          "name": "stdout"
        }
      ]
    },
    {
      "cell_type": "code",
      "metadata": {
        "colab": {
          "base_uri": "https://localhost:8080/"
        },
        "id": "c7OrGU1Hv76f",
        "outputId": "254017b9-9382-4b21-ffdb-4b9d0083211e"
      },
      "source": [
        "confusion_matrix(ytest,ypred1)"
      ],
      "execution_count": null,
      "outputs": [
        {
          "output_type": "execute_result",
          "data": {
            "text/plain": [
              "array([[430,   8],\n",
              "       [ 19, 111]])"
            ]
          },
          "metadata": {
            "tags": []
          },
          "execution_count": 92
        }
      ]
    },
    {
      "cell_type": "code",
      "metadata": {
        "id": "5vd0W8NHx20f",
        "colab": {
          "base_uri": "https://localhost:8080/"
        },
        "outputId": "808f01f8-0eaa-4961-bcbf-ced8e1a7b352"
      },
      "source": [
        "l_rf=log_loss(ytest,ypred1)\n",
        "l_rf"
      ],
      "execution_count": null,
      "outputs": [
        {
          "output_type": "execute_result",
          "data": {
            "text/plain": [
              "1.6418192947923071"
            ]
          },
          "metadata": {
            "tags": []
          },
          "execution_count": 93
        }
      ]
    },
    {
      "cell_type": "markdown",
      "metadata": {
        "id": "aWMD_yX8sEm5"
      },
      "source": [
        "Scaling is not done since it has no effect on the random forest algorithm"
      ]
    },
    {
      "cell_type": "markdown",
      "metadata": {
        "id": "Qb-K5HFeS0n8"
      },
      "source": [
        "Automatic Hyper Parameter Tuning for Random Forest"
      ]
    },
    {
      "cell_type": "code",
      "metadata": {
        "id": "9QWVOGd5R_BP"
      },
      "source": [
        "from sklearn.model_selection import RandomizedSearchCV\n",
        "# Number of trees in random forest\n",
        "n_estimators = [int(x) for x in np.linspace(start = 50, stop = 2000, num = 10)]\n",
        "# Number of features to consider at every split\n",
        "max_features = ['auto', 'sqrt']\n",
        "# Maximum number of levels in tree\n",
        "max_depth = [int(x) for x in np.linspace(10, 110, num = 11)]\n",
        "max_depth.append(None)\n",
        "# Minimum number of samples required to split a node\n",
        "min_samples_split = [2, 5, 10]\n",
        "# Minimum number of samples required at each leaf node\n",
        "min_samples_leaf = [1, 2, 4]\n",
        "# Method of selecting samples for training each tree\n",
        "bootstrap = [True, False]\n",
        "# Create the random grid\n",
        "random_grid = {'n_estimators': n_estimators,\n",
        "               'max_features': max_features,\n",
        "               'max_depth': max_depth,\n",
        "               'min_samples_split': min_samples_split,\n",
        "               'min_samples_leaf': min_samples_leaf,\n",
        "               'bootstrap': bootstrap}"
      ],
      "execution_count": null,
      "outputs": []
    },
    {
      "cell_type": "code",
      "metadata": {
        "id": "Fgr5JdFERyS3"
      },
      "source": [
        "rf_random = RandomizedSearchCV(estimator = rf, param_distributions = random_grid, n_iter = 100, cv = 5, verbose=2, random_state=1, n_jobs = -1)"
      ],
      "execution_count": null,
      "outputs": []
    },
    {
      "cell_type": "markdown",
      "metadata": {
        "id": "eqd28Ch0f5Pf"
      },
      "source": [
        "cv- cross validation, can be chosen to be k=3,5 or 10. implements k-fold validation, k=10 can create higher penalty on execution time, k=3 is not satisfactory in small datasets, so a value between these k=5 is chosen"
      ]
    },
    {
      "cell_type": "code",
      "metadata": {
        "colab": {
          "base_uri": "https://localhost:8080/"
        },
        "id": "p7BLBPjjSGoj",
        "outputId": "7c86885d-0da8-4e98-bd52-3d69b9f6ea82"
      },
      "source": [
        "rf_random.fit(Xtrain,ytrain)"
      ],
      "execution_count": null,
      "outputs": [
        {
          "output_type": "stream",
          "text": [
            "Fitting 5 folds for each of 100 candidates, totalling 500 fits\n"
          ],
          "name": "stdout"
        },
        {
          "output_type": "stream",
          "text": [
            "[Parallel(n_jobs=-1)]: Using backend LokyBackend with 2 concurrent workers.\n",
            "[Parallel(n_jobs=-1)]: Done  37 tasks      | elapsed:   49.6s\n",
            "[Parallel(n_jobs=-1)]: Done 158 tasks      | elapsed:  3.6min\n",
            "[Parallel(n_jobs=-1)]: Done 361 tasks      | elapsed:  9.0min\n",
            "[Parallel(n_jobs=-1)]: Done 500 out of 500 | elapsed: 12.2min finished\n"
          ],
          "name": "stderr"
        },
        {
          "output_type": "execute_result",
          "data": {
            "text/plain": [
              "RandomizedSearchCV(cv=5, error_score=nan,\n",
              "                   estimator=RandomForestClassifier(bootstrap=True,\n",
              "                                                    ccp_alpha=0.0,\n",
              "                                                    class_weight=None,\n",
              "                                                    criterion='gini',\n",
              "                                                    max_depth=None,\n",
              "                                                    max_features='auto',\n",
              "                                                    max_leaf_nodes=None,\n",
              "                                                    max_samples=None,\n",
              "                                                    min_impurity_decrease=0.0,\n",
              "                                                    min_impurity_split=None,\n",
              "                                                    min_samples_leaf=1,\n",
              "                                                    min_samples_split=2,\n",
              "                                                    min_weight_fraction_leaf=0.0,\n",
              "                                                    n_estimators=100,\n",
              "                                                    n_jobs...\n",
              "                   iid='deprecated', n_iter=100, n_jobs=-1,\n",
              "                   param_distributions={'bootstrap': [True, False],\n",
              "                                        'max_depth': [10, 20, 30, 40, 50, 60,\n",
              "                                                      70, 80, 90, 100, 110,\n",
              "                                                      None],\n",
              "                                        'max_features': ['auto', 'sqrt'],\n",
              "                                        'min_samples_leaf': [1, 2, 4],\n",
              "                                        'min_samples_split': [2, 5, 10],\n",
              "                                        'n_estimators': [50, 266, 483, 700, 916,\n",
              "                                                         1133, 1350, 1566, 1783,\n",
              "                                                         2000]},\n",
              "                   pre_dispatch='2*n_jobs', random_state=1, refit=True,\n",
              "                   return_train_score=False, scoring=None, verbose=2)"
            ]
          },
          "metadata": {
            "tags": []
          },
          "execution_count": 96
        }
      ]
    },
    {
      "cell_type": "markdown",
      "metadata": {
        "id": "gKGcLAvDsOu1"
      },
      "source": [
        "Displaying the best parameters "
      ]
    },
    {
      "cell_type": "code",
      "metadata": {
        "colab": {
          "base_uri": "https://localhost:8080/"
        },
        "id": "84TkT0bJrnZQ",
        "outputId": "f5fcc853-a0d6-49c4-eca7-b8c8ae27f75e"
      },
      "source": [
        "rf_random.best_params_"
      ],
      "execution_count": null,
      "outputs": [
        {
          "output_type": "execute_result",
          "data": {
            "text/plain": [
              "{'bootstrap': True,\n",
              " 'max_depth': 20,\n",
              " 'max_features': 'sqrt',\n",
              " 'min_samples_leaf': 4,\n",
              " 'min_samples_split': 10,\n",
              " 'n_estimators': 2000}"
            ]
          },
          "metadata": {
            "tags": []
          },
          "execution_count": 97
        }
      ]
    },
    {
      "cell_type": "markdown",
      "metadata": {
        "id": "wBReL5K1WmHs"
      },
      "source": [
        "**First Set of hyper parameters**"
      ]
    },
    {
      "cell_type": "code",
      "metadata": {
        "colab": {
          "base_uri": "https://localhost:8080/"
        },
        "id": "0YwwiUqmbqm9",
        "outputId": "c55e9cb4-30a4-4e85-a562-4fdcc2ed049e"
      },
      "source": [
        "rf_tuned=RandomForestClassifier(n_estimators=1566,max_depth=90,random_state=1,criterion='entropy',bootstrap= True,max_features= 'sqrt',min_samples_leaf=2,\n",
        " min_samples_split= 10)\n",
        "rf_tuned.fit(Xtrain,ytrain)\n",
        "ypred_tunerf=rf_tuned.predict(Xtest)\n",
        "print(classification_report(ytest,ypred_tunerf))"
      ],
      "execution_count": null,
      "outputs": [
        {
          "output_type": "stream",
          "text": [
            "              precision    recall  f1-score   support\n",
            "\n",
            "           0       0.96      0.98      0.97       438\n",
            "           1       0.93      0.88      0.90       130\n",
            "\n",
            "    accuracy                           0.96       568\n",
            "   macro avg       0.95      0.93      0.94       568\n",
            "weighted avg       0.96      0.96      0.96       568\n",
            "\n"
          ],
          "name": "stdout"
        }
      ]
    },
    {
      "cell_type": "code",
      "metadata": {
        "colab": {
          "base_uri": "https://localhost:8080/"
        },
        "id": "9JRnJMWJb6AC",
        "outputId": "9ff3b1ef-3bbe-417f-c1cb-02a6078b52f5"
      },
      "source": [
        "confusion_matrix(ytest,ypred_tunerf)"
      ],
      "execution_count": null,
      "outputs": [
        {
          "output_type": "execute_result",
          "data": {
            "text/plain": [
              "array([[429,   9],\n",
              "       [ 16, 114]])"
            ]
          },
          "metadata": {
            "tags": []
          },
          "execution_count": 99
        }
      ]
    },
    {
      "cell_type": "markdown",
      "metadata": {
        "id": "EHfoBC7efJr5"
      },
      "source": [
        "Another set of parameters are chosen from the list of parameters in the RandomSearchCV to test the model."
      ]
    },
    {
      "cell_type": "markdown",
      "metadata": {
        "id": "lp0iLjnofqoH"
      },
      "source": [
        "**Second Set of hyperparameters**"
      ]
    },
    {
      "cell_type": "code",
      "metadata": {
        "colab": {
          "base_uri": "https://localhost:8080/"
        },
        "id": "bwGMQpdXryac",
        "outputId": "e1e3ff2d-ba53-460e-df28-7b18e912d27e"
      },
      "source": [
        "rf_tuned=RandomForestClassifier(n_estimators=50,max_depth=80,random_state=1,criterion='entropy',bootstrap= True,max_features= 'auto',min_samples_leaf=4,\n",
        " min_samples_split= 5)\n",
        "rf_tuned.fit(Xtrain,ytrain)\n",
        "ypred_tunerf=rf_tuned.predict(Xtest)\n",
        "print(classification_report(ytest,ypred_tunerf))"
      ],
      "execution_count": null,
      "outputs": [
        {
          "output_type": "stream",
          "text": [
            "              precision    recall  f1-score   support\n",
            "\n",
            "           0       0.96      0.98      0.97       438\n",
            "           1       0.93      0.86      0.90       130\n",
            "\n",
            "    accuracy                           0.95       568\n",
            "   macro avg       0.95      0.92      0.93       568\n",
            "weighted avg       0.95      0.95      0.95       568\n",
            "\n"
          ],
          "name": "stdout"
        }
      ]
    },
    {
      "cell_type": "code",
      "metadata": {
        "colab": {
          "base_uri": "https://localhost:8080/"
        },
        "id": "niK_rjipJg8g",
        "outputId": "3efeb0c0-b91a-4e83-d62c-42c02e14a67b"
      },
      "source": [
        "confusion_matrix(ytest,ypred_tunerf)"
      ],
      "execution_count": null,
      "outputs": [
        {
          "output_type": "execute_result",
          "data": {
            "text/plain": [
              "array([[430,   8],\n",
              "       [ 18, 112]])"
            ]
          },
          "metadata": {
            "tags": []
          },
          "execution_count": 101
        }
      ]
    },
    {
      "cell_type": "markdown",
      "metadata": {
        "id": "5BzfdxilWyoF"
      },
      "source": [
        "**Third set of hyper parameters**"
      ]
    },
    {
      "cell_type": "code",
      "metadata": {
        "colab": {
          "base_uri": "https://localhost:8080/"
        },
        "id": "u-oVN3P3JQ-R",
        "outputId": "8f530b8e-17c0-4292-f7c6-0985756c5847"
      },
      "source": [
        "rf_tuned=RandomForestClassifier(n_estimators=800,max_depth=50,random_state=0,criterion='entropy',bootstrap= True,max_features= 'sqrt',min_samples_leaf=4,\n",
        " min_samples_split= 10)\n",
        "rf_tuned.fit(Xtrain,ytrain)\n",
        "ypred_tunerf1=rf_tuned.predict(Xtest)\n",
        "print(classification_report(ytest,ypred_tunerf1))"
      ],
      "execution_count": null,
      "outputs": [
        {
          "output_type": "stream",
          "text": [
            "              precision    recall  f1-score   support\n",
            "\n",
            "           0       0.96      0.98      0.97       438\n",
            "           1       0.92      0.88      0.90       130\n",
            "\n",
            "    accuracy                           0.95       568\n",
            "   macro avg       0.94      0.93      0.93       568\n",
            "weighted avg       0.95      0.95      0.95       568\n",
            "\n"
          ],
          "name": "stdout"
        }
      ]
    },
    {
      "cell_type": "code",
      "metadata": {
        "colab": {
          "base_uri": "https://localhost:8080/"
        },
        "id": "WzGcx0e3wU-1",
        "outputId": "6451ffcb-8067-4869-b5c9-985bc91e4a05"
      },
      "source": [
        "confusion_matrix(ytest,ypred_tunerf1)"
      ],
      "execution_count": null,
      "outputs": [
        {
          "output_type": "execute_result",
          "data": {
            "text/plain": [
              "array([[428,  10],\n",
              "       [ 16, 114]])"
            ]
          },
          "metadata": {
            "tags": []
          },
          "execution_count": 103
        }
      ]
    },
    {
      "cell_type": "code",
      "metadata": {
        "id": "fVhmjQJhyElD",
        "colab": {
          "base_uri": "https://localhost:8080/"
        },
        "outputId": "cbe7e563-7a00-4aba-b020-a8d41f67239c"
      },
      "source": [
        "lrf_tuned=log_loss(ytest,ypred_tunerf1)\n",
        "lrf_tuned"
      ],
      "execution_count": null,
      "outputs": [
        {
          "output_type": "execute_result",
          "data": {
            "text/plain": [
              "1.581014405355599"
            ]
          },
          "metadata": {
            "tags": []
          },
          "execution_count": 104
        }
      ]
    },
    {
      "cell_type": "markdown",
      "metadata": {
        "id": "b4q2LEt_Ro0y"
      },
      "source": [
        "Fine tuning of random forest model"
      ]
    },
    {
      "cell_type": "code",
      "metadata": {
        "id": "WH8Irywixgxt"
      },
      "source": [
        "from sklearn.model_selection import GridSearchCV\n",
        "# Create the parameter grid based on the results of random search \n",
        "param_grid = {\n",
        "    'bootstrap': [True],\n",
        "    'max_depth': [10, 20, 30, 40],\n",
        "    'max_features': [2, 3],\n",
        "    'min_samples_leaf': [3, 4, 5],\n",
        "    'min_samples_split': [8, 10, 12],\n",
        "    'n_estimators': [100, 200, 300]\n",
        "}\n",
        "# Create an instance of grid search model\n",
        "grid_search = GridSearchCV(estimator = rf, param_grid = param_grid, \n",
        "                          cv = 3, n_jobs = -1, verbose = 2)"
      ],
      "execution_count": null,
      "outputs": []
    },
    {
      "cell_type": "code",
      "metadata": {
        "colab": {
          "base_uri": "https://localhost:8080/"
        },
        "id": "iiDZCD8K0Z9q",
        "outputId": "0a719435-dc71-4023-91ee-39f5ac215546"
      },
      "source": [
        "grid_search.fit(Xtrain,ytrain)"
      ],
      "execution_count": null,
      "outputs": [
        {
          "output_type": "stream",
          "text": [
            "Fitting 3 folds for each of 216 candidates, totalling 648 fits\n"
          ],
          "name": "stdout"
        },
        {
          "output_type": "stream",
          "text": [
            "[Parallel(n_jobs=-1)]: Using backend LokyBackend with 2 concurrent workers.\n",
            "[Parallel(n_jobs=-1)]: Done  37 tasks      | elapsed:    9.2s\n",
            "[Parallel(n_jobs=-1)]: Done 158 tasks      | elapsed:   40.5s\n",
            "[Parallel(n_jobs=-1)]: Done 361 tasks      | elapsed:  1.5min\n",
            "[Parallel(n_jobs=-1)]: Done 644 tasks      | elapsed:  2.8min\n",
            "[Parallel(n_jobs=-1)]: Done 648 out of 648 | elapsed:  2.8min finished\n"
          ],
          "name": "stderr"
        },
        {
          "output_type": "execute_result",
          "data": {
            "text/plain": [
              "GridSearchCV(cv=3, error_score=nan,\n",
              "             estimator=RandomForestClassifier(bootstrap=True, ccp_alpha=0.0,\n",
              "                                              class_weight=None,\n",
              "                                              criterion='gini', max_depth=None,\n",
              "                                              max_features='auto',\n",
              "                                              max_leaf_nodes=None,\n",
              "                                              max_samples=None,\n",
              "                                              min_impurity_decrease=0.0,\n",
              "                                              min_impurity_split=None,\n",
              "                                              min_samples_leaf=1,\n",
              "                                              min_samples_split=2,\n",
              "                                              min_weight_fraction_leaf=0.0,\n",
              "                                              n_estimators=100, n_jobs=None,\n",
              "                                              oob_score=False, random_state=1,\n",
              "                                              verbose=0, warm_start=False),\n",
              "             iid='deprecated', n_jobs=-1,\n",
              "             param_grid={'bootstrap': [True], 'max_depth': [10, 20, 30, 40],\n",
              "                         'max_features': [2, 3], 'min_samples_leaf': [3, 4, 5],\n",
              "                         'min_samples_split': [8, 10, 12],\n",
              "                         'n_estimators': [100, 200, 300]},\n",
              "             pre_dispatch='2*n_jobs', refit=True, return_train_score=False,\n",
              "             scoring=None, verbose=2)"
            ]
          },
          "metadata": {
            "tags": []
          },
          "execution_count": 106
        }
      ]
    },
    {
      "cell_type": "code",
      "metadata": {
        "colab": {
          "base_uri": "https://localhost:8080/"
        },
        "id": "GBf3CcbpPeLp",
        "outputId": "c809d660-6084-4dc7-ef28-ceae9e88ba91"
      },
      "source": [
        "grid_search.best_params_"
      ],
      "execution_count": null,
      "outputs": [
        {
          "output_type": "execute_result",
          "data": {
            "text/plain": [
              "{'bootstrap': True,\n",
              " 'max_depth': 10,\n",
              " 'max_features': 2,\n",
              " 'min_samples_leaf': 3,\n",
              " 'min_samples_split': 8,\n",
              " 'n_estimators': 300}"
            ]
          },
          "metadata": {
            "tags": []
          },
          "execution_count": 107
        }
      ]
    },
    {
      "cell_type": "code",
      "metadata": {
        "colab": {
          "base_uri": "https://localhost:8080/"
        },
        "id": "7QJX4v-7PmvG",
        "outputId": "f082ff8d-ebfe-4213-f2a2-4a08e859a749"
      },
      "source": [
        "rf_tuned=RandomForestClassifier(n_estimators=200,max_depth=10,random_state=1,criterion='entropy',bootstrap= True,max_features=3,min_samples_leaf=5,\n",
        " min_samples_split= 12)\n",
        "rf_tuned.fit(Xtrain,ytrain)\n",
        "ypred_tunerf1=rf_tuned.predict(Xtest)\n",
        "print(classification_report(ytest,ypred_tunerf1))"
      ],
      "execution_count": null,
      "outputs": [
        {
          "output_type": "stream",
          "text": [
            "              precision    recall  f1-score   support\n",
            "\n",
            "           0       0.96      0.98      0.97       438\n",
            "           1       0.92      0.88      0.90       130\n",
            "\n",
            "    accuracy                           0.95       568\n",
            "   macro avg       0.94      0.93      0.93       568\n",
            "weighted avg       0.95      0.95      0.95       568\n",
            "\n"
          ],
          "name": "stdout"
        }
      ]
    },
    {
      "cell_type": "code",
      "metadata": {
        "colab": {
          "base_uri": "https://localhost:8080/"
        },
        "id": "kIqrsw8vP3xW",
        "outputId": "0a2edcdf-564b-4287-d454-c404cb3d0936"
      },
      "source": [
        "confusion_matrix(ytest,ypred_tunerf1)"
      ],
      "execution_count": null,
      "outputs": [
        {
          "output_type": "execute_result",
          "data": {
            "text/plain": [
              "array([[428,  10],\n",
              "       [ 16, 114]])"
            ]
          },
          "metadata": {
            "tags": []
          },
          "execution_count": 109
        }
      ]
    },
    {
      "cell_type": "markdown",
      "metadata": {
        "id": "hcc4Fr9Ybjpf"
      },
      "source": [
        "The feature sets finaly considered are \n",
        "\n",
        "RandomForestClassifier(n_estimators=200,max_depth=10,random_state=1,criterion='entropy',bootstrap= True,max_features=3,min_samples_leaf=5,\n",
        " min_samples_split= 12) \n",
        "\n",
        "This gives the same classification metrics as the feature set with max_depth=5(Manual hyperparameter tuning)\n",
        "\n",
        "The depth of the tree is better chosen as a small value as an increased value can lead to overfitting. Thus, the final tuned model is\n",
        "\n",
        "RandomForestClassifier(n_estimators=200,max_depth=5,random_state=1,criterion='entropy')\n",
        "The other features are not creating a big difference in the performance.\n",
        "\n",
        "\n"
      ]
    },
    {
      "cell_type": "markdown",
      "metadata": {
        "id": "LQFa7mbPTNvF"
      },
      "source": [
        "**GRADIENT BOOST ALGORITHM**"
      ]
    },
    {
      "cell_type": "code",
      "metadata": {
        "colab": {
          "base_uri": "https://localhost:8080/"
        },
        "id": "kdLfboGcgaes",
        "outputId": "2121c0a8-be69-474c-f07a-9797d6f46d05"
      },
      "source": [
        "from sklearn.ensemble import GradientBoostingClassifier\n",
        "gb=GradientBoostingClassifier(random_state=1,n_estimators=15,max_depth=2,learning_rate=0.1,min_samples_split=15,max_features=\"sqrt\")\n",
        "gb.fit(Xtrain,ytrain)    \n",
        "ypred_gb=gb.predict(Xtest)\n",
        "print(classification_report(ytest,ypred_gb))"
      ],
      "execution_count": null,
      "outputs": [
        {
          "output_type": "stream",
          "text": [
            "              precision    recall  f1-score   support\n",
            "\n",
            "           0       0.96      0.98      0.97       438\n",
            "           1       0.93      0.85      0.89       130\n",
            "\n",
            "    accuracy                           0.95       568\n",
            "   macro avg       0.94      0.91      0.93       568\n",
            "weighted avg       0.95      0.95      0.95       568\n",
            "\n"
          ],
          "name": "stdout"
        }
      ]
    },
    {
      "cell_type": "code",
      "metadata": {
        "colab": {
          "base_uri": "https://localhost:8080/"
        },
        "id": "e_vQn3AwfLtH",
        "outputId": "cea852f7-afd2-4621-c3cd-8a8e186ec5fb"
      },
      "source": [
        "confusion_matrix(ytest,ypred_gb)"
      ],
      "execution_count": null,
      "outputs": [
        {
          "output_type": "execute_result",
          "data": {
            "text/plain": [
              "array([[430,   8],\n",
              "       [ 20, 110]])"
            ]
          },
          "metadata": {
            "tags": []
          },
          "execution_count": 111
        }
      ]
    },
    {
      "cell_type": "code",
      "metadata": {
        "id": "Vtb3tQFFyVZ6",
        "colab": {
          "base_uri": "https://localhost:8080/"
        },
        "outputId": "150fd9cc-c949-4935-de74-252e3917765d"
      },
      "source": [
        "l_gb=log_loss(ytest,ypred_gb)\n",
        "l_gb"
      ],
      "execution_count": null,
      "outputs": [
        {
          "output_type": "execute_result",
          "data": {
            "text/plain": [
              "1.7026269997129244"
            ]
          },
          "metadata": {
            "tags": []
          },
          "execution_count": 112
        }
      ]
    },
    {
      "cell_type": "markdown",
      "metadata": {
        "id": "qrPCKPFngr3Y"
      },
      "source": [
        "Good performance "
      ]
    },
    {
      "cell_type": "markdown",
      "metadata": {
        "id": "46dLaigJywCR"
      },
      "source": [
        "Hyper Parameter Tuning"
      ]
    },
    {
      "cell_type": "code",
      "metadata": {
        "id": "kYm4-7FUxQM5"
      },
      "source": [
        "param_grid = {\n",
        "     \"n_estimators\" :(10,15,20,25),\n",
        "    \"learning_rate\" :(0.1,0.2),\n",
        "     \"min_samples_split\":(10,15,18,20),\n",
        "     \"min_samples_leaf\":(3,4,5),\n",
        "     \"max_depth\":(3,4,5),\n",
        "     \"subsample\": (0.6,0.8)\n",
        "}\n",
        "# Create an instance of grid search model\n",
        "grid_search = GridSearchCV(estimator = gb, param_grid = param_grid, \n",
        "                          cv = 5, n_jobs = -1, verbose = 2)"
      ],
      "execution_count": null,
      "outputs": []
    },
    {
      "cell_type": "code",
      "metadata": {
        "colab": {
          "base_uri": "https://localhost:8080/"
        },
        "id": "O9yWhj3Ey118",
        "outputId": "d8adcec5-4038-4feb-ac5b-269a9f6da92b"
      },
      "source": [
        "grid_search.fit(Xtrain,ytrain)"
      ],
      "execution_count": null,
      "outputs": [
        {
          "output_type": "stream",
          "text": [
            "Fitting 5 folds for each of 576 candidates, totalling 2880 fits\n"
          ],
          "name": "stdout"
        },
        {
          "output_type": "stream",
          "text": [
            "[Parallel(n_jobs=-1)]: Using backend LokyBackend with 2 concurrent workers.\n",
            "[Parallel(n_jobs=-1)]: Done 228 tasks      | elapsed:    4.0s\n",
            "[Parallel(n_jobs=-1)]: Done 1196 tasks      | elapsed:   22.9s\n",
            "[Parallel(n_jobs=-1)]: Done 2820 tasks      | elapsed:   54.7s\n",
            "[Parallel(n_jobs=-1)]: Done 2880 out of 2880 | elapsed:   55.9s finished\n"
          ],
          "name": "stderr"
        },
        {
          "output_type": "execute_result",
          "data": {
            "text/plain": [
              "GridSearchCV(cv=5, error_score=nan,\n",
              "             estimator=GradientBoostingClassifier(ccp_alpha=0.0,\n",
              "                                                  criterion='friedman_mse',\n",
              "                                                  init=None, learning_rate=0.1,\n",
              "                                                  loss='deviance', max_depth=2,\n",
              "                                                  max_features='sqrt',\n",
              "                                                  max_leaf_nodes=None,\n",
              "                                                  min_impurity_decrease=0.0,\n",
              "                                                  min_impurity_split=None,\n",
              "                                                  min_samples_leaf=1,\n",
              "                                                  min_samples_split=15,\n",
              "                                                  min_weight_fraction_leaf=0.0,\n",
              "                                                  n_estimators=15,\n",
              "                                                  n_iter_no...\n",
              "                                                  random_state=1, subsample=1.0,\n",
              "                                                  tol=0.0001,\n",
              "                                                  validation_fraction=0.1,\n",
              "                                                  verbose=0, warm_start=False),\n",
              "             iid='deprecated', n_jobs=-1,\n",
              "             param_grid={'learning_rate': (0.1, 0.2), 'max_depth': (3, 4, 5),\n",
              "                         'min_samples_leaf': (3, 4, 5),\n",
              "                         'min_samples_split': (10, 15, 18, 20),\n",
              "                         'n_estimators': (10, 15, 20, 25),\n",
              "                         'subsample': (0.6, 0.8)},\n",
              "             pre_dispatch='2*n_jobs', refit=True, return_train_score=False,\n",
              "             scoring=None, verbose=2)"
            ]
          },
          "metadata": {
            "tags": []
          },
          "execution_count": 114
        }
      ]
    },
    {
      "cell_type": "code",
      "metadata": {
        "colab": {
          "base_uri": "https://localhost:8080/"
        },
        "id": "FvulVRWHy9Gm",
        "outputId": "c3035e10-a92d-4957-f282-8ebdee2c302c"
      },
      "source": [
        "grid_search.best_params_"
      ],
      "execution_count": null,
      "outputs": [
        {
          "output_type": "execute_result",
          "data": {
            "text/plain": [
              "{'learning_rate': 0.1,\n",
              " 'max_depth': 4,\n",
              " 'min_samples_leaf': 3,\n",
              " 'min_samples_split': 10,\n",
              " 'n_estimators': 25,\n",
              " 'subsample': 0.8}"
            ]
          },
          "metadata": {
            "tags": []
          },
          "execution_count": 115
        }
      ]
    },
    {
      "cell_type": "code",
      "metadata": {
        "colab": {
          "base_uri": "https://localhost:8080/"
        },
        "id": "-H0Ql5nIzD7r",
        "outputId": "1a1907e2-1c55-4c39-8529-fb5cb135597a"
      },
      "source": [
        "gb_tune=GradientBoostingClassifier(random_state=1,n_estimators=10,max_depth=4,learning_rate=0.2,min_samples_split=20,max_features=\"sqrt\",subsample=0.8,min_samples_leaf=3)\n",
        "gb_tune.fit(Xtrain,ytrain)\n",
        "ypred_gbtune=gb_tune.predict(Xtest)\n",
        "print(classification_report(ytest,ypred_gbtune))"
      ],
      "execution_count": null,
      "outputs": [
        {
          "output_type": "stream",
          "text": [
            "              precision    recall  f1-score   support\n",
            "\n",
            "           0       0.96      0.98      0.97       438\n",
            "           1       0.92      0.85      0.88       130\n",
            "\n",
            "    accuracy                           0.95       568\n",
            "   macro avg       0.94      0.92      0.93       568\n",
            "weighted avg       0.95      0.95      0.95       568\n",
            "\n"
          ],
          "name": "stdout"
        }
      ]
    },
    {
      "cell_type": "code",
      "metadata": {
        "colab": {
          "base_uri": "https://localhost:8080/"
        },
        "id": "wJSrgg78zqlJ",
        "outputId": "4a67a736-871b-4dc5-8375-b7758a1752d2"
      },
      "source": [
        "confusion_matrix(ytest,ypred_gbtune)"
      ],
      "execution_count": null,
      "outputs": [
        {
          "output_type": "execute_result",
          "data": {
            "text/plain": [
              "array([[428,  10],\n",
              "       [ 19, 111]])"
            ]
          },
          "metadata": {
            "tags": []
          },
          "execution_count": 117
        }
      ]
    },
    {
      "cell_type": "code",
      "metadata": {
        "colab": {
          "base_uri": "https://localhost:8080/"
        },
        "id": "QPtvca0OydmW",
        "outputId": "c3f95116-4f27-4a77-f8b8-66af8c086311"
      },
      "source": [
        "l_gbtuned = log_loss(ytest,ypred_gbtune)\n",
        "l_gbtuned"
      ],
      "execution_count": null,
      "outputs": [
        {
          "output_type": "execute_result",
          "data": {
            "text/plain": [
              "1.763437520117451"
            ]
          },
          "metadata": {
            "tags": []
          },
          "execution_count": 118
        }
      ]
    },
    {
      "cell_type": "markdown",
      "metadata": {
        "id": "sT0a2n9iR1CX"
      },
      "source": [
        "No significant impact of Hyperparameter Tuning"
      ]
    },
    {
      "cell_type": "markdown",
      "metadata": {
        "id": "m7hOQqu7TS9g"
      },
      "source": [
        "**XG BOOST**"
      ]
    },
    {
      "cell_type": "code",
      "metadata": {
        "colab": {
          "base_uri": "https://localhost:8080/"
        },
        "id": "1nlPLODug89L",
        "outputId": "68c152d1-0474-49f1-a3dc-fbc2ce3f478c"
      },
      "source": [
        "from xgboost import XGBClassifier\n",
        "xgb=XGBClassifier()\n",
        "xgb.fit(Xtrain,ytrain)\n",
        "ypred_xgb=xgb.predict(Xtest)\n",
        "print(classification_report(ytest,ypred_xgb))"
      ],
      "execution_count": null,
      "outputs": [
        {
          "output_type": "stream",
          "text": [
            "              precision    recall  f1-score   support\n",
            "\n",
            "           0       0.96      0.98      0.97       438\n",
            "           1       0.93      0.85      0.89       130\n",
            "\n",
            "    accuracy                           0.95       568\n",
            "   macro avg       0.94      0.92      0.93       568\n",
            "weighted avg       0.95      0.95      0.95       568\n",
            "\n"
          ],
          "name": "stdout"
        }
      ]
    },
    {
      "cell_type": "code",
      "metadata": {
        "colab": {
          "base_uri": "https://localhost:8080/"
        },
        "id": "RoR9SnQYf-T0",
        "outputId": "3ce57acc-23ee-4b3c-c12d-0e43a1378187"
      },
      "source": [
        "confusion_matrix(ytest,ypred_xgb)"
      ],
      "execution_count": null,
      "outputs": [
        {
          "output_type": "execute_result",
          "data": {
            "text/plain": [
              "array([[429,   9],\n",
              "       [ 19, 111]])"
            ]
          },
          "metadata": {
            "tags": []
          },
          "execution_count": 120
        }
      ]
    },
    {
      "cell_type": "markdown",
      "metadata": {
        "id": "4ZpPhr8hTZi7"
      },
      "source": [
        "**NAIVE BAYES**"
      ]
    },
    {
      "cell_type": "code",
      "metadata": {
        "colab": {
          "base_uri": "https://localhost:8080/"
        },
        "id": "svq7SBqDkC3e",
        "outputId": "352447e3-8457-4943-db9a-972668a58bda"
      },
      "source": [
        "from sklearn.naive_bayes import GaussianNB\n",
        "nb=GaussianNB()\n",
        "nb.fit(Xtrain,ytrain)\n",
        "ypred_nb=nb.predict(Xtest)\n",
        "print(classification_report(ytest,ypred_nb))"
      ],
      "execution_count": null,
      "outputs": [
        {
          "output_type": "stream",
          "text": [
            "              precision    recall  f1-score   support\n",
            "\n",
            "           0       0.98      0.82      0.89       438\n",
            "           1       0.60      0.95      0.74       130\n",
            "\n",
            "    accuracy                           0.85       568\n",
            "   macro avg       0.79      0.88      0.81       568\n",
            "weighted avg       0.89      0.85      0.86       568\n",
            "\n"
          ],
          "name": "stdout"
        }
      ]
    },
    {
      "cell_type": "code",
      "metadata": {
        "colab": {
          "base_uri": "https://localhost:8080/"
        },
        "id": "_VKwRHXYgIcC",
        "outputId": "a92dc49f-b5e9-48e4-963e-cc8f9e6eec25"
      },
      "source": [
        "confusion_matrix(ytest,ypred_nb)"
      ],
      "execution_count": null,
      "outputs": [
        {
          "output_type": "execute_result",
          "data": {
            "text/plain": [
              "array([[357,  81],\n",
              "       [  7, 123]])"
            ]
          },
          "metadata": {
            "tags": []
          },
          "execution_count": 122
        }
      ]
    },
    {
      "cell_type": "code",
      "metadata": {
        "id": "zFyoin81yoK_",
        "colab": {
          "base_uri": "https://localhost:8080/"
        },
        "outputId": "565cd959-e3d1-458a-83c8-745b123fa5c7"
      },
      "source": [
        "l_nb=log_loss(ytest,ypred_nb)\n",
        "l_nb"
      ],
      "execution_count": null,
      "outputs": [
        {
          "output_type": "execute_result",
          "data": {
            "text/plain": [
              "5.351192060112652"
            ]
          },
          "metadata": {
            "tags": []
          },
          "execution_count": 123
        }
      ]
    },
    {
      "cell_type": "markdown",
      "metadata": {
        "id": "kgcClIvkR8r0"
      },
      "source": [
        "Not a suitable model in this data"
      ]
    },
    {
      "cell_type": "markdown",
      "metadata": {
        "id": "KqCscsRTTeE0"
      },
      "source": [
        "# **ROC**"
      ]
    },
    {
      "cell_type": "code",
      "metadata": {
        "id": "VkgYyVxhkdfX"
      },
      "source": [
        "#Prediction probabilities for logistic regression with and without scaling\n",
        "pred_prob1 = logistic_model.predict_proba(Xtest)\n",
        "pred_prob2 = logistic_model.predict_proba(Xtest_mm)\n",
        "pred_prob3 =logistic_model.predict_proba(Xtest_sc)\n",
        "#Prediction probabilities for kNN with and without scaling\n",
        "pred_prob4 = classifier.predict_proba(Xtest)\n",
        "pred_prob5 = classifier.predict_proba(Xtest_sc)\n",
        "pred_prob6 = classifier.predict_proba(Xtest_mm)\n",
        "#Prediction probabilities for SVM with and without scaling\n",
        "pred_prob7 = svm_linear.predict_proba(Xtest)\n",
        "pred_prob8 = svm_linear.predict_proba(Xtest_sc)\n",
        "pred_prob9 = svm_linear.predict_proba(Xtest_mm)\n",
        "#Prediction Probabilities for Decision Tree classifier \n",
        "pred_prob10 = dt.predict_proba(Xtest)\n",
        "#Prediction Probabilities for Random Forest classifier \n",
        "pred_prob11 = rf.predict_proba(Xtest)\n",
        "#Prediction Probabilities for Gradient Boosting classifier \n",
        "pred_prob12 = gb.predict_proba(Xtest)\n",
        "#Prediction Probabilities for Extreme Gradient Boosting classifier \n",
        "#pred_prob13 = xgb.predict_proba(Xtest)"
      ],
      "execution_count": null,
      "outputs": []
    },
    {
      "cell_type": "code",
      "metadata": {
        "id": "SiethkLBkg7c"
      },
      "source": [
        "from sklearn.metrics import roc_curve\n",
        "fpr1, tpr1, thr1 = roc_curve(ytest, pred_prob1[:,1], pos_label=1)\n",
        "fpr2, tpr2, thr2 = roc_curve(ytest, pred_prob2[:,1], pos_label=1)\n",
        "fpr3, tpr3, thr3 = roc_curve(ytest, pred_prob3[:,1], pos_label=1)\n",
        "fpr4, tpr4, thr4 = roc_curve(ytest, pred_prob4[:,1], pos_label=1)\n",
        "fpr5, tpr5, thr5 = roc_curve(ytest, pred_prob5[:,1], pos_label=1)\n",
        "fpr6, tpr6, thr6 = roc_curve(ytest, pred_prob6[:,1], pos_label=1)\n",
        "fpr7, tpr7, thr7 = roc_curve(ytest, pred_prob7[:,1], pos_label=1)\n",
        "fpr8, tpr8, thr8 = roc_curve(ytest, pred_prob8[:,1], pos_label=1)\n",
        "fpr9, tpr9, thr9 = roc_curve(ytest, pred_prob9[:,1], pos_label=1)\n",
        "fpr10, tpr10, thr10 = roc_curve(ytest, pred_prob10[:,1], pos_label=1)\n",
        "fpr11, tpr11, thr11= roc_curve(ytest, pred_prob11[:,1], pos_label=1)\n",
        "fpr12, tpr12, thr12 = roc_curve(ytest, pred_prob12[:,1], pos_label=1)\n",
        "#fpr13, tpr13, thr13 = roc_curve(ytest, pred_prob13[:,1], pos_label=1)\n",
        "\n",
        "# roc curve for tpr = fpr \n",
        "random_probs = [0 for i in range(len(ytest))]\n",
        "p_fpr, p_tpr, _ = roc_curve(ytest, random_probs, pos_label=1)"
      ],
      "execution_count": null,
      "outputs": []
    },
    {
      "cell_type": "code",
      "metadata": {
        "colab": {
          "base_uri": "https://localhost:8080/",
          "height": 312
        },
        "id": "sFTSc6N3kkZM",
        "outputId": "d07a260d-bda8-4bba-8508-94a5ae98eef6"
      },
      "source": [
        "\n",
        "#plt.plot(fpr1, tpr1, linestyle='--',color='brown', label='Logistic Regression')\n",
        "#plt.plot(fpr2, tpr2, linestyle='--',color='gold', label='Logistic with mm')\n",
        "plt.plot(fpr3, tpr3, linestyle='--',color='brown', label='Logistic Regression with sc')\n",
        "\n",
        "#plt.plot(fpr4, tpr4, linestyle='--',color='pink', label='kNN')\n",
        "#plt.plot(fpr5, tpr5, linestyle='--',color='navy', label='kNN with sc')\n",
        "plt.plot(fpr6, tpr6, linestyle='--',color='blue', label='kNN with mm')\n",
        "\n",
        "#plt.plot(fpr7, tpr7, linestyle='--',color='bisque', label='SVM')\n",
        "plt.plot(fpr8, tpr8, linestyle='--',color='orange', label='SVM with sc')\n",
        "#plt.plot(fpr9, tpr9, linestyle='--',color='aquamarine', label='SVM with mm')\n",
        "\n",
        "plt.plot(fpr10, tpr10, linestyle='--',color='green', label='Decision Tree')\n",
        "plt.plot(fpr11, tpr11, linestyle='--',color='yellow', label='Random Forest')\n",
        "plt.plot(fpr12, tpr12, linestyle='--',color='violet', label='GradientBoosting')\n",
        "#plt.plot(fpr13, tpr13, linestyle='--',color='royalblue', label='XGBoosting')\n",
        "\n",
        "plt.plot(p_fpr, p_tpr, linestyle='--', color='black')\n",
        "\n",
        "# title\n",
        "plt.title('ROC curve')\n",
        "# x label\n",
        "plt.xlabel('False Positive Rate')\n",
        "# y label\n",
        "plt.ylabel('True Positive rate')\n",
        "plt.legend(loc='best')\n",
        "plt.show();\n",
        "plt.savefig('Binary ROC',dpi=1000); "
      ],
      "execution_count": null,
      "outputs": [
        {
          "output_type": "display_data",
          "data": {
            "image/png": "[encoded data removed]",
            "text/plain": [
              "<Figure size 432x288 with 1 Axes>"
            ]
          },
          "metadata": {
            "tags": [],
            "needs_background": "light"
          }
        },
        {
          "output_type": "display_data",
          "data": {
            "text/plain": [
              "<Figure size 432x288 with 0 Axes>"
            ]
          },
          "metadata": {
            "tags": []
          }
        }
      ]
    },
    {
      "cell_type": "markdown",
      "metadata": {
        "id": "70O4LpgEN43q"
      },
      "source": [
        "**Cross-Validation**"
      ]
    },
    {
      "cell_type": "code",
      "metadata": {
        "id": "4-t30LGhTjQb"
      },
      "source": [
        "from numpy import mean\n",
        "from numpy import std\n",
        "#from sklearn.model_selection import StratifiedKFold\n",
        "from sklearn.model_selection import RepeatedStratifiedKFold\n",
        "from sklearn.model_selection import cross_val_score\n",
        "from sklearn.metrics import log_loss"
      ],
      "execution_count": null,
      "outputs": []
    },
    {
      "cell_type": "code",
      "metadata": {
        "id": "m9BYSTyAKHj_"
      },
      "source": [
        "kf = StratifiedKFold(n_splits=10, shuffle=True, random_state=1)"
      ],
      "execution_count": null,
      "outputs": []
    },
    {
      "cell_type": "markdown",
      "metadata": {
        "id": "HMkWeLxHKt3I"
      },
      "source": [
        "**Logistic Regression Cross-Validation Scores**"
      ]
    },
    {
      "cell_type": "code",
      "metadata": {
        "id": "Kj2RaGBJAX_p"
      },
      "source": [
        "sc = StandardScaler()\n",
        "X_sc = sc.fit_transform(X)"
      ],
      "execution_count": null,
      "outputs": []
    },
    {
      "cell_type": "code",
      "metadata": {
        "id": "EaceMnQI5jwe"
      },
      "source": [
        "accuracy1=np.mean(cross_val_score(logistic_model,X_sc,y,cv=kf,scoring='accuracy'))"
      ],
      "execution_count": null,
      "outputs": []
    },
    {
      "cell_type": "code",
      "metadata": {
        "id": "uuIEtWS3JvfG"
      },
      "source": [
        "precision1    = np.mean(cross_val_score(logistic_model, X_sc,y, cv=kf, scoring='precision'))"
      ],
      "execution_count": null,
      "outputs": []
    },
    {
      "cell_type": "code",
      "metadata": {
        "id": "19-03xwTJwB6"
      },
      "source": [
        "recall1       = np.mean(cross_val_score(logistic_model, X_sc,y, cv=kf, scoring='recall'))"
      ],
      "execution_count": null,
      "outputs": []
    },
    {
      "cell_type": "code",
      "metadata": {
        "id": "6fxIjtSeJ08P"
      },
      "source": [
        "f1score1      = np.mean(cross_val_score(logistic_model, X_sc,y, cv=kf, scoring='f1'))"
      ],
      "execution_count": null,
      "outputs": []
    },
    {
      "cell_type": "code",
      "metadata": {
        "id": "QNijgxYCJ3TX"
      },
      "source": [
        " rocauc1       = np.mean(cross_val_score(logistic_model, X_sc, y, cv=kf, scoring='roc_auc'))"
      ],
      "execution_count": null,
      "outputs": []
    },
    {
      "cell_type": "code",
      "metadata": {
        "id": "0UaHVSo3K8MD"
      },
      "source": [
        " model1 = pd.DataFrame({'Model'        : [\"Logistic Regression\"],\n",
        "                             'Accuracy'     : [accuracy1],\n",
        "                             'Precision'    : [precision1],\n",
        "                             'Recall'       : [recall1],\n",
        "                             'F1score'      : [f1score1],\n",
        "                             'ROCAUC'       : [rocauc1],\n",
        "                       })   "
      ],
      "execution_count": null,
      "outputs": []
    },
    {
      "cell_type": "code",
      "metadata": {
        "colab": {
          "base_uri": "https://localhost:8080/",
          "height": 80
        },
        "id": "qfSeP1cY5wFD",
        "outputId": "6d8e209a-9857-4b4e-ddd8-87f858322700"
      },
      "source": [
        "model1"
      ],
      "execution_count": null,
      "outputs": [
        {
          "output_type": "execute_result",
          "data": {
            "text/html": [
              "<div>\n",
              "<style scoped>\n",
              "    .dataframe tbody tr th:only-of-type {\n",
              "        vertical-align: middle;\n",
              "    }\n",
              "\n",
              "    .dataframe tbody tr th {\n",
              "        vertical-align: top;\n",
              "    }\n",
              "\n",
              "    .dataframe thead th {\n",
              "        text-align: right;\n",
              "    }\n",
              "</style>\n",
              "<table border=\"1\" class=\"dataframe\">\n",
              "  <thead>\n",
              "    <tr style=\"text-align: right;\">\n",
              "      <th></th>\n",
              "      <th>Model</th>\n",
              "      <th>Accuracy</th>\n",
              "      <th>Precision</th>\n",
              "      <th>Recall</th>\n",
              "      <th>F1score</th>\n",
              "      <th>ROCAUC</th>\n",
              "    </tr>\n",
              "  </thead>\n",
              "  <tbody>\n",
              "    <tr>\n",
              "      <th>0</th>\n",
              "      <td>Logistic Regression</td>\n",
              "      <td>0.946647</td>\n",
              "      <td>0.89311</td>\n",
              "      <td>0.873256</td>\n",
              "      <td>0.882647</td>\n",
              "      <td>0.98141</td>\n",
              "    </tr>\n",
              "  </tbody>\n",
              "</table>\n",
              "</div>"
            ],
            "text/plain": [
              "                 Model  Accuracy  Precision    Recall   F1score   ROCAUC\n",
              "0  Logistic Regression  0.946647    0.89311  0.873256  0.882647  0.98141"
            ]
          },
          "metadata": {
            "tags": []
          },
          "execution_count": 136
        }
      ]
    },
    {
      "cell_type": "markdown",
      "metadata": {
        "id": "XQ6t4fzAJo2h"
      },
      "source": [
        "**Random Forest Model**"
      ]
    },
    {
      "cell_type": "code",
      "metadata": {
        "id": "sRWt8lgj6sD_"
      },
      "source": [
        "accuracy2=np.mean(cross_val_score(rf1,X,y,cv=kf,scoring='accuracy'))"
      ],
      "execution_count": null,
      "outputs": []
    },
    {
      "cell_type": "code",
      "metadata": {
        "id": "UXWM9xDy6sEB"
      },
      "source": [
        "precision2    = np.mean(cross_val_score(rf1, X,y, cv=kf, scoring='precision'))"
      ],
      "execution_count": null,
      "outputs": []
    },
    {
      "cell_type": "code",
      "metadata": {
        "id": "jhUt9yGh6sEB"
      },
      "source": [
        "recall2       = np.mean(cross_val_score(rf1, X,y, cv=kf, scoring='recall'))"
      ],
      "execution_count": null,
      "outputs": []
    },
    {
      "cell_type": "code",
      "metadata": {
        "id": "pmAj7bVl6sEC"
      },
      "source": [
        "f1score2      = np.mean(cross_val_score(rf1, X,y, cv=kf, scoring='f1'))"
      ],
      "execution_count": null,
      "outputs": []
    },
    {
      "cell_type": "code",
      "metadata": {
        "id": "I72I73s66sEC"
      },
      "source": [
        " rocauc2       = np.mean(cross_val_score(rf1, X, y, cv=kf, scoring='roc_auc'))"
      ],
      "execution_count": null,
      "outputs": []
    },
    {
      "cell_type": "code",
      "metadata": {
        "id": "JMwjL1qX6sEC"
      },
      "source": [
        " model2 = pd.DataFrame({'Model'        : [\"Random Forest\"],\n",
        "                             'Accuracy'     : [accuracy2],\n",
        "                             'Precision'    : [precision2],\n",
        "                             'Recall'       : [recall2],\n",
        "                             'F1score'      : [f1score2],\n",
        "                             'ROCAUC'       : [rocauc2],\n",
        "                             \n",
        "                               })   "
      ],
      "execution_count": null,
      "outputs": []
    },
    {
      "cell_type": "code",
      "metadata": {
        "colab": {
          "base_uri": "https://localhost:8080/",
          "height": 80
        },
        "id": "C7WiGltq_xDp",
        "outputId": "3e119447-573b-47d5-dc62-3b0917ddcf76"
      },
      "source": [
        "model2"
      ],
      "execution_count": null,
      "outputs": [
        {
          "output_type": "execute_result",
          "data": {
            "text/html": [
              "<div>\n",
              "<style scoped>\n",
              "    .dataframe tbody tr th:only-of-type {\n",
              "        vertical-align: middle;\n",
              "    }\n",
              "\n",
              "    .dataframe tbody tr th {\n",
              "        vertical-align: top;\n",
              "    }\n",
              "\n",
              "    .dataframe thead th {\n",
              "        text-align: right;\n",
              "    }\n",
              "</style>\n",
              "<table border=\"1\" class=\"dataframe\">\n",
              "  <thead>\n",
              "    <tr style=\"text-align: right;\">\n",
              "      <th></th>\n",
              "      <th>Model</th>\n",
              "      <th>Accuracy</th>\n",
              "      <th>Precision</th>\n",
              "      <th>Recall</th>\n",
              "      <th>F1score</th>\n",
              "      <th>ROCAUC</th>\n",
              "    </tr>\n",
              "  </thead>\n",
              "  <tbody>\n",
              "    <tr>\n",
              "      <th>0</th>\n",
              "      <td>Random Forest</td>\n",
              "      <td>0.945592</td>\n",
              "      <td>0.917889</td>\n",
              "      <td>0.838689</td>\n",
              "      <td>0.875943</td>\n",
              "      <td>0.980504</td>\n",
              "    </tr>\n",
              "  </tbody>\n",
              "</table>\n",
              "</div>"
            ],
            "text/plain": [
              "           Model  Accuracy  Precision    Recall   F1score    ROCAUC\n",
              "0  Random Forest  0.945592   0.917889  0.838689  0.875943  0.980504"
            ]
          },
          "metadata": {
            "tags": []
          },
          "execution_count": 143
        }
      ]
    },
    {
      "cell_type": "markdown",
      "metadata": {
        "id": "FIoo3gtyBauT"
      },
      "source": [
        "**SVM Model**"
      ]
    },
    {
      "cell_type": "code",
      "metadata": {
        "id": "iYkk8XHfCH5O"
      },
      "source": [
        "accuracy3=np.mean(cross_val_score(svm_linear, X_sc,y, cv=kf, scoring='accuracy'))"
      ],
      "execution_count": null,
      "outputs": []
    },
    {
      "cell_type": "code",
      "metadata": {
        "id": "kGBrmNNQBZf3"
      },
      "source": [
        "precision3    = np.mean(cross_val_score(svm_linear, X_sc,y, cv=kf, scoring='precision'))"
      ],
      "execution_count": null,
      "outputs": []
    },
    {
      "cell_type": "code",
      "metadata": {
        "id": "yJ0gDntpBZf4"
      },
      "source": [
        "recall3       = np.mean(cross_val_score(svm_linear, X_sc,y, cv=kf, scoring='recall'))"
      ],
      "execution_count": null,
      "outputs": []
    },
    {
      "cell_type": "code",
      "metadata": {
        "id": "VlhV83nrBZf5"
      },
      "source": [
        "f1score3      = np.mean(cross_val_score(svm_linear, X_sc,y, cv=kf, scoring='f1'))"
      ],
      "execution_count": null,
      "outputs": []
    },
    {
      "cell_type": "code",
      "metadata": {
        "id": "UslmCm6rBZf6"
      },
      "source": [
        " rocauc3       = np.mean(cross_val_score(svm_linear, X_sc, y, cv=kf, scoring='roc_auc'))"
      ],
      "execution_count": null,
      "outputs": []
    },
    {
      "cell_type": "code",
      "metadata": {
        "id": "tXVS6ZyBBZf7"
      },
      "source": [
        " model3 = pd.DataFrame({'Model'        : [\"SVM\"],\n",
        "                             'Accuracy'     : [accuracy3],\n",
        "                             'Precision'    : [precision3],\n",
        "                             'Recall'       : [recall3],\n",
        "                             'F1score'      : [f1score3],\n",
        "                             'ROCAUC'       : [rocauc3],\n",
        "                             \n",
        "                               })   "
      ],
      "execution_count": null,
      "outputs": []
    },
    {
      "cell_type": "code",
      "metadata": {
        "colab": {
          "base_uri": "https://localhost:8080/",
          "height": 80
        },
        "id": "qdDLxAxfJZj7",
        "outputId": "64d1df2e-58b2-4318-fa9a-c4b6905d211f"
      },
      "source": [
        "model3"
      ],
      "execution_count": null,
      "outputs": [
        {
          "output_type": "execute_result",
          "data": {
            "text/html": [
              "<div>\n",
              "<style scoped>\n",
              "    .dataframe tbody tr th:only-of-type {\n",
              "        vertical-align: middle;\n",
              "    }\n",
              "\n",
              "    .dataframe tbody tr th {\n",
              "        vertical-align: top;\n",
              "    }\n",
              "\n",
              "    .dataframe thead th {\n",
              "        text-align: right;\n",
              "    }\n",
              "</style>\n",
              "<table border=\"1\" class=\"dataframe\">\n",
              "  <thead>\n",
              "    <tr style=\"text-align: right;\">\n",
              "      <th></th>\n",
              "      <th>Model</th>\n",
              "      <th>Accuracy</th>\n",
              "      <th>Precision</th>\n",
              "      <th>Recall</th>\n",
              "      <th>F1score</th>\n",
              "      <th>ROCAUC</th>\n",
              "    </tr>\n",
              "  </thead>\n",
              "  <tbody>\n",
              "    <tr>\n",
              "      <th>0</th>\n",
              "      <td>SVM</td>\n",
              "      <td>0.945065</td>\n",
              "      <td>0.900463</td>\n",
              "      <td>0.857135</td>\n",
              "      <td>0.87759</td>\n",
              "      <td>0.981313</td>\n",
              "    </tr>\n",
              "  </tbody>\n",
              "</table>\n",
              "</div>"
            ],
            "text/plain": [
              "  Model  Accuracy  Precision    Recall  F1score    ROCAUC\n",
              "0   SVM  0.945065   0.900463  0.857135  0.87759  0.981313"
            ]
          },
          "metadata": {
            "tags": []
          },
          "execution_count": 150
        }
      ]
    },
    {
      "cell_type": "markdown",
      "metadata": {
        "id": "1NzUnhCYJyqU"
      },
      "source": [
        "**Gaussian Naive Bayes**"
      ]
    },
    {
      "cell_type": "code",
      "metadata": {
        "id": "m9fLwN0VJxHq"
      },
      "source": [
        "accuracy4=np.mean(cross_val_score(nb,X,y,cv=kf,scoring='accuracy'))"
      ],
      "execution_count": null,
      "outputs": []
    },
    {
      "cell_type": "code",
      "metadata": {
        "id": "aaokBpsiJxHs"
      },
      "source": [
        "precision4    = np.mean(cross_val_score(nb, X,y, cv=kf, scoring='precision'))"
      ],
      "execution_count": null,
      "outputs": []
    },
    {
      "cell_type": "code",
      "metadata": {
        "id": "NkABgi0yJxHt"
      },
      "source": [
        "recall4       = np.mean(cross_val_score(nb, X,y, cv=kf, scoring='recall'))"
      ],
      "execution_count": null,
      "outputs": []
    },
    {
      "cell_type": "code",
      "metadata": {
        "id": "KqJY827AJxHu"
      },
      "source": [
        "f1score4      = np.mean(cross_val_score(nb, X,y, cv=kf, scoring='f1'))"
      ],
      "execution_count": null,
      "outputs": []
    },
    {
      "cell_type": "code",
      "metadata": {
        "id": "PiRxQETPJxHu"
      },
      "source": [
        " rocauc4       = np.mean(cross_val_score(nb, X, y, cv=kf, scoring='roc_auc'))"
      ],
      "execution_count": null,
      "outputs": []
    },
    {
      "cell_type": "code",
      "metadata": {
        "id": "CgnK-fkpJxHv"
      },
      "source": [
        " model4 = pd.DataFrame({'Model'        : [\"Gaussian Naive Bayes\"],\n",
        "                             'Accuracy'     : [accuracy4],\n",
        "                             'Precision'    : [precision4],\n",
        "                             'Recall'       : [recall4],\n",
        "                             'F1score'      : [f1score4],\n",
        "                             'ROCAUC'       : [rocauc4],\n",
        "                             \n",
        "                               })   "
      ],
      "execution_count": null,
      "outputs": []
    },
    {
      "cell_type": "code",
      "metadata": {
        "colab": {
          "base_uri": "https://localhost:8080/",
          "height": 80
        },
        "id": "kscGfH_vKYDi",
        "outputId": "6f56b2d0-8d9f-4f65-f45f-3cf26ca881da"
      },
      "source": [
        "model4"
      ],
      "execution_count": null,
      "outputs": [
        {
          "output_type": "execute_result",
          "data": {
            "text/html": [
              "<div>\n",
              "<style scoped>\n",
              "    .dataframe tbody tr th:only-of-type {\n",
              "        vertical-align: middle;\n",
              "    }\n",
              "\n",
              "    .dataframe tbody tr th {\n",
              "        vertical-align: top;\n",
              "    }\n",
              "\n",
              "    .dataframe thead th {\n",
              "        text-align: right;\n",
              "    }\n",
              "</style>\n",
              "<table border=\"1\" class=\"dataframe\">\n",
              "  <thead>\n",
              "    <tr style=\"text-align: right;\">\n",
              "      <th></th>\n",
              "      <th>Model</th>\n",
              "      <th>Accuracy</th>\n",
              "      <th>Precision</th>\n",
              "      <th>Recall</th>\n",
              "      <th>F1score</th>\n",
              "      <th>ROCAUC</th>\n",
              "    </tr>\n",
              "  </thead>\n",
              "  <tbody>\n",
              "    <tr>\n",
              "      <th>0</th>\n",
              "      <td>Gaussian Naive Bayes</td>\n",
              "      <td>0.857354</td>\n",
              "      <td>0.628318</td>\n",
              "      <td>0.944767</td>\n",
              "      <td>0.753669</td>\n",
              "      <td>0.958165</td>\n",
              "    </tr>\n",
              "  </tbody>\n",
              "</table>\n",
              "</div>"
            ],
            "text/plain": [
              "                  Model  Accuracy  Precision    Recall   F1score    ROCAUC\n",
              "0  Gaussian Naive Bayes  0.857354   0.628318  0.944767  0.753669  0.958165"
            ]
          },
          "metadata": {
            "tags": []
          },
          "execution_count": 157
        }
      ]
    },
    {
      "cell_type": "markdown",
      "metadata": {
        "id": "rwmrgsy4Kl3v"
      },
      "source": [
        "**Decision Tree**"
      ]
    },
    {
      "cell_type": "code",
      "metadata": {
        "id": "9ZtKAVn0Kk85"
      },
      "source": [
        "accuracy5=np.mean(cross_val_score(dt,X,y,cv=kf,scoring='accuracy'))"
      ],
      "execution_count": null,
      "outputs": []
    },
    {
      "cell_type": "code",
      "metadata": {
        "id": "tA4uA1jbKk86"
      },
      "source": [
        "precision5    = np.mean(cross_val_score(dt, X,y, cv=kf, scoring='precision'))"
      ],
      "execution_count": null,
      "outputs": []
    },
    {
      "cell_type": "code",
      "metadata": {
        "id": "t48eBlkuKk87"
      },
      "source": [
        "recall5       = np.mean(cross_val_score(dt, X,y, cv=kf, scoring='recall'))"
      ],
      "execution_count": null,
      "outputs": []
    },
    {
      "cell_type": "code",
      "metadata": {
        "id": "nQsQ9gc9Kk88"
      },
      "source": [
        "f1score5      = np.mean(cross_val_score(dt, X,y, cv=kf, scoring='f1'))"
      ],
      "execution_count": null,
      "outputs": []
    },
    {
      "cell_type": "code",
      "metadata": {
        "id": "IC1J4O7OKk89"
      },
      "source": [
        " rocauc5       = np.mean(cross_val_score(dt, X, y, cv=kf, scoring='roc_auc'))"
      ],
      "execution_count": null,
      "outputs": []
    },
    {
      "cell_type": "code",
      "metadata": {
        "id": "hvD-RLdaKk8-"
      },
      "source": [
        " model5 = pd.DataFrame({'Model'        : [\"Decision Tree\"],\n",
        "                             'Accuracy'     : [accuracy5],\n",
        "                             'Precision'    : [precision5],\n",
        "                             'Recall'       : [recall5],\n",
        "                             'F1score'      : [f1score5],\n",
        "                             'ROCAUC'       : [rocauc5],\n",
        "                             \n",
        "                               })   "
      ],
      "execution_count": null,
      "outputs": []
    },
    {
      "cell_type": "code",
      "metadata": {
        "colab": {
          "base_uri": "https://localhost:8080/",
          "height": 80
        },
        "id": "CY7Bv6vSK-JW",
        "outputId": "57dca488-8a1d-4f33-9995-4a8bdca95d97"
      },
      "source": [
        "model5"
      ],
      "execution_count": null,
      "outputs": [
        {
          "output_type": "execute_result",
          "data": {
            "text/html": [
              "<div>\n",
              "<style scoped>\n",
              "    .dataframe tbody tr th:only-of-type {\n",
              "        vertical-align: middle;\n",
              "    }\n",
              "\n",
              "    .dataframe tbody tr th {\n",
              "        vertical-align: top;\n",
              "    }\n",
              "\n",
              "    .dataframe thead th {\n",
              "        text-align: right;\n",
              "    }\n",
              "</style>\n",
              "<table border=\"1\" class=\"dataframe\">\n",
              "  <thead>\n",
              "    <tr style=\"text-align: right;\">\n",
              "      <th></th>\n",
              "      <th>Model</th>\n",
              "      <th>Accuracy</th>\n",
              "      <th>Precision</th>\n",
              "      <th>Recall</th>\n",
              "      <th>F1score</th>\n",
              "      <th>ROCAUC</th>\n",
              "    </tr>\n",
              "  </thead>\n",
              "  <tbody>\n",
              "    <tr>\n",
              "      <th>0</th>\n",
              "      <td>Decision Tree</td>\n",
              "      <td>0.923409</td>\n",
              "      <td>0.836544</td>\n",
              "      <td>0.829387</td>\n",
              "      <td>0.831952</td>\n",
              "      <td>0.890367</td>\n",
              "    </tr>\n",
              "  </tbody>\n",
              "</table>\n",
              "</div>"
            ],
            "text/plain": [
              "           Model  Accuracy  Precision    Recall   F1score    ROCAUC\n",
              "0  Decision Tree  0.923409   0.836544  0.829387  0.831952  0.890367"
            ]
          },
          "metadata": {
            "tags": []
          },
          "execution_count": 164
        }
      ]
    },
    {
      "cell_type": "markdown",
      "metadata": {
        "id": "BLA86zv_SY1E"
      },
      "source": [
        "Getting the summary of cross validation scores for all the models"
      ]
    },
    {
      "cell_type": "code",
      "metadata": {
        "id": "nr9JEsSNLSpj"
      },
      "source": [
        "df_model=pd.concat([model1,model2,model3,model4,model5])"
      ],
      "execution_count": null,
      "outputs": []
    },
    {
      "cell_type": "code",
      "metadata": {
        "id": "VVMk0jPUL4yt"
      },
      "source": [
        "df_model.reset_index(drop=True, inplace=True)"
      ],
      "execution_count": null,
      "outputs": []
    },
    {
      "cell_type": "code",
      "metadata": {
        "colab": {
          "base_uri": "https://localhost:8080/",
          "height": 204
        },
        "id": "4lv69sFnOS1J",
        "outputId": "c12e85f7-5d14-4ca1-c817-dab72f021d1b"
      },
      "source": [
        "df_model"
      ],
      "execution_count": null,
      "outputs": [
        {
          "output_type": "execute_result",
          "data": {
            "text/html": [
              "<div>\n",
              "<style scoped>\n",
              "    .dataframe tbody tr th:only-of-type {\n",
              "        vertical-align: middle;\n",
              "    }\n",
              "\n",
              "    .dataframe tbody tr th {\n",
              "        vertical-align: top;\n",
              "    }\n",
              "\n",
              "    .dataframe thead th {\n",
              "        text-align: right;\n",
              "    }\n",
              "</style>\n",
              "<table border=\"1\" class=\"dataframe\">\n",
              "  <thead>\n",
              "    <tr style=\"text-align: right;\">\n",
              "      <th></th>\n",
              "      <th>Model</th>\n",
              "      <th>Accuracy</th>\n",
              "      <th>Precision</th>\n",
              "      <th>Recall</th>\n",
              "      <th>F1score</th>\n",
              "      <th>ROCAUC</th>\n",
              "    </tr>\n",
              "  </thead>\n",
              "  <tbody>\n",
              "    <tr>\n",
              "      <th>0</th>\n",
              "      <td>Logistic Regression</td>\n",
              "      <td>0.946647</td>\n",
              "      <td>0.893110</td>\n",
              "      <td>0.873256</td>\n",
              "      <td>0.882647</td>\n",
              "      <td>0.981410</td>\n",
              "    </tr>\n",
              "    <tr>\n",
              "      <th>1</th>\n",
              "      <td>Random Forest</td>\n",
              "      <td>0.945592</td>\n",
              "      <td>0.917889</td>\n",
              "      <td>0.838689</td>\n",
              "      <td>0.875943</td>\n",
              "      <td>0.980504</td>\n",
              "    </tr>\n",
              "    <tr>\n",
              "      <th>2</th>\n",
              "      <td>SVM</td>\n",
              "      <td>0.945065</td>\n",
              "      <td>0.900463</td>\n",
              "      <td>0.857135</td>\n",
              "      <td>0.877590</td>\n",
              "      <td>0.981313</td>\n",
              "    </tr>\n",
              "    <tr>\n",
              "      <th>3</th>\n",
              "      <td>Gaussian Naive Bayes</td>\n",
              "      <td>0.857354</td>\n",
              "      <td>0.628318</td>\n",
              "      <td>0.944767</td>\n",
              "      <td>0.753669</td>\n",
              "      <td>0.958165</td>\n",
              "    </tr>\n",
              "    <tr>\n",
              "      <th>4</th>\n",
              "      <td>Decision Tree</td>\n",
              "      <td>0.923409</td>\n",
              "      <td>0.836544</td>\n",
              "      <td>0.829387</td>\n",
              "      <td>0.831952</td>\n",
              "      <td>0.890367</td>\n",
              "    </tr>\n",
              "  </tbody>\n",
              "</table>\n",
              "</div>"
            ],
            "text/plain": [
              "                  Model  Accuracy  Precision    Recall   F1score    ROCAUC\n",
              "0   Logistic Regression  0.946647   0.893110  0.873256  0.882647  0.981410\n",
              "1         Random Forest  0.945592   0.917889  0.838689  0.875943  0.980504\n",
              "2                   SVM  0.945065   0.900463  0.857135  0.877590  0.981313\n",
              "3  Gaussian Naive Bayes  0.857354   0.628318  0.944767  0.753669  0.958165\n",
              "4         Decision Tree  0.923409   0.836544  0.829387  0.831952  0.890367"
            ]
          },
          "metadata": {
            "tags": []
          },
          "execution_count": 167
        }
      ]
    },
    {
      "cell_type": "code",
      "metadata": {
        "id": "d_ZWNJjfNK3M"
      },
      "source": [
        "df_model.to_excel('crossvalscore.xls')"
      ],
      "execution_count": null,
      "outputs": []
    },
    {
      "cell_type": "markdown",
      "metadata": {
        "id": "atDbXysiekyv"
      },
      "source": [
        "**Log Loss**"
      ]
    },
    {
      "cell_type": "code",
      "metadata": {
        "id": "Ay0gT-Rjg3pO"
      },
      "source": [
        "data_log = {\n",
        "        'log_loss': [l_log1,l_log2,l_knn,l_svm,l_dt,l_rf,lrf_tuned,l_gb,l_nb],\n",
        "        'model_names': ['Logistic Regression','Logistic Regression Tuned','KNN','SVM','Decision Tree','Random Forest','Random Forest Tuned','GradientDescent','GaussianNB']}\n"
      ],
      "execution_count": null,
      "outputs": []
    },
    {
      "cell_type": "code",
      "metadata": {
        "id": "XH4rSthmg3s_"
      },
      "source": [
        "df_log_loss = pd.DataFrame(data_log, columns = ['model_names', 'log_loss'])"
      ],
      "execution_count": null,
      "outputs": []
    },
    {
      "cell_type": "code",
      "metadata": {
        "colab": {
          "base_uri": "https://localhost:8080/",
          "height": 328
        },
        "id": "2O0v3xlOhTcL",
        "outputId": "21ce4bc1-75ba-494e-e2d7-3e767a7fba37"
      },
      "source": [
        "df_log_loss"
      ],
      "execution_count": null,
      "outputs": [
        {
          "output_type": "execute_result",
          "data": {
            "text/html": [
              "<div>\n",
              "<style scoped>\n",
              "    .dataframe tbody tr th:only-of-type {\n",
              "        vertical-align: middle;\n",
              "    }\n",
              "\n",
              "    .dataframe tbody tr th {\n",
              "        vertical-align: top;\n",
              "    }\n",
              "\n",
              "    .dataframe thead th {\n",
              "        text-align: right;\n",
              "    }\n",
              "</style>\n",
              "<table border=\"1\" class=\"dataframe\">\n",
              "  <thead>\n",
              "    <tr style=\"text-align: right;\">\n",
              "      <th></th>\n",
              "      <th>model_names</th>\n",
              "      <th>log_loss</th>\n",
              "    </tr>\n",
              "  </thead>\n",
              "  <tbody>\n",
              "    <tr>\n",
              "      <th>0</th>\n",
              "      <td>Logistic Regression</td>\n",
              "      <td>1.520207</td>\n",
              "    </tr>\n",
              "    <tr>\n",
              "      <th>1</th>\n",
              "      <td>Logistic Regression Tuned</td>\n",
              "      <td>1.824256</td>\n",
              "    </tr>\n",
              "    <tr>\n",
              "      <th>2</th>\n",
              "      <td>KNN</td>\n",
              "      <td>1.763436</td>\n",
              "    </tr>\n",
              "    <tr>\n",
              "      <th>3</th>\n",
              "      <td>SVM</td>\n",
              "      <td>1.641822</td>\n",
              "    </tr>\n",
              "    <tr>\n",
              "      <th>4</th>\n",
              "      <td>Decision Tree</td>\n",
              "      <td>2.189100</td>\n",
              "    </tr>\n",
              "    <tr>\n",
              "      <th>5</th>\n",
              "      <td>Random Forest</td>\n",
              "      <td>1.641819</td>\n",
              "    </tr>\n",
              "    <tr>\n",
              "      <th>6</th>\n",
              "      <td>Random Forest Tuned</td>\n",
              "      <td>1.581014</td>\n",
              "    </tr>\n",
              "    <tr>\n",
              "      <th>7</th>\n",
              "      <td>GradientDescent</td>\n",
              "      <td>1.702627</td>\n",
              "    </tr>\n",
              "    <tr>\n",
              "      <th>8</th>\n",
              "      <td>GaussianNB</td>\n",
              "      <td>5.351192</td>\n",
              "    </tr>\n",
              "  </tbody>\n",
              "</table>\n",
              "</div>"
            ],
            "text/plain": [
              "                 model_names  log_loss\n",
              "0        Logistic Regression  1.520207\n",
              "1  Logistic Regression Tuned  1.824256\n",
              "2                        KNN  1.763436\n",
              "3                        SVM  1.641822\n",
              "4              Decision Tree  2.189100\n",
              "5              Random Forest  1.641819\n",
              "6        Random Forest Tuned  1.581014\n",
              "7            GradientDescent  1.702627\n",
              "8                 GaussianNB  5.351192"
            ]
          },
          "metadata": {
            "tags": []
          },
          "execution_count": 172
        }
      ]
    },
    {
      "cell_type": "markdown",
      "metadata": {
        "id": "WaGwVPPGSoB_"
      },
      "source": [
        "Based on the above results, the best three models are\n",
        "1. Logistic Regression- Low log loss, needs scaled input data, optimum execution time \n",
        "2. Random Forest Model- Low log loss, no scaling needed, optimum execution time \n",
        "3. Support Vector Machine- Low log loss, scaling needed, longer execution times if not scaled.\n",
        "\n",
        "Best two models for election result prediction in this project are Logistic Regression and Random Forest Model"
      ]
    }
  ]
}