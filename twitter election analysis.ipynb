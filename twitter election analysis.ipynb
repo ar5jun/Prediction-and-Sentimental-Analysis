{
 "cells": [
  {
   "cell_type": "code",
   "execution_count": 1,
   "metadata": {},
   "outputs": [],
   "source": [
    "import pandas as pd\n",
    "import numpy as np\n",
    "import matplotlib.pyplot as plt\n",
    "import seaborn as sns"
   ]
  },
  {
   "cell_type": "code",
   "execution_count": 22,
   "metadata": {
    "scrolled": false
   },
   "outputs": [
    {
     "name": "stdout",
     "output_type": "stream",
     "text": [
      "Collecting wordcloud\n",
      "  Downloading wordcloud-1.8.1-cp38-cp38-manylinux1_x86_64.whl (371 kB)\n",
      "\u001b[K     |████████████████████████████████| 371 kB 923 kB/s eta 0:00:01\n",
      "\u001b[?25hRequirement already satisfied: numpy>=1.6.1 in /home/arjun/anaconda3/lib/python3.8/site-packages (from wordcloud) (1.19.2)\n",
      "Requirement already satisfied: pillow in /home/arjun/anaconda3/lib/python3.8/site-packages (from wordcloud) (8.0.1)\n",
      "Requirement already satisfied: matplotlib in /home/arjun/anaconda3/lib/python3.8/site-packages (from wordcloud) (3.3.2)\n",
      "Requirement already satisfied: python-dateutil>=2.1 in /home/arjun/anaconda3/lib/python3.8/site-packages (from matplotlib->wordcloud) (2.8.1)\n",
      "Requirement already satisfied: kiwisolver>=1.0.1 in /home/arjun/anaconda3/lib/python3.8/site-packages (from matplotlib->wordcloud) (1.3.0)\n",
      "Requirement already satisfied: pyparsing!=2.0.4,!=2.1.2,!=2.1.6,>=2.0.3 in /home/arjun/anaconda3/lib/python3.8/site-packages (from matplotlib->wordcloud) (2.4.7)\n",
      "Requirement already satisfied: cycler>=0.10 in /home/arjun/anaconda3/lib/python3.8/site-packages (from matplotlib->wordcloud) (0.10.0)\n",
      "Requirement already satisfied: certifi>=2020.06.20 in /home/arjun/anaconda3/lib/python3.8/site-packages (from matplotlib->wordcloud) (2020.6.20)\n",
      "Requirement already satisfied: six>=1.5 in /home/arjun/anaconda3/lib/python3.8/site-packages (from python-dateutil>=2.1->matplotlib->wordcloud) (1.15.0)\n",
      "Installing collected packages: wordcloud\n",
      "Successfully installed wordcloud-1.8.1\n",
      "Note: you may need to restart the kernel to use updated packages.\n"
     ]
    }
   ],
   "source": [
    "pip install wordcloud"
   ]
  },
  {
   "cell_type": "code",
   "execution_count": 128,
   "metadata": {},
   "outputs": [
    {
     "name": "stdout",
     "output_type": "stream",
     "text": [
      "Requirement already satisfied: TextBlob in /home/arjun/anaconda3/lib/python3.8/site-packages (0.15.3)\n",
      "Requirement already satisfied: nltk>=3.1 in /home/arjun/anaconda3/lib/python3.8/site-packages (from TextBlob) (3.5)\n",
      "Requirement already satisfied: joblib in /home/arjun/anaconda3/lib/python3.8/site-packages (from nltk>=3.1->TextBlob) (0.17.0)\n",
      "Requirement already satisfied: regex in /home/arjun/anaconda3/lib/python3.8/site-packages (from nltk>=3.1->TextBlob) (2020.10.15)\n",
      "Requirement already satisfied: click in /home/arjun/anaconda3/lib/python3.8/site-packages (from nltk>=3.1->TextBlob) (7.1.2)\n",
      "Requirement already satisfied: tqdm in /home/arjun/anaconda3/lib/python3.8/site-packages (from nltk>=3.1->TextBlob) (4.50.2)\n",
      "Note: you may need to restart the kernel to use updated packages.\n"
     ]
    }
   ],
   "source": [
    "pip install TextBlob"
   ]
  },
  {
   "cell_type": "code",
   "execution_count": 2,
   "metadata": {
    "scrolled": false
   },
   "outputs": [
    {
     "name": "stderr",
     "output_type": "stream",
     "text": [
      "/home/arjun/anaconda3/lib/python3.8/site-packages/IPython/core/interactiveshell.py:3146: DtypeWarning: Columns (15) have mixed types.Specify dtype option on import or set low_memory=False.\n",
      "  has_raised = await self.run_ast_nodes(code_ast.body, cell_name,\n"
     ]
    }
   ],
   "source": [
    "df = pd.read_csv(\"twitter_data.csv\")"
   ]
  },
  {
   "cell_type": "code",
   "execution_count": 3,
   "metadata": {},
   "outputs": [],
   "source": [
    "from textblob import TextBlob"
   ]
  },
  {
   "cell_type": "code",
   "execution_count": 4,
   "metadata": {},
   "outputs": [],
   "source": [
    "from IPython.display import display "
   ]
  },
  {
   "cell_type": "code",
   "execution_count": 7,
   "metadata": {},
   "outputs": [
    {
     "data": {
      "text/plain": [
       "(107968, 88)"
      ]
     },
     "execution_count": 7,
     "metadata": {},
     "output_type": "execute_result"
    }
   ],
   "source": [
    "df.shape"
   ]
  },
  {
   "cell_type": "code",
   "execution_count": 5,
   "metadata": {},
   "outputs": [
    {
     "data": {
      "text/plain": [
       "Index(['user_id', 'status_id', 'created_at', 'screen_name', 'text', 'source',\n",
       "       'display_text_width', 'reply_to_status_id', 'reply_to_user_id',\n",
       "       'reply_to_screen_name', 'is_quote', 'is_retweet', 'favorite_count',\n",
       "       'retweet_count', 'hashtags', 'symbols', 'urls_url', 'urls_t.co',\n",
       "       'urls_expanded_url', 'media_url', 'media_t.co', 'media_expanded_url',\n",
       "       'media_type', 'ext_media_url', 'ext_media_t.co',\n",
       "       'ext_media_expanded_url', 'ext_media_type', 'mentions_user_id',\n",
       "       'mentions_screen_name', 'lang', 'quoted_status_id', 'quoted_text',\n",
       "       'quoted_created_at', 'quoted_source', 'quoted_favorite_count',\n",
       "       'quoted_retweet_count', 'quoted_user_id', 'quoted_screen_name',\n",
       "       'quoted_name', 'quoted_followers_count', 'quoted_friends_count',\n",
       "       'quoted_statuses_count', 'quoted_location', 'quoted_description',\n",
       "       'quoted_verified', 'retweet_status_id', 'retweet_text',\n",
       "       'retweet_created_at', 'retweet_source', 'retweet_favorite_count',\n",
       "       'retweet_retweet_count', 'retweet_user_id', 'retweet_screen_name',\n",
       "       'retweet_name', 'retweet_followers_count', 'retweet_friends_count',\n",
       "       'retweet_statuses_count', 'retweet_location', 'retweet_description',\n",
       "       'retweet_verified', 'place_url', 'place_name', 'place_full_name',\n",
       "       'place_type', 'country', 'country_code', 'geo_coords', 'coords_coords',\n",
       "       'bbox_coords', 'status_url', 'name', 'location', 'description', 'url',\n",
       "       'protected', 'followers_count', 'friends_count', 'listed_count',\n",
       "       'statuses_count', 'favourites_count', 'account_created_at', 'verified',\n",
       "       'profile_url', 'profile_expanded_url', 'account_lang',\n",
       "       'profile_banner_url', 'profile_background_url', 'profile_image_url'],\n",
       "      dtype='object')"
      ]
     },
     "execution_count": 5,
     "metadata": {},
     "output_type": "execute_result"
    }
   ],
   "source": [
    "df.columns"
   ]
  },
  {
   "cell_type": "code",
   "execution_count": 7,
   "metadata": {},
   "outputs": [
    {
     "data": {
      "text/html": [
       "<div>\n",
       "<style scoped>\n",
       "    .dataframe tbody tr th:only-of-type {\n",
       "        vertical-align: middle;\n",
       "    }\n",
       "\n",
       "    .dataframe tbody tr th {\n",
       "        vertical-align: top;\n",
       "    }\n",
       "\n",
       "    .dataframe thead th {\n",
       "        text-align: right;\n",
       "    }\n",
       "</style>\n",
       "<table border=\"1\" class=\"dataframe\">\n",
       "  <thead>\n",
       "    <tr style=\"text-align: right;\">\n",
       "      <th></th>\n",
       "      <th>user_id</th>\n",
       "      <th>status_id</th>\n",
       "      <th>created_at</th>\n",
       "      <th>screen_name</th>\n",
       "      <th>text</th>\n",
       "      <th>source</th>\n",
       "      <th>display_text_width</th>\n",
       "      <th>reply_to_status_id</th>\n",
       "      <th>reply_to_user_id</th>\n",
       "      <th>reply_to_screen_name</th>\n",
       "      <th>is_quote</th>\n",
       "      <th>is_retweet</th>\n",
       "      <th>favorite_count</th>\n",
       "      <th>retweet_count</th>\n",
       "      <th>hashtags</th>\n",
       "      <th>symbols</th>\n",
       "      <th>urls_url</th>\n",
       "      <th>urls_t.co</th>\n",
       "      <th>urls_expanded_url</th>\n",
       "      <th>media_url</th>\n",
       "      <th>media_t.co</th>\n",
       "      <th>media_expanded_url</th>\n",
       "      <th>media_type</th>\n",
       "      <th>ext_media_url</th>\n",
       "      <th>ext_media_t.co</th>\n",
       "      <th>ext_media_expanded_url</th>\n",
       "      <th>ext_media_type</th>\n",
       "      <th>mentions_user_id</th>\n",
       "      <th>mentions_screen_name</th>\n",
       "      <th>lang</th>\n",
       "      <th>quoted_status_id</th>\n",
       "      <th>quoted_text</th>\n",
       "      <th>quoted_created_at</th>\n",
       "      <th>quoted_source</th>\n",
       "      <th>quoted_favorite_count</th>\n",
       "      <th>quoted_retweet_count</th>\n",
       "      <th>quoted_user_id</th>\n",
       "      <th>quoted_screen_name</th>\n",
       "      <th>quoted_name</th>\n",
       "      <th>quoted_followers_count</th>\n",
       "      <th>quoted_friends_count</th>\n",
       "      <th>quoted_statuses_count</th>\n",
       "      <th>quoted_location</th>\n",
       "      <th>quoted_description</th>\n",
       "      <th>quoted_verified</th>\n",
       "      <th>retweet_status_id</th>\n",
       "      <th>retweet_text</th>\n",
       "      <th>retweet_created_at</th>\n",
       "      <th>retweet_source</th>\n",
       "      <th>retweet_favorite_count</th>\n",
       "      <th>retweet_retweet_count</th>\n",
       "      <th>retweet_user_id</th>\n",
       "      <th>retweet_screen_name</th>\n",
       "      <th>retweet_name</th>\n",
       "      <th>retweet_followers_count</th>\n",
       "      <th>retweet_friends_count</th>\n",
       "      <th>retweet_statuses_count</th>\n",
       "      <th>retweet_location</th>\n",
       "      <th>retweet_description</th>\n",
       "      <th>retweet_verified</th>\n",
       "      <th>place_url</th>\n",
       "      <th>place_name</th>\n",
       "      <th>place_full_name</th>\n",
       "      <th>place_type</th>\n",
       "      <th>country</th>\n",
       "      <th>country_code</th>\n",
       "      <th>geo_coords</th>\n",
       "      <th>coords_coords</th>\n",
       "      <th>bbox_coords</th>\n",
       "      <th>status_url</th>\n",
       "      <th>name</th>\n",
       "      <th>location</th>\n",
       "      <th>description</th>\n",
       "      <th>url</th>\n",
       "      <th>protected</th>\n",
       "      <th>followers_count</th>\n",
       "      <th>friends_count</th>\n",
       "      <th>listed_count</th>\n",
       "      <th>statuses_count</th>\n",
       "      <th>favourites_count</th>\n",
       "      <th>account_created_at</th>\n",
       "      <th>verified</th>\n",
       "      <th>profile_url</th>\n",
       "      <th>profile_expanded_url</th>\n",
       "      <th>account_lang</th>\n",
       "      <th>profile_banner_url</th>\n",
       "      <th>profile_background_url</th>\n",
       "      <th>profile_image_url</th>\n",
       "    </tr>\n",
       "  </thead>\n",
       "  <tbody>\n",
       "    <tr>\n",
       "      <th>0</th>\n",
       "      <td>x53414786</td>\n",
       "      <td>x1108007155251249152</td>\n",
       "      <td>2019-03-19 14:07:46</td>\n",
       "      <td>Actor_Siddharth</td>\n",
       "      <td>I've spoken out against every major political ...</td>\n",
       "      <td>Twitter Web App</td>\n",
       "      <td>279</td>\n",
       "      <td>NaN</td>\n",
       "      <td>NaN</td>\n",
       "      <td>NaN</td>\n",
       "      <td>False</td>\n",
       "      <td>False</td>\n",
       "      <td>10757</td>\n",
       "      <td>2828</td>\n",
       "      <td>CHOWKIDAR BJP</td>\n",
       "      <td>NaN</td>\n",
       "      <td>NaN</td>\n",
       "      <td>NaN</td>\n",
       "      <td>NaN</td>\n",
       "      <td>NaN</td>\n",
       "      <td>NaN</td>\n",
       "      <td>NaN</td>\n",
       "      <td>NaN</td>\n",
       "      <td>NaN</td>\n",
       "      <td>NaN</td>\n",
       "      <td>NaN</td>\n",
       "      <td>NaN</td>\n",
       "      <td>NaN</td>\n",
       "      <td>NaN</td>\n",
       "      <td>en</td>\n",
       "      <td>NaN</td>\n",
       "      <td>NaN</td>\n",
       "      <td>NaN</td>\n",
       "      <td>NaN</td>\n",
       "      <td>NaN</td>\n",
       "      <td>NaN</td>\n",
       "      <td>NaN</td>\n",
       "      <td>NaN</td>\n",
       "      <td>NaN</td>\n",
       "      <td>NaN</td>\n",
       "      <td>NaN</td>\n",
       "      <td>NaN</td>\n",
       "      <td>NaN</td>\n",
       "      <td>NaN</td>\n",
       "      <td>NaN</td>\n",
       "      <td>NaN</td>\n",
       "      <td>NaN</td>\n",
       "      <td>NaN</td>\n",
       "      <td>NaN</td>\n",
       "      <td>NaN</td>\n",
       "      <td>NaN</td>\n",
       "      <td>NaN</td>\n",
       "      <td>NaN</td>\n",
       "      <td>NaN</td>\n",
       "      <td>NaN</td>\n",
       "      <td>NaN</td>\n",
       "      <td>NaN</td>\n",
       "      <td>NaN</td>\n",
       "      <td>NaN</td>\n",
       "      <td>NaN</td>\n",
       "      <td>NaN</td>\n",
       "      <td>NaN</td>\n",
       "      <td>NaN</td>\n",
       "      <td>NaN</td>\n",
       "      <td>NaN</td>\n",
       "      <td>NaN</td>\n",
       "      <td>NA NA</td>\n",
       "      <td>NA NA</td>\n",
       "      <td>NA NA NA NA NA NA NA NA</td>\n",
       "      <td>https://twitter.com/Actor_Siddharth/status/110...</td>\n",
       "      <td>Siddharth</td>\n",
       "      <td>Dark side of the moon</td>\n",
       "      <td>Indian. Actor. Producer. Musician. Believer. I...</td>\n",
       "      <td>NaN</td>\n",
       "      <td>False</td>\n",
       "      <td>4115243</td>\n",
       "      <td>75</td>\n",
       "      <td>5388</td>\n",
       "      <td>13776</td>\n",
       "      <td>474</td>\n",
       "      <td>2009-07-03 15:33:34</td>\n",
       "      <td>True</td>\n",
       "      <td>NaN</td>\n",
       "      <td>NaN</td>\n",
       "      <td>en</td>\n",
       "      <td>NaN</td>\n",
       "      <td>http://abs.twimg.com/images/themes/theme5/bg.gif</td>\n",
       "      <td>http://pbs.twimg.com/profile_images/1095897454...</td>\n",
       "    </tr>\n",
       "    <tr>\n",
       "      <th>1</th>\n",
       "      <td>x21014078</td>\n",
       "      <td>x1108223274222116864</td>\n",
       "      <td>2019-03-20 04:26:33</td>\n",
       "      <td>svaradarajan</td>\n",
       "      <td>Bhakts are thrilled one of the four men arrest...</td>\n",
       "      <td>Twitter Web Client</td>\n",
       "      <td>276</td>\n",
       "      <td>NaN</td>\n",
       "      <td>NaN</td>\n",
       "      <td>NaN</td>\n",
       "      <td>True</td>\n",
       "      <td>False</td>\n",
       "      <td>4490</td>\n",
       "      <td>1681</td>\n",
       "      <td>NaN</td>\n",
       "      <td>NaN</td>\n",
       "      <td>twitter.com/ShefVaidya/sta…</td>\n",
       "      <td>https://t.co/Wb0LMfSURL</td>\n",
       "      <td>https://twitter.com/ShefVaidya/status/11082077...</td>\n",
       "      <td>NaN</td>\n",
       "      <td>NaN</td>\n",
       "      <td>NaN</td>\n",
       "      <td>NaN</td>\n",
       "      <td>NaN</td>\n",
       "      <td>NaN</td>\n",
       "      <td>NaN</td>\n",
       "      <td>NaN</td>\n",
       "      <td>x19929890</td>\n",
       "      <td>BDUTT</td>\n",
       "      <td>en</td>\n",
       "      <td>x1108207731024945152</td>\n",
       "      <td>So @BDUTT, when are you going to inform the wo...</td>\n",
       "      <td>2019-03-20 03:24:47</td>\n",
       "      <td>Twitter for iPhone</td>\n",
       "      <td>4442.0</td>\n",
       "      <td>3046.0</td>\n",
       "      <td>x1934388686</td>\n",
       "      <td>ShefVaidya</td>\n",
       "      <td>Shefali Vaidya ஷெஃபாலி வைத்யா शेफाली वैद्य</td>\n",
       "      <td>325977.0</td>\n",
       "      <td>1659.0</td>\n",
       "      <td>71820.0</td>\n",
       "      <td>Pune, Maharashtra</td>\n",
       "      <td>Author, Columnist, V-logger, Photographer, Sat...</td>\n",
       "      <td>True</td>\n",
       "      <td>NaN</td>\n",
       "      <td>NaN</td>\n",
       "      <td>NaN</td>\n",
       "      <td>NaN</td>\n",
       "      <td>NaN</td>\n",
       "      <td>NaN</td>\n",
       "      <td>NaN</td>\n",
       "      <td>NaN</td>\n",
       "      <td>NaN</td>\n",
       "      <td>NaN</td>\n",
       "      <td>NaN</td>\n",
       "      <td>NaN</td>\n",
       "      <td>NaN</td>\n",
       "      <td>NaN</td>\n",
       "      <td>NaN</td>\n",
       "      <td>NaN</td>\n",
       "      <td>NaN</td>\n",
       "      <td>NaN</td>\n",
       "      <td>NaN</td>\n",
       "      <td>NaN</td>\n",
       "      <td>NaN</td>\n",
       "      <td>NA NA</td>\n",
       "      <td>NA NA</td>\n",
       "      <td>NA NA NA NA NA NA NA NA</td>\n",
       "      <td>https://twitter.com/svaradarajan/status/110822...</td>\n",
       "      <td>Siddharth</td>\n",
       "      <td>New Delhi, India</td>\n",
       "      <td>Founding Editor of The Wire.</td>\n",
       "      <td>https://t.co/yPVMOk3Vw3</td>\n",
       "      <td>False</td>\n",
       "      <td>486943</td>\n",
       "      <td>865</td>\n",
       "      <td>1327</td>\n",
       "      <td>42220</td>\n",
       "      <td>503</td>\n",
       "      <td>2009-02-16 19:02:23</td>\n",
       "      <td>True</td>\n",
       "      <td>https://t.co/yPVMOk3Vw3</td>\n",
       "      <td>http://thewire.in</td>\n",
       "      <td>en</td>\n",
       "      <td>https://pbs.twimg.com/profile_banners/21014078...</td>\n",
       "      <td>http://abs.twimg.com/images/themes/theme1/bg.png</td>\n",
       "      <td>http://pbs.twimg.com/profile_images/1100960124...</td>\n",
       "    </tr>\n",
       "  </tbody>\n",
       "</table>\n",
       "</div>"
      ],
      "text/plain": [
       "     user_id             status_id           created_at      screen_name  \\\n",
       "0  x53414786  x1108007155251249152  2019-03-19 14:07:46  Actor_Siddharth   \n",
       "1  x21014078  x1108223274222116864  2019-03-20 04:26:33     svaradarajan   \n",
       "\n",
       "                                                text              source  \\\n",
       "0  I've spoken out against every major political ...     Twitter Web App   \n",
       "1  Bhakts are thrilled one of the four men arrest...  Twitter Web Client   \n",
       "\n",
       "   display_text_width reply_to_status_id reply_to_user_id  \\\n",
       "0                 279                NaN              NaN   \n",
       "1                 276                NaN              NaN   \n",
       "\n",
       "  reply_to_screen_name  is_quote  is_retweet  favorite_count  retweet_count  \\\n",
       "0                  NaN     False       False           10757           2828   \n",
       "1                  NaN      True       False            4490           1681   \n",
       "\n",
       "        hashtags symbols                     urls_url  \\\n",
       "0  CHOWKIDAR BJP     NaN                          NaN   \n",
       "1            NaN     NaN  twitter.com/ShefVaidya/sta…   \n",
       "\n",
       "                 urls_t.co                                  urls_expanded_url  \\\n",
       "0                      NaN                                                NaN   \n",
       "1  https://t.co/Wb0LMfSURL  https://twitter.com/ShefVaidya/status/11082077...   \n",
       "\n",
       "  media_url media_t.co media_expanded_url media_type ext_media_url  \\\n",
       "0       NaN        NaN                NaN        NaN           NaN   \n",
       "1       NaN        NaN                NaN        NaN           NaN   \n",
       "\n",
       "  ext_media_t.co ext_media_expanded_url  ext_media_type mentions_user_id  \\\n",
       "0            NaN                    NaN             NaN              NaN   \n",
       "1            NaN                    NaN             NaN        x19929890   \n",
       "\n",
       "  mentions_screen_name lang      quoted_status_id  \\\n",
       "0                  NaN   en                   NaN   \n",
       "1                BDUTT   en  x1108207731024945152   \n",
       "\n",
       "                                         quoted_text    quoted_created_at  \\\n",
       "0                                                NaN                  NaN   \n",
       "1  So @BDUTT, when are you going to inform the wo...  2019-03-20 03:24:47   \n",
       "\n",
       "        quoted_source  quoted_favorite_count  quoted_retweet_count  \\\n",
       "0                 NaN                    NaN                   NaN   \n",
       "1  Twitter for iPhone                 4442.0                3046.0   \n",
       "\n",
       "  quoted_user_id quoted_screen_name  \\\n",
       "0            NaN                NaN   \n",
       "1    x1934388686         ShefVaidya   \n",
       "\n",
       "                                  quoted_name  quoted_followers_count  \\\n",
       "0                                         NaN                     NaN   \n",
       "1  Shefali Vaidya ஷெஃபாலி வைத்யா शेफाली वैद्य                325977.0   \n",
       "\n",
       "   quoted_friends_count  quoted_statuses_count    quoted_location  \\\n",
       "0                   NaN                    NaN                NaN   \n",
       "1                1659.0                71820.0  Pune, Maharashtra   \n",
       "\n",
       "                                  quoted_description quoted_verified  \\\n",
       "0                                                NaN             NaN   \n",
       "1  Author, Columnist, V-logger, Photographer, Sat...            True   \n",
       "\n",
       "  retweet_status_id retweet_text retweet_created_at retweet_source  \\\n",
       "0               NaN          NaN                NaN            NaN   \n",
       "1               NaN          NaN                NaN            NaN   \n",
       "\n",
       "   retweet_favorite_count  retweet_retweet_count retweet_user_id  \\\n",
       "0                     NaN                    NaN             NaN   \n",
       "1                     NaN                    NaN             NaN   \n",
       "\n",
       "  retweet_screen_name retweet_name  retweet_followers_count  \\\n",
       "0                 NaN          NaN                      NaN   \n",
       "1                 NaN          NaN                      NaN   \n",
       "\n",
       "   retweet_friends_count  retweet_statuses_count retweet_location  \\\n",
       "0                    NaN                     NaN              NaN   \n",
       "1                    NaN                     NaN              NaN   \n",
       "\n",
       "  retweet_description retweet_verified place_url place_name place_full_name  \\\n",
       "0                 NaN              NaN       NaN        NaN             NaN   \n",
       "1                 NaN              NaN       NaN        NaN             NaN   \n",
       "\n",
       "  place_type country country_code geo_coords coords_coords  \\\n",
       "0        NaN     NaN          NaN      NA NA         NA NA   \n",
       "1        NaN     NaN          NaN      NA NA         NA NA   \n",
       "\n",
       "               bbox_coords                                         status_url  \\\n",
       "0  NA NA NA NA NA NA NA NA  https://twitter.com/Actor_Siddharth/status/110...   \n",
       "1  NA NA NA NA NA NA NA NA  https://twitter.com/svaradarajan/status/110822...   \n",
       "\n",
       "        name                location  \\\n",
       "0  Siddharth  Dark side of the moon    \n",
       "1  Siddharth        New Delhi, India   \n",
       "\n",
       "                                         description                      url  \\\n",
       "0  Indian. Actor. Producer. Musician. Believer. I...                      NaN   \n",
       "1                       Founding Editor of The Wire.  https://t.co/yPVMOk3Vw3   \n",
       "\n",
       "   protected  followers_count  friends_count  listed_count  statuses_count  \\\n",
       "0      False          4115243             75          5388           13776   \n",
       "1      False           486943            865          1327           42220   \n",
       "\n",
       "   favourites_count   account_created_at  verified              profile_url  \\\n",
       "0               474  2009-07-03 15:33:34      True                      NaN   \n",
       "1               503  2009-02-16 19:02:23      True  https://t.co/yPVMOk3Vw3   \n",
       "\n",
       "  profile_expanded_url account_lang  \\\n",
       "0                  NaN           en   \n",
       "1    http://thewire.in           en   \n",
       "\n",
       "                                  profile_banner_url  \\\n",
       "0                                                NaN   \n",
       "1  https://pbs.twimg.com/profile_banners/21014078...   \n",
       "\n",
       "                             profile_background_url  \\\n",
       "0  http://abs.twimg.com/images/themes/theme5/bg.gif   \n",
       "1  http://abs.twimg.com/images/themes/theme1/bg.png   \n",
       "\n",
       "                                   profile_image_url  \n",
       "0  http://pbs.twimg.com/profile_images/1095897454...  \n",
       "1  http://pbs.twimg.com/profile_images/1100960124...  "
      ]
     },
     "execution_count": 7,
     "metadata": {},
     "output_type": "execute_result"
    }
   ],
   "source": [
    "pd.set_option('display.max_columns', None)\n",
    "df.head(2)"
   ]
  },
  {
   "cell_type": "code",
   "execution_count": 9,
   "metadata": {},
   "outputs": [
    {
     "data": {
      "text/plain": [
       "'2019-03-19 14:07:46'"
      ]
     },
     "execution_count": 9,
     "metadata": {},
     "output_type": "execute_result"
    }
   ],
   "source": [
    "df['created_at'].min()"
   ]
  },
  {
   "cell_type": "code",
   "execution_count": 10,
   "metadata": {},
   "outputs": [
    {
     "data": {
      "text/plain": [
       "'2019-03-20 22:06:56'"
      ]
     },
     "execution_count": 10,
     "metadata": {},
     "output_type": "execute_result"
    }
   ],
   "source": [
    "df['created_at'].max()"
   ]
  },
  {
   "cell_type": "code",
   "execution_count": 13,
   "metadata": {},
   "outputs": [],
   "source": [
    "df['year'] = pd.DatetimeIndex(df['created_at']).year"
   ]
  },
  {
   "cell_type": "code",
   "execution_count": 17,
   "metadata": {},
   "outputs": [],
   "source": [
    "df_copy = df.copy()"
   ]
  },
  {
   "cell_type": "code",
   "execution_count": 5,
   "metadata": {},
   "outputs": [],
   "source": [
    "df.drop(['user_id', 'status_id', 'created_at', 'source','reply_to_status_id', 'reply_to_user_id',\n",
    "       'reply_to_screen_name', 'is_quote', 'symbols', 'urls_url', 'urls_t.co',\n",
    "       'urls_expanded_url', 'media_url', 'media_t.co', 'media_expanded_url',\n",
    "       'media_type', 'ext_media_url', 'ext_media_t.co',\n",
    "       'ext_media_expanded_url', 'ext_media_type', 'mentions_user_id',\n",
    "       'mentions_screen_name','quoted_status_id', 'quoted_text',\n",
    "       'quoted_created_at', 'quoted_source', 'quoted_favorite_count',\n",
    "       'quoted_retweet_count', 'quoted_user_id', 'quoted_screen_name',\n",
    "       'quoted_name', 'quoted_followers_count', 'quoted_friends_count',\n",
    "       'quoted_statuses_count', 'quoted_location', 'quoted_description',\n",
    "       'quoted_verified', 'retweet_status_id', 'retweet_text',\n",
    "       'retweet_created_at', 'retweet_source', 'retweet_favorite_count',\n",
    "       'retweet_retweet_count', 'retweet_user_id', 'retweet_screen_name',\n",
    "       'retweet_name', 'retweet_followers_count', 'retweet_friends_count',\n",
    "       'retweet_statuses_count', 'retweet_location', 'retweet_description',\n",
    "       'retweet_verified', 'place_url', 'place_name', 'place_full_name',\n",
    "       'place_type', 'country', 'country_code', 'geo_coords', 'coords_coords',\n",
    "       'bbox_coords', 'status_url', 'name', 'location', 'description', 'url',\n",
    "       'protected','listed_count',\n",
    "       'statuses_count', 'favourites_count',\n",
    "       'profile_url', 'profile_expanded_url',\n",
    "       'profile_banner_url', 'profile_background_url', 'profile_image_url'],axis=1,inplace=True)"
   ]
  },
  {
   "cell_type": "code",
   "execution_count": 9,
   "metadata": {
    "scrolled": false
   },
   "outputs": [
    {
     "data": {
      "text/html": [
       "<div>\n",
       "<style scoped>\n",
       "    .dataframe tbody tr th:only-of-type {\n",
       "        vertical-align: middle;\n",
       "    }\n",
       "\n",
       "    .dataframe tbody tr th {\n",
       "        vertical-align: top;\n",
       "    }\n",
       "\n",
       "    .dataframe thead th {\n",
       "        text-align: right;\n",
       "    }\n",
       "</style>\n",
       "<table border=\"1\" class=\"dataframe\">\n",
       "  <thead>\n",
       "    <tr style=\"text-align: right;\">\n",
       "      <th></th>\n",
       "      <th>screen_name</th>\n",
       "      <th>text</th>\n",
       "      <th>display_text_width</th>\n",
       "      <th>is_retweet</th>\n",
       "      <th>favorite_count</th>\n",
       "      <th>retweet_count</th>\n",
       "      <th>hashtags</th>\n",
       "      <th>lang</th>\n",
       "      <th>followers_count</th>\n",
       "      <th>friends_count</th>\n",
       "      <th>account_created_at</th>\n",
       "      <th>verified</th>\n",
       "      <th>account_lang</th>\n",
       "    </tr>\n",
       "  </thead>\n",
       "  <tbody>\n",
       "    <tr>\n",
       "      <th>0</th>\n",
       "      <td>Actor_Siddharth</td>\n",
       "      <td>I've spoken out against every major political ...</td>\n",
       "      <td>279</td>\n",
       "      <td>False</td>\n",
       "      <td>10757</td>\n",
       "      <td>2828</td>\n",
       "      <td>CHOWKIDAR BJP</td>\n",
       "      <td>en</td>\n",
       "      <td>4115243</td>\n",
       "      <td>75</td>\n",
       "      <td>2009-07-03 15:33:34</td>\n",
       "      <td>True</td>\n",
       "      <td>en</td>\n",
       "    </tr>\n",
       "    <tr>\n",
       "      <th>1</th>\n",
       "      <td>svaradarajan</td>\n",
       "      <td>Bhakts are thrilled one of the four men arrest...</td>\n",
       "      <td>276</td>\n",
       "      <td>False</td>\n",
       "      <td>4490</td>\n",
       "      <td>1681</td>\n",
       "      <td>NaN</td>\n",
       "      <td>en</td>\n",
       "      <td>486943</td>\n",
       "      <td>865</td>\n",
       "      <td>2009-02-16 19:02:23</td>\n",
       "      <td>True</td>\n",
       "      <td>en</td>\n",
       "    </tr>\n",
       "    <tr>\n",
       "      <th>2</th>\n",
       "      <td>BJP4India</td>\n",
       "      <td>You may now make #MainBhiChowkidar song as you...</td>\n",
       "      <td>268</td>\n",
       "      <td>False</td>\n",
       "      <td>7597</td>\n",
       "      <td>2864</td>\n",
       "      <td>MainBhiChowkidar</td>\n",
       "      <td>en</td>\n",
       "      <td>10742860</td>\n",
       "      <td>2</td>\n",
       "      <td>2010-10-26 02:19:07</td>\n",
       "      <td>True</td>\n",
       "      <td>en</td>\n",
       "    </tr>\n",
       "    <tr>\n",
       "      <th>3</th>\n",
       "      <td>commo_nic_ation</td>\n",
       "      <td>Breakfast with chief chowkidar in Australia. F...</td>\n",
       "      <td>111</td>\n",
       "      <td>True</td>\n",
       "      <td>0</td>\n",
       "      <td>1253</td>\n",
       "      <td>NaN</td>\n",
       "      <td>en</td>\n",
       "      <td>113</td>\n",
       "      <td>465</td>\n",
       "      <td>2017-06-17 23:41:49</td>\n",
       "      <td>False</td>\n",
       "      <td>en</td>\n",
       "    </tr>\n",
       "    <tr>\n",
       "      <th>4</th>\n",
       "      <td>PAWANSANAN</td>\n",
       "      <td>See how one of our #Chowkidar have thrashed Pa...</td>\n",
       "      <td>140</td>\n",
       "      <td>True</td>\n",
       "      <td>0</td>\n",
       "      <td>276</td>\n",
       "      <td>Chowkidar</td>\n",
       "      <td>en</td>\n",
       "      <td>523</td>\n",
       "      <td>1545</td>\n",
       "      <td>2010-07-09 21:55:28</td>\n",
       "      <td>False</td>\n",
       "      <td>en</td>\n",
       "    </tr>\n",
       "  </tbody>\n",
       "</table>\n",
       "</div>"
      ],
      "text/plain": [
       "       screen_name                                               text  \\\n",
       "0  Actor_Siddharth  I've spoken out against every major political ...   \n",
       "1     svaradarajan  Bhakts are thrilled one of the four men arrest...   \n",
       "2        BJP4India  You may now make #MainBhiChowkidar song as you...   \n",
       "3  commo_nic_ation  Breakfast with chief chowkidar in Australia. F...   \n",
       "4       PAWANSANAN  See how one of our #Chowkidar have thrashed Pa...   \n",
       "\n",
       "   display_text_width  is_retweet  favorite_count  retweet_count  \\\n",
       "0                 279       False           10757           2828   \n",
       "1                 276       False            4490           1681   \n",
       "2                 268       False            7597           2864   \n",
       "3                 111        True               0           1253   \n",
       "4                 140        True               0            276   \n",
       "\n",
       "           hashtags lang  followers_count  friends_count   account_created_at  \\\n",
       "0     CHOWKIDAR BJP   en          4115243             75  2009-07-03 15:33:34   \n",
       "1               NaN   en           486943            865  2009-02-16 19:02:23   \n",
       "2  MainBhiChowkidar   en         10742860              2  2010-10-26 02:19:07   \n",
       "3               NaN   en              113            465  2017-06-17 23:41:49   \n",
       "4         Chowkidar   en              523           1545  2010-07-09 21:55:28   \n",
       "\n",
       "   verified account_lang  \n",
       "0      True           en  \n",
       "1      True           en  \n",
       "2      True           en  \n",
       "3     False           en  \n",
       "4     False           en  "
      ]
     },
     "execution_count": 9,
     "metadata": {},
     "output_type": "execute_result"
    }
   ],
   "source": [
    "df.head()"
   ]
  },
  {
   "cell_type": "code",
   "execution_count": 20,
   "metadata": {
    "scrolled": true
   },
   "outputs": [
    {
     "data": {
      "text/plain": [
       "False    107017\n",
       "True        951\n",
       "Name: verified, dtype: int64"
      ]
     },
     "execution_count": 20,
     "metadata": {},
     "output_type": "execute_result"
    }
   ],
   "source": [
    "df['verified'].value_counts()"
   ]
  },
  {
   "cell_type": "code",
   "execution_count": 23,
   "metadata": {},
   "outputs": [],
   "source": [
    "from wordcloud import WordCloud"
   ]
  },
  {
   "cell_type": "code",
   "execution_count": 186,
   "metadata": {},
   "outputs": [
    {
     "name": "stdout",
     "output_type": "stream",
     "text": [
      "The mean length of the tweets:  134.89383891523414\n"
     ]
    }
   ],
   "source": [
    "mean=np.mean(df['display_text_width'])\n",
    "print(f\"The mean length of the tweets:  {mean}\")"
   ]
  },
  {
   "cell_type": "code",
   "execution_count": 187,
   "metadata": {
    "scrolled": true
   },
   "outputs": [
    {
     "name": "stdout",
     "output_type": "stream",
     "text": [
      "The most liked tweet is: Your Chowkidar is standing firm ; serving the nation.\n",
      "\n",
      "But, I am not alone.\n",
      "\n",
      "Everyone who is fighting corruption, dirt, social evils is a Chowkidar.\n",
      "\n",
      "Everyone working hard for the progress of India is a Chowkidar.\n",
      "\n",
      "Today, every Indian is saying-#MainBhiChowkidar\n",
      "Number of retweets: 56030\n",
      "------------------\n",
      "\n"
     ]
    }
   ],
   "source": [
    "#lik_max=np.max(data['Likes'])\n",
    "rt_max=np.max(dfch['retweet_count'])\n",
    "\n",
    "#Extract the index of max\n",
    "#fav=data[data.Likes==lik_max].index[0]\n",
    "rt=df[df.retweet_count==rt_max].index[0]\n",
    "\n",
    "#Print the result\n",
    "#print(f\"The most liked tweet is: {data['Tweets'][fav]}\")\n",
    "#print(f\"Number of likes: {lik_max}\")\n",
    "#print(\"------------------\")\n",
    "#print()\n",
    "\n",
    "#Print the most retweeted tweet\n",
    "print(f\"The most liked tweet is: {dfch['Tweets_Cln'][rt]}\")\n",
    "print(f\"Number of retweets: {rt_max}\")\n",
    "print(\"------------------\")\n",
    "print()\n"
   ]
  },
  {
   "cell_type": "code",
   "execution_count": 82,
   "metadata": {},
   "outputs": [
    {
     "data": {
      "text/plain": [
       "<AxesSubplot:xlabel='year'>"
      ]
     },
     "execution_count": 82,
     "metadata": {},
     "output_type": "execute_result"
    },
    {
     "data": {
      "image/png": "[encoded data removed]",
      "text/plain": [
       "<Figure size 1152x288 with 1 Axes>"
      ]
     },
     "metadata": {
      "needs_background": "light"
     },
     "output_type": "display_data"
    }
   ],
   "source": [
    "retweet=pd.Series(data=df['retweet_count'].values,index=df['year'])\n",
    "retweet.plot(figsize=(16,4), color='r')"
   ]
  },
  {
   "cell_type": "code",
   "execution_count": 83,
   "metadata": {},
   "outputs": [],
   "source": [
    "df_copy.drop(['user_id', 'status_id', 'source','reply_to_status_id', 'reply_to_user_id',\n",
    "       'reply_to_screen_name', 'is_quote', 'symbols', 'urls_url', 'urls_t.co',\n",
    "       'urls_expanded_url', 'media_url', 'media_t.co', 'media_expanded_url',\n",
    "       'media_type', 'ext_media_url', 'ext_media_t.co',\n",
    "       'ext_media_expanded_url', 'ext_media_type', 'mentions_user_id',\n",
    "       'mentions_screen_name','quoted_status_id', 'quoted_text',\n",
    "       'quoted_created_at', 'quoted_source', 'quoted_favorite_count',\n",
    "       'quoted_retweet_count', 'quoted_user_id', 'quoted_screen_name',\n",
    "       'quoted_name', 'quoted_followers_count', 'quoted_friends_count',\n",
    "       'quoted_statuses_count', 'quoted_location', 'quoted_description',\n",
    "       'quoted_verified', 'retweet_status_id', 'retweet_text',\n",
    "       'retweet_created_at', 'retweet_source', 'retweet_favorite_count',\n",
    "       'retweet_retweet_count', 'retweet_user_id', 'retweet_screen_name',\n",
    "       'retweet_name', 'retweet_followers_count', 'retweet_friends_count',\n",
    "       'retweet_statuses_count', 'retweet_location', 'retweet_description',\n",
    "       'retweet_verified', 'place_url', 'place_name', 'place_full_name',\n",
    "       'place_type', 'country', 'country_code', 'geo_coords', 'coords_coords',\n",
    "       'bbox_coords', 'status_url', 'name', 'location', 'description', 'url',\n",
    "       'protected','listed_count',\n",
    "       'statuses_count', 'favourites_count',\n",
    "       'profile_url', 'profile_expanded_url',\n",
    "       'profile_banner_url', 'profile_background_url', 'profile_image_url'],axis=1,inplace=True)"
   ]
  },
  {
   "cell_type": "code",
   "execution_count": 84,
   "metadata": {},
   "outputs": [
    {
     "data": {
      "text/html": [
       "<div>\n",
       "<style scoped>\n",
       "    .dataframe tbody tr th:only-of-type {\n",
       "        vertical-align: middle;\n",
       "    }\n",
       "\n",
       "    .dataframe tbody tr th {\n",
       "        vertical-align: top;\n",
       "    }\n",
       "\n",
       "    .dataframe thead th {\n",
       "        text-align: right;\n",
       "    }\n",
       "</style>\n",
       "<table border=\"1\" class=\"dataframe\">\n",
       "  <thead>\n",
       "    <tr style=\"text-align: right;\">\n",
       "      <th></th>\n",
       "      <th>created_at</th>\n",
       "      <th>screen_name</th>\n",
       "      <th>text</th>\n",
       "      <th>display_text_width</th>\n",
       "      <th>is_retweet</th>\n",
       "      <th>favorite_count</th>\n",
       "      <th>retweet_count</th>\n",
       "      <th>hashtags</th>\n",
       "      <th>lang</th>\n",
       "      <th>followers_count</th>\n",
       "      <th>friends_count</th>\n",
       "      <th>account_created_at</th>\n",
       "      <th>verified</th>\n",
       "      <th>account_lang</th>\n",
       "      <th>year</th>\n",
       "    </tr>\n",
       "  </thead>\n",
       "  <tbody>\n",
       "    <tr>\n",
       "      <th>0</th>\n",
       "      <td>2019-03-19 14:07:46</td>\n",
       "      <td>Actor_Siddharth</td>\n",
       "      <td>I've spoken out against every major political ...</td>\n",
       "      <td>279</td>\n",
       "      <td>False</td>\n",
       "      <td>10757</td>\n",
       "      <td>2828</td>\n",
       "      <td>CHOWKIDAR BJP</td>\n",
       "      <td>en</td>\n",
       "      <td>4115243</td>\n",
       "      <td>75</td>\n",
       "      <td>2009-07-03 15:33:34</td>\n",
       "      <td>True</td>\n",
       "      <td>en</td>\n",
       "      <td>2019</td>\n",
       "    </tr>\n",
       "    <tr>\n",
       "      <th>1</th>\n",
       "      <td>2019-03-20 04:26:33</td>\n",
       "      <td>svaradarajan</td>\n",
       "      <td>Bhakts are thrilled one of the four men arrest...</td>\n",
       "      <td>276</td>\n",
       "      <td>False</td>\n",
       "      <td>4490</td>\n",
       "      <td>1681</td>\n",
       "      <td>NaN</td>\n",
       "      <td>en</td>\n",
       "      <td>486943</td>\n",
       "      <td>865</td>\n",
       "      <td>2009-02-16 19:02:23</td>\n",
       "      <td>True</td>\n",
       "      <td>en</td>\n",
       "      <td>2019</td>\n",
       "    </tr>\n",
       "  </tbody>\n",
       "</table>\n",
       "</div>"
      ],
      "text/plain": [
       "            created_at      screen_name  \\\n",
       "0  2019-03-19 14:07:46  Actor_Siddharth   \n",
       "1  2019-03-20 04:26:33     svaradarajan   \n",
       "\n",
       "                                                text  display_text_width  \\\n",
       "0  I've spoken out against every major political ...                 279   \n",
       "1  Bhakts are thrilled one of the four men arrest...                 276   \n",
       "\n",
       "   is_retweet  favorite_count  retweet_count       hashtags lang  \\\n",
       "0       False           10757           2828  CHOWKIDAR BJP   en   \n",
       "1       False            4490           1681            NaN   en   \n",
       "\n",
       "   followers_count  friends_count   account_created_at  verified account_lang  \\\n",
       "0          4115243             75  2009-07-03 15:33:34      True           en   \n",
       "1           486943            865  2009-02-16 19:02:23      True           en   \n",
       "\n",
       "   year  \n",
       "0  2019  \n",
       "1  2019  "
      ]
     },
     "execution_count": 84,
     "metadata": {},
     "output_type": "execute_result"
    }
   ],
   "source": [
    "df_copy.head(2)"
   ]
  },
  {
   "cell_type": "code",
   "execution_count": 86,
   "metadata": {},
   "outputs": [],
   "source": [
    "df_copy['month'] = pd.DatetimeIndex(df_copy['created_at']).month"
   ]
  },
  {
   "cell_type": "code",
   "execution_count": 87,
   "metadata": {},
   "outputs": [],
   "source": [
    "df_copy['day'] = pd.DatetimeIndex(df_copy['created_at']).day"
   ]
  },
  {
   "cell_type": "code",
   "execution_count": 90,
   "metadata": {},
   "outputs": [
    {
     "data": {
      "text/plain": [
       "<AxesSubplot:xlabel='day'>"
      ]
     },
     "execution_count": 90,
     "metadata": {},
     "output_type": "execute_result"
    },
    {
     "data": {
      "image/png": "[encoded data removed]",
      "text/plain": [
       "<Figure size 1152x288 with 1 Axes>"
      ]
     },
     "metadata": {
      "needs_background": "light"
     },
     "output_type": "display_data"
    }
   ],
   "source": [
    "retweet=pd.Series(data=df_copy['retweet_count'].values,index=df_copy['day'])\n",
    "retweet.plot(figsize=(16,4), color='r')"
   ]
  },
  {
   "cell_type": "code",
   "execution_count": 91,
   "metadata": {},
   "outputs": [
    {
     "data": {
      "text/plain": [
       "<AxesSubplot:>"
      ]
     },
     "execution_count": 91,
     "metadata": {},
     "output_type": "execute_result"
    },
    {
     "data": {
      "image/png": "[encoded data removed]",
      "text/plain": [
       "<Figure size 432x288 with 1 Axes>"
      ]
     },
     "metadata": {
      "needs_background": "light"
     },
     "output_type": "display_data"
    }
   ],
   "source": [
    "df_copy['day'].hist()"
   ]
  },
  {
   "cell_type": "code",
   "execution_count": 93,
   "metadata": {},
   "outputs": [
    {
     "data": {
      "text/plain": [
       "screen_name               0\n",
       "text                      0\n",
       "display_text_width        0\n",
       "is_retweet                0\n",
       "favorite_count            0\n",
       "retweet_count             0\n",
       "hashtags              59121\n",
       "lang                      0\n",
       "followers_count           0\n",
       "friends_count             0\n",
       "account_created_at        0\n",
       "verified                  0\n",
       "account_lang              0\n",
       "year                      0\n",
       "dtype: int64"
      ]
     },
     "execution_count": 93,
     "metadata": {},
     "output_type": "execute_result"
    }
   ],
   "source": [
    "df.isnull().sum()"
   ]
  },
  {
   "cell_type": "code",
   "execution_count": 6,
   "metadata": {},
   "outputs": [],
   "source": [
    "df['Tweets_Cln']=df.text.str.replace(r'http\\S+', '').str.replace(r'@\\S+', '').str.replace('&amp', '').str.rstrip()"
   ]
  },
  {
   "cell_type": "code",
   "execution_count": 11,
   "metadata": {
    "scrolled": true
   },
   "outputs": [
    {
     "data": {
      "text/plain": [
       "0         I've spoken out against every major political ...\n",
       "1         Bhakts are thrilled one of the four men arrest...\n",
       "2         You may now make #MainBhiChowkidar song as you...\n",
       "3         Breakfast with chief chowkidar in Australia. F...\n",
       "4         See how one of our #Chowkidar have thrashed Pa...\n",
       "                                ...                        \n",
       "107963       Sir, there was no Aryan invasion. It was a ...\n",
       "107964    Your Chowkidar is standing firm ; serving the ...\n",
       "107965    Kaun hai :\\n\\nJhooth ka Chowkidar ?\\n\\nFalse p...\n",
       "107966    If you are a chowkidar then tell me \\nwhere is...\n",
       "107967    I am proud to join #MainBhiChowkidar movement....\n",
       "Name: Tweets_Cln, Length: 107968, dtype: object"
      ]
     },
     "execution_count": 11,
     "metadata": {},
     "output_type": "execute_result"
    }
   ],
   "source": [
    "df['Tweets_Cln']"
   ]
  },
  {
   "cell_type": "code",
   "execution_count": 100,
   "metadata": {
    "scrolled": false
   },
   "outputs": [
    {
     "data": {
      "text/plain": [
       "0    MainBhiChowkidar\n",
       "dtype: object"
      ]
     },
     "execution_count": 100,
     "metadata": {},
     "output_type": "execute_result"
    }
   ],
   "source": [
    "df['hashtags'].mode()"
   ]
  },
  {
   "cell_type": "code",
   "execution_count": 140,
   "metadata": {},
   "outputs": [
    {
     "name": "stdout",
     "output_type": "stream",
     "text": [
      "chowkidar comes 105899 times.\n",
      "--------------------------------\n",
      "\n"
     ]
    }
   ],
   "source": [
    "import re\n",
    "swachh_count = df.Tweets_Cln[df.Tweets_Cln.str.contains('Chowkidar', flags=re.IGNORECASE)].count() \n",
    "print(f\"chowkidar comes {swachh_count} times.\")\n",
    "print(\"--------------------------------\")\n",
    "print()"
   ]
  },
  {
   "cell_type": "code",
   "execution_count": 108,
   "metadata": {},
   "outputs": [
    {
     "data": {
      "text/plain": [
       "(107968, 15)"
      ]
     },
     "execution_count": 108,
     "metadata": {},
     "output_type": "execute_result"
    }
   ],
   "source": [
    "df.shape"
   ]
  },
  {
   "cell_type": "markdown",
   "metadata": {},
   "source": [
    "# tweets that contains Chowkidar"
   ]
  },
  {
   "cell_type": "code",
   "execution_count": 115,
   "metadata": {},
   "outputs": [],
   "source": [
    "dfch = df[df.Tweets_Cln.str.contains('Chowkidar', flags=re.IGNORECASE)]"
   ]
  },
  {
   "cell_type": "code",
   "execution_count": 141,
   "metadata": {},
   "outputs": [
    {
     "data": {
      "text/plain": [
       "screen_name               0\n",
       "text                      0\n",
       "display_text_width        0\n",
       "is_retweet                0\n",
       "favorite_count            0\n",
       "retweet_count             0\n",
       "hashtags              57435\n",
       "lang                      0\n",
       "followers_count           0\n",
       "friends_count             0\n",
       "account_created_at        0\n",
       "verified                  0\n",
       "account_lang              0\n",
       "year                      0\n",
       "Tweets_Cln                0\n",
       "sentiment                 0\n",
       "dtype: int64"
      ]
     },
     "execution_count": 141,
     "metadata": {},
     "output_type": "execute_result"
    }
   ],
   "source": [
    "dfch.isna().sum()"
   ]
  },
  {
   "cell_type": "code",
   "execution_count": 154,
   "metadata": {
    "scrolled": true
   },
   "outputs": [
    {
     "data": {
      "text/plain": [
       "MainBhiChowkidar                                                                      16991\n",
       "NiravModi                                                                              5530\n",
       "Chowkidar                                                                              2316\n",
       "Lootidar NiravModi Chowkidar                                                           1261\n",
       "NiravModi NiravModi                                                                    1043\n",
       "                                                                                      ...  \n",
       "ChowkidarPhirSe ChowkidarNarendraModi Chowkidar                                           1\n",
       "sms WeWantChowkidar                                                                       1\n",
       "NaMoAgain2019 NaMoAgain 2019Elections Hindus tamilhindus MainBhiChowkidar hinduism        1\n",
       "reservation SaveTheUnreserved                                                             1\n",
       "MainBhiChowkidar IssbaarbhiModiSarkar                                                     1\n",
       "Name: hashtags, Length: 5208, dtype: int64"
      ]
     },
     "execution_count": 154,
     "metadata": {},
     "output_type": "execute_result"
    }
   ],
   "source": [
    "dfch.hashtags.value_counts()"
   ]
  },
  {
   "cell_type": "code",
   "execution_count": 117,
   "metadata": {},
   "outputs": [
    {
     "data": {
      "text/plain": [
       "(105899, 15)"
      ]
     },
     "execution_count": 117,
     "metadata": {},
     "output_type": "execute_result"
    }
   ],
   "source": [
    "dfch.shape"
   ]
  },
  {
   "cell_type": "code",
   "execution_count": 208,
   "metadata": {
    "scrolled": false
   },
   "outputs": [
    {
     "data": {
      "text/html": [
       "<div>\n",
       "<style scoped>\n",
       "    .dataframe tbody tr th:only-of-type {\n",
       "        vertical-align: middle;\n",
       "    }\n",
       "\n",
       "    .dataframe tbody tr th {\n",
       "        vertical-align: top;\n",
       "    }\n",
       "\n",
       "    .dataframe thead th {\n",
       "        text-align: right;\n",
       "    }\n",
       "</style>\n",
       "<table border=\"1\" class=\"dataframe\">\n",
       "  <thead>\n",
       "    <tr style=\"text-align: right;\">\n",
       "      <th></th>\n",
       "      <th>screen_name</th>\n",
       "      <th>text</th>\n",
       "      <th>display_text_width</th>\n",
       "      <th>is_retweet</th>\n",
       "      <th>favorite_count</th>\n",
       "      <th>retweet_count</th>\n",
       "      <th>hashtags</th>\n",
       "      <th>lang</th>\n",
       "      <th>followers_count</th>\n",
       "      <th>friends_count</th>\n",
       "      <th>account_created_at</th>\n",
       "      <th>verified</th>\n",
       "      <th>account_lang</th>\n",
       "      <th>year</th>\n",
       "      <th>Tweets_Cln</th>\n",
       "      <th>sentiment</th>\n",
       "    </tr>\n",
       "  </thead>\n",
       "  <tbody>\n",
       "    <tr>\n",
       "      <th>0</th>\n",
       "      <td>Actor_Siddharth</td>\n",
       "      <td>I've spoken out against every major political ...</td>\n",
       "      <td>279</td>\n",
       "      <td>False</td>\n",
       "      <td>10757</td>\n",
       "      <td>2828</td>\n",
       "      <td>CHOWKIDAR BJP</td>\n",
       "      <td>en</td>\n",
       "      <td>4115243</td>\n",
       "      <td>75</td>\n",
       "      <td>2009-07-03 15:33:34</td>\n",
       "      <td>True</td>\n",
       "      <td>en</td>\n",
       "      <td>2019</td>\n",
       "      <td>I've spoken out against every major political ...</td>\n",
       "      <td>-1</td>\n",
       "    </tr>\n",
       "    <tr>\n",
       "      <th>1</th>\n",
       "      <td>svaradarajan</td>\n",
       "      <td>Bhakts are thrilled one of the four men arrest...</td>\n",
       "      <td>276</td>\n",
       "      <td>False</td>\n",
       "      <td>4490</td>\n",
       "      <td>1681</td>\n",
       "      <td>NaN</td>\n",
       "      <td>en</td>\n",
       "      <td>486943</td>\n",
       "      <td>865</td>\n",
       "      <td>2009-02-16 19:02:23</td>\n",
       "      <td>True</td>\n",
       "      <td>en</td>\n",
       "      <td>2019</td>\n",
       "      <td>Bhakts are thrilled one of the four men arrest...</td>\n",
       "      <td>-1</td>\n",
       "    </tr>\n",
       "    <tr>\n",
       "      <th>2</th>\n",
       "      <td>BJP4India</td>\n",
       "      <td>You may now make #MainBhiChowkidar song as you...</td>\n",
       "      <td>268</td>\n",
       "      <td>False</td>\n",
       "      <td>7597</td>\n",
       "      <td>2864</td>\n",
       "      <td>MainBhiChowkidar</td>\n",
       "      <td>en</td>\n",
       "      <td>10742860</td>\n",
       "      <td>2</td>\n",
       "      <td>2010-10-26 02:19:07</td>\n",
       "      <td>True</td>\n",
       "      <td>en</td>\n",
       "      <td>2019</td>\n",
       "      <td>You may now make #MainBhiChowkidar song as you...</td>\n",
       "      <td>0</td>\n",
       "    </tr>\n",
       "    <tr>\n",
       "      <th>3</th>\n",
       "      <td>commo_nic_ation</td>\n",
       "      <td>Breakfast with chief chowkidar in Australia. F...</td>\n",
       "      <td>111</td>\n",
       "      <td>True</td>\n",
       "      <td>0</td>\n",
       "      <td>1253</td>\n",
       "      <td>NaN</td>\n",
       "      <td>en</td>\n",
       "      <td>113</td>\n",
       "      <td>465</td>\n",
       "      <td>2017-06-17 23:41:49</td>\n",
       "      <td>False</td>\n",
       "      <td>en</td>\n",
       "      <td>2019</td>\n",
       "      <td>Breakfast with chief chowkidar in Australia. F...</td>\n",
       "      <td>0</td>\n",
       "    </tr>\n",
       "    <tr>\n",
       "      <th>4</th>\n",
       "      <td>PAWANSANAN</td>\n",
       "      <td>See how one of our #Chowkidar have thrashed Pa...</td>\n",
       "      <td>140</td>\n",
       "      <td>True</td>\n",
       "      <td>0</td>\n",
       "      <td>276</td>\n",
       "      <td>Chowkidar</td>\n",
       "      <td>en</td>\n",
       "      <td>523</td>\n",
       "      <td>1545</td>\n",
       "      <td>2010-07-09 21:55:28</td>\n",
       "      <td>False</td>\n",
       "      <td>en</td>\n",
       "      <td>2019</td>\n",
       "      <td>See how one of our #Chowkidar have thrashed Pa...</td>\n",
       "      <td>0</td>\n",
       "    </tr>\n",
       "  </tbody>\n",
       "</table>\n",
       "</div>"
      ],
      "text/plain": [
       "       screen_name                                               text  \\\n",
       "0  Actor_Siddharth  I've spoken out against every major political ...   \n",
       "1     svaradarajan  Bhakts are thrilled one of the four men arrest...   \n",
       "2        BJP4India  You may now make #MainBhiChowkidar song as you...   \n",
       "3  commo_nic_ation  Breakfast with chief chowkidar in Australia. F...   \n",
       "4       PAWANSANAN  See how one of our #Chowkidar have thrashed Pa...   \n",
       "\n",
       "   display_text_width  is_retweet  favorite_count  retweet_count  \\\n",
       "0                 279       False           10757           2828   \n",
       "1                 276       False            4490           1681   \n",
       "2                 268       False            7597           2864   \n",
       "3                 111        True               0           1253   \n",
       "4                 140        True               0            276   \n",
       "\n",
       "           hashtags lang  followers_count  friends_count   account_created_at  \\\n",
       "0     CHOWKIDAR BJP   en          4115243             75  2009-07-03 15:33:34   \n",
       "1               NaN   en           486943            865  2009-02-16 19:02:23   \n",
       "2  MainBhiChowkidar   en         10742860              2  2010-10-26 02:19:07   \n",
       "3               NaN   en              113            465  2017-06-17 23:41:49   \n",
       "4         Chowkidar   en              523           1545  2010-07-09 21:55:28   \n",
       "\n",
       "   verified account_lang  year  \\\n",
       "0      True           en  2019   \n",
       "1      True           en  2019   \n",
       "2      True           en  2019   \n",
       "3     False           en  2019   \n",
       "4     False           en  2019   \n",
       "\n",
       "                                          Tweets_Cln  sentiment  \n",
       "0  I've spoken out against every major political ...         -1  \n",
       "1  Bhakts are thrilled one of the four men arrest...         -1  \n",
       "2  You may now make #MainBhiChowkidar song as you...          0  \n",
       "3  Breakfast with chief chowkidar in Australia. F...          0  \n",
       "4  See how one of our #Chowkidar have thrashed Pa...          0  "
      ]
     },
     "execution_count": 208,
     "metadata": {},
     "output_type": "execute_result"
    }
   ],
   "source": [
    "dfch.head()"
   ]
  },
  {
   "cell_type": "markdown",
   "metadata": {},
   "source": [
    "# Tweet with most favorite counts"
   ]
  },
  {
   "cell_type": "code",
   "execution_count": 191,
   "metadata": {},
   "outputs": [
    {
     "data": {
      "text/plain": [
       "11827"
      ]
     },
     "execution_count": 191,
     "metadata": {},
     "output_type": "execute_result"
    }
   ],
   "source": [
    "max_fav = np.max(dfch['favorite_count'])\n",
    "max_fav"
   ]
  },
  {
   "cell_type": "code",
   "execution_count": 206,
   "metadata": {
    "scrolled": true
   },
   "outputs": [
    {
     "name": "stdout",
     "output_type": "stream",
     "text": [
      "#NiravModi arrested in London but Chowkidar  chor hai aur  jo Nirav Modi ke saath cocktail pe rahe the paak saaf hai? Will Rahul accept my challenge ; deny he did not meet Nirav Modi when loans were being given to Mama Bhanja?\n"
     ]
    }
   ],
   "source": [
    "fav=dfch[dfch.favorite_count==max_fav].index[0]\n",
    "{dfch['Tweets_Cln'][fav]}\n",
    "print(f\"{dfch['Tweets_Cln'][fav]}\")"
   ]
  },
  {
   "cell_type": "code",
   "execution_count": null,
   "metadata": {},
   "outputs": [],
   "source": []
  },
  {
   "cell_type": "code",
   "execution_count": 250,
   "metadata": {
    "scrolled": false
   },
   "outputs": [
    {
     "name": "stdout",
     "output_type": "stream",
     "text": [
      "Screen Name : timesofindia\n",
      "No of followers : 11702921\n"
     ]
    }
   ],
   "source": [
    "follow_max = np.max(dfch['followers_count'])\n",
    "followers = dfch[dfch['followers_count']==follow_max].index[0]\n",
    "print(f\"Screen Name : {dfch['screen_name'][followers]}\")\n",
    "print(f\"No of followers : {follow_max}\")"
   ]
  },
  {
   "cell_type": "code",
   "execution_count": null,
   "metadata": {},
   "outputs": [],
   "source": []
  },
  {
   "cell_type": "code",
   "execution_count": null,
   "metadata": {},
   "outputs": [],
   "source": []
  },
  {
   "cell_type": "code",
   "execution_count": 220,
   "metadata": {},
   "outputs": [
    {
     "data": {
      "text/html": [
       "<div>\n",
       "<style scoped>\n",
       "    .dataframe tbody tr th:only-of-type {\n",
       "        vertical-align: middle;\n",
       "    }\n",
       "\n",
       "    .dataframe tbody tr th {\n",
       "        vertical-align: top;\n",
       "    }\n",
       "\n",
       "    .dataframe thead th {\n",
       "        text-align: right;\n",
       "    }\n",
       "</style>\n",
       "<table border=\"1\" class=\"dataframe\">\n",
       "  <thead>\n",
       "    <tr style=\"text-align: right;\">\n",
       "      <th></th>\n",
       "      <th>screen_name</th>\n",
       "      <th>text</th>\n",
       "      <th>display_text_width</th>\n",
       "      <th>is_retweet</th>\n",
       "      <th>favorite_count</th>\n",
       "      <th>retweet_count</th>\n",
       "      <th>hashtags</th>\n",
       "      <th>lang</th>\n",
       "      <th>followers_count</th>\n",
       "      <th>friends_count</th>\n",
       "      <th>account_created_at</th>\n",
       "      <th>verified</th>\n",
       "      <th>account_lang</th>\n",
       "      <th>year</th>\n",
       "      <th>Tweets_Cln</th>\n",
       "      <th>sentiment</th>\n",
       "    </tr>\n",
       "  </thead>\n",
       "  <tbody>\n",
       "    <tr>\n",
       "      <th>44105</th>\n",
       "      <td>timesofindia</td>\n",
       "      <td>PM @narendramodi to chowkidars: You must have ...</td>\n",
       "      <td>240</td>\n",
       "      <td>False</td>\n",
       "      <td>82</td>\n",
       "      <td>10</td>\n",
       "      <td>MainBhiChowkidar</td>\n",
       "      <td>en</td>\n",
       "      <td>11702921</td>\n",
       "      <td>511</td>\n",
       "      <td>2010-04-19 10:50:15</td>\n",
       "      <td>True</td>\n",
       "      <td>en</td>\n",
       "      <td>2019</td>\n",
       "      <td>PM  to chowkidars: You must have noticed that ...</td>\n",
       "      <td>1</td>\n",
       "    </tr>\n",
       "    <tr>\n",
       "      <th>60278</th>\n",
       "      <td>timesofindia</td>\n",
       "      <td>If you want your child to become 'chowkidar', ...</td>\n",
       "      <td>126</td>\n",
       "      <td>False</td>\n",
       "      <td>314</td>\n",
       "      <td>67</td>\n",
       "      <td>LokSabhaElections2019</td>\n",
       "      <td>en</td>\n",
       "      <td>11702910</td>\n",
       "      <td>511</td>\n",
       "      <td>2010-04-19 10:50:15</td>\n",
       "      <td>True</td>\n",
       "      <td>en</td>\n",
       "      <td>2019</td>\n",
       "      <td>If you want your child to become 'chowkidar', ...</td>\n",
       "      <td>0</td>\n",
       "    </tr>\n",
       "    <tr>\n",
       "      <th>78550</th>\n",
       "      <td>timesofindia</td>\n",
       "      <td>PM’s ‘chowkidar’ campaign meant to hide failur...</td>\n",
       "      <td>82</td>\n",
       "      <td>False</td>\n",
       "      <td>68</td>\n",
       "      <td>14</td>\n",
       "      <td>NaN</td>\n",
       "      <td>en</td>\n",
       "      <td>11702917</td>\n",
       "      <td>511</td>\n",
       "      <td>2010-04-19 10:50:15</td>\n",
       "      <td>True</td>\n",
       "      <td>en</td>\n",
       "      <td>2019</td>\n",
       "      <td>PM’s ‘chowkidar’ campaign meant to hide failur...</td>\n",
       "      <td>0</td>\n",
       "    </tr>\n",
       "  </tbody>\n",
       "</table>\n",
       "</div>"
      ],
      "text/plain": [
       "        screen_name                                               text  \\\n",
       "44105  timesofindia  PM @narendramodi to chowkidars: You must have ...   \n",
       "60278  timesofindia  If you want your child to become 'chowkidar', ...   \n",
       "78550  timesofindia  PM’s ‘chowkidar’ campaign meant to hide failur...   \n",
       "\n",
       "       display_text_width  is_retweet  favorite_count  retweet_count  \\\n",
       "44105                 240       False              82             10   \n",
       "60278                 126       False             314             67   \n",
       "78550                  82       False              68             14   \n",
       "\n",
       "                    hashtags lang  followers_count  friends_count  \\\n",
       "44105       MainBhiChowkidar   en         11702921            511   \n",
       "60278  LokSabhaElections2019   en         11702910            511   \n",
       "78550                    NaN   en         11702917            511   \n",
       "\n",
       "        account_created_at  verified account_lang  year  \\\n",
       "44105  2010-04-19 10:50:15      True           en  2019   \n",
       "60278  2010-04-19 10:50:15      True           en  2019   \n",
       "78550  2010-04-19 10:50:15      True           en  2019   \n",
       "\n",
       "                                              Tweets_Cln  sentiment  \n",
       "44105  PM  to chowkidars: You must have noticed that ...          1  \n",
       "60278  If you want your child to become 'chowkidar', ...          0  \n",
       "78550  PM’s ‘chowkidar’ campaign meant to hide failur...          0  "
      ]
     },
     "execution_count": 220,
     "metadata": {},
     "output_type": "execute_result"
    }
   ],
   "source": [
    "dfch[dfch['screen_name']=='timesofindia']"
   ]
  },
  {
   "cell_type": "code",
   "execution_count": null,
   "metadata": {},
   "outputs": [],
   "source": []
  },
  {
   "cell_type": "markdown",
   "metadata": {},
   "source": [
    "# Word Cloud"
   ]
  },
  {
   "cell_type": "code",
   "execution_count": 126,
   "metadata": {},
   "outputs": [
    {
     "data": {
      "image/png": "[encoded data removed]",
      "text/plain": [
       "<Figure size 864x720 with 1 Axes>"
      ]
     },
     "metadata": {
      "needs_background": "light"
     },
     "output_type": "display_data"
    }
   ],
   "source": [
    "all_tweets = dfch['Tweets_Cln']\n",
    "all_string =[]\n",
    "for t in all_tweets:\n",
    "    all_string.append(t)\n",
    "all_string = pd.Series(all_string).str.cat(sep=' ')\n",
    "\n",
    "stopwords = set(STOPWORDS)\n",
    "stopwords.add(\"will\")\n",
    "stopwords.update([\"say\",\"said\", \"let\", \"now\", \"go\", \"Ji\", \"many\", \"Dear\",\"phone\",\"Dial\",\"given\",\"Idea\",\"type\", \"Shri\", \"watch\",\"mobile\",\"ke\",\"aur\",\"jo\",\"Airter\",\"Vodafone\",\"saath\",\"NiravModi\",\"Nirav\"])\n",
    "\n",
    "wordcloud = WordCloud(width=1600, height=800,max_font_size=200,stopwords=stopwords).generate(all_string)\n",
    "plt.figure(figsize=(12,10))\n",
    "plt.title('Word Cloud')\n",
    "#matplotlib.pyplot.title(label, fontdict=None, loc='center', pad=None, **kwargs)[source]\n",
    "plt.imshow(wordcloud, interpolation=\"bilinear\")\n",
    "plt.axis(\"off\")\n",
    "plt.show()"
   ]
  },
  {
   "cell_type": "code",
   "execution_count": null,
   "metadata": {},
   "outputs": [],
   "source": []
  },
  {
   "cell_type": "code",
   "execution_count": null,
   "metadata": {},
   "outputs": [],
   "source": []
  },
  {
   "cell_type": "code",
   "execution_count": 134,
   "metadata": {},
   "outputs": [
    {
     "name": "stderr",
     "output_type": "stream",
     "text": [
      "<ipython-input-134-60842846f215>:9: SettingWithCopyWarning: \n",
      "A value is trying to be set on a copy of a slice from a DataFrame.\n",
      "Try using .loc[row_indexer,col_indexer] = value instead\n",
      "\n",
      "See the caveats in the documentation: https://pandas.pydata.org/pandas-docs/stable/user_guide/indexing.html#returning-a-view-versus-a-copy\n",
      "  dfch['sentiment'] = np.array([ analize_sentiment(tweet) for tweet in dfch['Tweets_Cln']])\n"
     ]
    },
    {
     "data": {
      "image/png": "[encoded data removed]",
      "text/plain": [
       "<Figure size 432x288 with 1 Axes>"
      ]
     },
     "metadata": {},
     "output_type": "display_data"
    }
   ],
   "source": [
    "def analize_sentiment(tweet):\n",
    "    analysis = TextBlob(tweet)\n",
    "    if analysis.sentiment.polarity > 0:\n",
    "        return 1\n",
    "    elif analysis.sentiment.polarity == 0:\n",
    "        return 0\n",
    "    else:\n",
    "        return -1\n",
    "dfch['sentiment'] = np.array([ analize_sentiment(tweet) for tweet in dfch['Tweets_Cln']])\n",
    "#display(data.head(2))\n",
    "\n",
    "positive=dfch.loc[dfch.sentiment==1,'Tweets_Cln'].count()\n",
    "negative=dfch.loc[dfch.sentiment==-1,'Tweets_Cln'].count()\n",
    "neutral=dfch.loc[dfch.sentiment==0,'Tweets_Cln'].count()\n",
    "\n",
    "#Let's plot\n",
    "labels='Postive', 'Negative', 'Neutral'\n",
    "sizes=[positive, negative, neutral]\n",
    "explode=(0, 0.1, 0)\n",
    "fig1, ax1 = plt.subplots()\n",
    "ax1.pie(sizes, explode=explode, labels=labels, autopct='%1.1f%%',\n",
    "        shadow=True, startangle=0)\n",
    "ax1.axis('equal') \n",
    "plt.show()"
   ]
  },
  {
   "cell_type": "code",
   "execution_count": null,
   "metadata": {},
   "outputs": [],
   "source": []
  },
  {
   "cell_type": "code",
   "execution_count": 156,
   "metadata": {
    "scrolled": true
   },
   "outputs": [
    {
     "name": "stdout",
     "output_type": "stream",
     "text": [
      "Requirement already satisfied: nltk in /home/arjun/anaconda3/lib/python3.8/site-packages (3.5)\n",
      "Requirement already satisfied: joblib in /home/arjun/anaconda3/lib/python3.8/site-packages (from nltk) (0.17.0)\n",
      "Requirement already satisfied: click in /home/arjun/anaconda3/lib/python3.8/site-packages (from nltk) (7.1.2)\n",
      "Requirement already satisfied: tqdm in /home/arjun/anaconda3/lib/python3.8/site-packages (from nltk) (4.50.2)\n",
      "Requirement already satisfied: regex in /home/arjun/anaconda3/lib/python3.8/site-packages (from nltk) (2020.10.15)\n",
      "Note: you may need to restart the kernel to use updated packages.\n"
     ]
    }
   ],
   "source": [
    "pip install nltk"
   ]
  },
  {
   "cell_type": "code",
   "execution_count": 158,
   "metadata": {
    "scrolled": true
   },
   "outputs": [
    {
     "name": "stderr",
     "output_type": "stream",
     "text": [
      "[nltk_data] Downloading package stopwords to /home/arjun/nltk_data...\n",
      "[nltk_data]   Unzipping corpora/stopwords.zip.\n"
     ]
    },
    {
     "data": {
      "text/plain": [
       "True"
      ]
     },
     "execution_count": 158,
     "metadata": {},
     "output_type": "execute_result"
    }
   ],
   "source": [
    "nltk.download('stopwords')"
   ]
  },
  {
   "cell_type": "code",
   "execution_count": 256,
   "metadata": {
    "scrolled": true
   },
   "outputs": [
    {
     "name": "stdout",
     "output_type": "stream",
     "text": [
      "chowkidar 51448\n",
      "#mainbhichowkidar 32695\n",
      "modi 26581\n",
      "nirav 14203\n",
      "chor 12120\n",
      "india 10757\n",
      "arrested 10540\n",
      "pm 10479\n",
      "#chowkidar 9805\n",
      "govt 8848\n",
      "-------------------------------\n",
      "\n",
      "Number of times  mentioned #: 154\n"
     ]
    }
   ],
   "source": [
    "#Let's get word frequency \n",
    "import nltk\n",
    "from nltk.corpus import stopwords \n",
    "stop_words = set(stopwords.words('english'))\n",
    "stop_words.update([\"I\", \"The\",\"के\", \"की\",\"को\",\"में\", \"का\", \"और\",\"है।\", \"से\",\"in\", \"a\", \"ji\", \"पर\", \"shri\",\"है\", \"लिए\", \"ji.\",\n",
    "                   \"ने\", \"also\", \"towards\",\"mobile\",\";\",\"•\",\"dial\",\"phone\",\"big\",\"phone.\",\"one\"])\n",
    "\n",
    "counts = {}\n",
    "for text in dfch.Tweets_Cln:\n",
    "        for word in text.split():\n",
    "            if word.lower() in stop_words:\n",
    "                continue\n",
    "            else:\n",
    "                counts[word.lower()]=counts.get(word.lower(),0)+1\n",
    "\n",
    "lst=[]\n",
    "\n",
    "for key,val in counts.items():\n",
    "    newtup=(val, key)\n",
    "    lst.append(newtup)\n",
    "\n",
    "lst=sorted(lst, reverse=True)\n",
    "\n",
    "count_num=[]\n",
    "value=[]\n",
    "for val, key in lst[:10]:\n",
    "    count_num.append(key)\n",
    "    value.append(val)\n",
    "    print(key, val)\n",
    " \n",
    "print(\"-------------------------------\")\n",
    "print()\n",
    "#   print(f\"Number of times  mentioned #: {counts['#']}\")"
   ]
  },
  {
   "cell_type": "code",
   "execution_count": 185,
   "metadata": {},
   "outputs": [
    {
     "data": {
      "text/plain": [
       "[<matplotlib.lines.Line2D at 0x7f319352f610>]"
      ]
     },
     "execution_count": 185,
     "metadata": {},
     "output_type": "execute_result"
    },
    {
     "data": {
      "image/png": "[encoded data removed]",
      "text/plain": [
       "<Figure size 1656x576 with 1 Axes>"
      ]
     },
     "metadata": {
      "needs_background": "light"
     },
     "output_type": "display_data"
    }
   ],
   "source": [
    "len(count_num)\n",
    "plt.figure(figsize=[23,8])\n",
    "plt.plot(count_num, value)"
   ]
  },
  {
   "cell_type": "code",
   "execution_count": 264,
   "metadata": {},
   "outputs": [
    {
     "name": "stderr",
     "output_type": "stream",
     "text": [
      "/home/arjun/anaconda3/lib/python3.8/site-packages/pandas/core/frame.py:4163: SettingWithCopyWarning: \n",
      "A value is trying to be set on a copy of a slice from a DataFrame\n",
      "\n",
      "See the caveats in the documentation: https://pandas.pydata.org/pandas-docs/stable/user_guide/indexing.html#returning-a-view-versus-a-copy\n",
      "  return super().drop(\n"
     ]
    }
   ],
   "source": [
    "dfch.drop(['Indexes'],axis=1,inplace=True)"
   ]
  },
  {
   "cell_type": "code",
   "execution_count": 265,
   "metadata": {
    "scrolled": true
   },
   "outputs": [
    {
     "data": {
      "text/html": [
       "<div>\n",
       "<style scoped>\n",
       "    .dataframe tbody tr th:only-of-type {\n",
       "        vertical-align: middle;\n",
       "    }\n",
       "\n",
       "    .dataframe tbody tr th {\n",
       "        vertical-align: top;\n",
       "    }\n",
       "\n",
       "    .dataframe thead th {\n",
       "        text-align: right;\n",
       "    }\n",
       "</style>\n",
       "<table border=\"1\" class=\"dataframe\">\n",
       "  <thead>\n",
       "    <tr style=\"text-align: right;\">\n",
       "      <th></th>\n",
       "      <th>screen_name</th>\n",
       "      <th>text</th>\n",
       "      <th>display_text_width</th>\n",
       "      <th>is_retweet</th>\n",
       "      <th>favorite_count</th>\n",
       "      <th>retweet_count</th>\n",
       "      <th>hashtags</th>\n",
       "      <th>lang</th>\n",
       "      <th>followers_count</th>\n",
       "      <th>friends_count</th>\n",
       "      <th>account_created_at</th>\n",
       "      <th>verified</th>\n",
       "      <th>account_lang</th>\n",
       "      <th>year</th>\n",
       "      <th>Tweets_Cln</th>\n",
       "      <th>sentiment</th>\n",
       "    </tr>\n",
       "  </thead>\n",
       "  <tbody>\n",
       "    <tr>\n",
       "      <th>0</th>\n",
       "      <td>Actor_Siddharth</td>\n",
       "      <td>I've spoken out against every major political ...</td>\n",
       "      <td>279</td>\n",
       "      <td>False</td>\n",
       "      <td>10757</td>\n",
       "      <td>2828</td>\n",
       "      <td>CHOWKIDAR BJP</td>\n",
       "      <td>en</td>\n",
       "      <td>4115243</td>\n",
       "      <td>75</td>\n",
       "      <td>2009-07-03 15:33:34</td>\n",
       "      <td>True</td>\n",
       "      <td>en</td>\n",
       "      <td>2019</td>\n",
       "      <td>I've spoken out against every major political ...</td>\n",
       "      <td>-1</td>\n",
       "    </tr>\n",
       "    <tr>\n",
       "      <th>1</th>\n",
       "      <td>svaradarajan</td>\n",
       "      <td>Bhakts are thrilled one of the four men arrest...</td>\n",
       "      <td>276</td>\n",
       "      <td>False</td>\n",
       "      <td>4490</td>\n",
       "      <td>1681</td>\n",
       "      <td>NaN</td>\n",
       "      <td>en</td>\n",
       "      <td>486943</td>\n",
       "      <td>865</td>\n",
       "      <td>2009-02-16 19:02:23</td>\n",
       "      <td>True</td>\n",
       "      <td>en</td>\n",
       "      <td>2019</td>\n",
       "      <td>Bhakts are thrilled one of the four men arrest...</td>\n",
       "      <td>-1</td>\n",
       "    </tr>\n",
       "    <tr>\n",
       "      <th>2</th>\n",
       "      <td>BJP4India</td>\n",
       "      <td>You may now make #MainBhiChowkidar song as you...</td>\n",
       "      <td>268</td>\n",
       "      <td>False</td>\n",
       "      <td>7597</td>\n",
       "      <td>2864</td>\n",
       "      <td>MainBhiChowkidar</td>\n",
       "      <td>en</td>\n",
       "      <td>10742860</td>\n",
       "      <td>2</td>\n",
       "      <td>2010-10-26 02:19:07</td>\n",
       "      <td>True</td>\n",
       "      <td>en</td>\n",
       "      <td>2019</td>\n",
       "      <td>You may now make #MainBhiChowkidar song as you...</td>\n",
       "      <td>0</td>\n",
       "    </tr>\n",
       "    <tr>\n",
       "      <th>3</th>\n",
       "      <td>commo_nic_ation</td>\n",
       "      <td>Breakfast with chief chowkidar in Australia. F...</td>\n",
       "      <td>111</td>\n",
       "      <td>True</td>\n",
       "      <td>0</td>\n",
       "      <td>1253</td>\n",
       "      <td>NaN</td>\n",
       "      <td>en</td>\n",
       "      <td>113</td>\n",
       "      <td>465</td>\n",
       "      <td>2017-06-17 23:41:49</td>\n",
       "      <td>False</td>\n",
       "      <td>en</td>\n",
       "      <td>2019</td>\n",
       "      <td>Breakfast with chief chowkidar in Australia. F...</td>\n",
       "      <td>0</td>\n",
       "    </tr>\n",
       "    <tr>\n",
       "      <th>4</th>\n",
       "      <td>PAWANSANAN</td>\n",
       "      <td>See how one of our #Chowkidar have thrashed Pa...</td>\n",
       "      <td>140</td>\n",
       "      <td>True</td>\n",
       "      <td>0</td>\n",
       "      <td>276</td>\n",
       "      <td>Chowkidar</td>\n",
       "      <td>en</td>\n",
       "      <td>523</td>\n",
       "      <td>1545</td>\n",
       "      <td>2010-07-09 21:55:28</td>\n",
       "      <td>False</td>\n",
       "      <td>en</td>\n",
       "      <td>2019</td>\n",
       "      <td>See how one of our #Chowkidar have thrashed Pa...</td>\n",
       "      <td>0</td>\n",
       "    </tr>\n",
       "  </tbody>\n",
       "</table>\n",
       "</div>"
      ],
      "text/plain": [
       "       screen_name                                               text  \\\n",
       "0  Actor_Siddharth  I've spoken out against every major political ...   \n",
       "1     svaradarajan  Bhakts are thrilled one of the four men arrest...   \n",
       "2        BJP4India  You may now make #MainBhiChowkidar song as you...   \n",
       "3  commo_nic_ation  Breakfast with chief chowkidar in Australia. F...   \n",
       "4       PAWANSANAN  See how one of our #Chowkidar have thrashed Pa...   \n",
       "\n",
       "   display_text_width  is_retweet  favorite_count  retweet_count  \\\n",
       "0                 279       False           10757           2828   \n",
       "1                 276       False            4490           1681   \n",
       "2                 268       False            7597           2864   \n",
       "3                 111        True               0           1253   \n",
       "4                 140        True               0            276   \n",
       "\n",
       "           hashtags lang  followers_count  friends_count   account_created_at  \\\n",
       "0     CHOWKIDAR BJP   en          4115243             75  2009-07-03 15:33:34   \n",
       "1               NaN   en           486943            865  2009-02-16 19:02:23   \n",
       "2  MainBhiChowkidar   en         10742860              2  2010-10-26 02:19:07   \n",
       "3               NaN   en              113            465  2017-06-17 23:41:49   \n",
       "4         Chowkidar   en              523           1545  2010-07-09 21:55:28   \n",
       "\n",
       "   verified account_lang  year  \\\n",
       "0      True           en  2019   \n",
       "1      True           en  2019   \n",
       "2      True           en  2019   \n",
       "3     False           en  2019   \n",
       "4     False           en  2019   \n",
       "\n",
       "                                          Tweets_Cln  sentiment  \n",
       "0  I've spoken out against every major political ...         -1  \n",
       "1  Bhakts are thrilled one of the four men arrest...         -1  \n",
       "2  You may now make #MainBhiChowkidar song as you...          0  \n",
       "3  Breakfast with chief chowkidar in Australia. F...          0  \n",
       "4  See how one of our #Chowkidar have thrashed Pa...          0  "
      ]
     },
     "execution_count": 265,
     "metadata": {},
     "output_type": "execute_result"
    }
   ],
   "source": [
    "dfch.head()"
   ]
  },
  {
   "cell_type": "code",
   "execution_count": 12,
   "metadata": {
    "scrolled": true
   },
   "outputs": [
    {
     "data": {
      "text/html": [
       "<div>\n",
       "<style scoped>\n",
       "    .dataframe tbody tr th:only-of-type {\n",
       "        vertical-align: middle;\n",
       "    }\n",
       "\n",
       "    .dataframe tbody tr th {\n",
       "        vertical-align: top;\n",
       "    }\n",
       "\n",
       "    .dataframe thead th {\n",
       "        text-align: right;\n",
       "    }\n",
       "</style>\n",
       "<table border=\"1\" class=\"dataframe\">\n",
       "  <thead>\n",
       "    <tr style=\"text-align: right;\">\n",
       "      <th></th>\n",
       "      <th>screen_name</th>\n",
       "      <th>text</th>\n",
       "      <th>display_text_width</th>\n",
       "      <th>is_retweet</th>\n",
       "      <th>favorite_count</th>\n",
       "      <th>retweet_count</th>\n",
       "      <th>hashtags</th>\n",
       "      <th>lang</th>\n",
       "      <th>followers_count</th>\n",
       "      <th>friends_count</th>\n",
       "      <th>account_created_at</th>\n",
       "      <th>verified</th>\n",
       "      <th>account_lang</th>\n",
       "      <th>Tweets_Cln</th>\n",
       "    </tr>\n",
       "  </thead>\n",
       "  <tbody>\n",
       "    <tr>\n",
       "      <th>0</th>\n",
       "      <td>Actor_Siddharth</td>\n",
       "      <td>I've spoken out against every major political ...</td>\n",
       "      <td>279</td>\n",
       "      <td>False</td>\n",
       "      <td>10757</td>\n",
       "      <td>2828</td>\n",
       "      <td>CHOWKIDAR BJP</td>\n",
       "      <td>en</td>\n",
       "      <td>4115243</td>\n",
       "      <td>75</td>\n",
       "      <td>2009-07-03 15:33:34</td>\n",
       "      <td>True</td>\n",
       "      <td>en</td>\n",
       "      <td>I've spoken out against every major political ...</td>\n",
       "    </tr>\n",
       "    <tr>\n",
       "      <th>1</th>\n",
       "      <td>svaradarajan</td>\n",
       "      <td>Bhakts are thrilled one of the four men arrest...</td>\n",
       "      <td>276</td>\n",
       "      <td>False</td>\n",
       "      <td>4490</td>\n",
       "      <td>1681</td>\n",
       "      <td>NaN</td>\n",
       "      <td>en</td>\n",
       "      <td>486943</td>\n",
       "      <td>865</td>\n",
       "      <td>2009-02-16 19:02:23</td>\n",
       "      <td>True</td>\n",
       "      <td>en</td>\n",
       "      <td>Bhakts are thrilled one of the four men arrest...</td>\n",
       "    </tr>\n",
       "    <tr>\n",
       "      <th>2</th>\n",
       "      <td>BJP4India</td>\n",
       "      <td>You may now make #MainBhiChowkidar song as you...</td>\n",
       "      <td>268</td>\n",
       "      <td>False</td>\n",
       "      <td>7597</td>\n",
       "      <td>2864</td>\n",
       "      <td>MainBhiChowkidar</td>\n",
       "      <td>en</td>\n",
       "      <td>10742860</td>\n",
       "      <td>2</td>\n",
       "      <td>2010-10-26 02:19:07</td>\n",
       "      <td>True</td>\n",
       "      <td>en</td>\n",
       "      <td>You may now make #MainBhiChowkidar song as you...</td>\n",
       "    </tr>\n",
       "    <tr>\n",
       "      <th>3</th>\n",
       "      <td>commo_nic_ation</td>\n",
       "      <td>Breakfast with chief chowkidar in Australia. F...</td>\n",
       "      <td>111</td>\n",
       "      <td>True</td>\n",
       "      <td>0</td>\n",
       "      <td>1253</td>\n",
       "      <td>NaN</td>\n",
       "      <td>en</td>\n",
       "      <td>113</td>\n",
       "      <td>465</td>\n",
       "      <td>2017-06-17 23:41:49</td>\n",
       "      <td>False</td>\n",
       "      <td>en</td>\n",
       "      <td>Breakfast with chief chowkidar in Australia. F...</td>\n",
       "    </tr>\n",
       "    <tr>\n",
       "      <th>4</th>\n",
       "      <td>PAWANSANAN</td>\n",
       "      <td>See how one of our #Chowkidar have thrashed Pa...</td>\n",
       "      <td>140</td>\n",
       "      <td>True</td>\n",
       "      <td>0</td>\n",
       "      <td>276</td>\n",
       "      <td>Chowkidar</td>\n",
       "      <td>en</td>\n",
       "      <td>523</td>\n",
       "      <td>1545</td>\n",
       "      <td>2010-07-09 21:55:28</td>\n",
       "      <td>False</td>\n",
       "      <td>en</td>\n",
       "      <td>See how one of our #Chowkidar have thrashed Pa...</td>\n",
       "    </tr>\n",
       "  </tbody>\n",
       "</table>\n",
       "</div>"
      ],
      "text/plain": [
       "       screen_name                                               text  \\\n",
       "0  Actor_Siddharth  I've spoken out against every major political ...   \n",
       "1     svaradarajan  Bhakts are thrilled one of the four men arrest...   \n",
       "2        BJP4India  You may now make #MainBhiChowkidar song as you...   \n",
       "3  commo_nic_ation  Breakfast with chief chowkidar in Australia. F...   \n",
       "4       PAWANSANAN  See how one of our #Chowkidar have thrashed Pa...   \n",
       "\n",
       "   display_text_width  is_retweet  favorite_count  retweet_count  \\\n",
       "0                 279       False           10757           2828   \n",
       "1                 276       False            4490           1681   \n",
       "2                 268       False            7597           2864   \n",
       "3                 111        True               0           1253   \n",
       "4                 140        True               0            276   \n",
       "\n",
       "           hashtags lang  followers_count  friends_count   account_created_at  \\\n",
       "0     CHOWKIDAR BJP   en          4115243             75  2009-07-03 15:33:34   \n",
       "1               NaN   en           486943            865  2009-02-16 19:02:23   \n",
       "2  MainBhiChowkidar   en         10742860              2  2010-10-26 02:19:07   \n",
       "3               NaN   en              113            465  2017-06-17 23:41:49   \n",
       "4         Chowkidar   en              523           1545  2010-07-09 21:55:28   \n",
       "\n",
       "   verified account_lang                                         Tweets_Cln  \n",
       "0      True           en  I've spoken out against every major political ...  \n",
       "1      True           en  Bhakts are thrilled one of the four men arrest...  \n",
       "2      True           en  You may now make #MainBhiChowkidar song as you...  \n",
       "3     False           en  Breakfast with chief chowkidar in Australia. F...  \n",
       "4     False           en  See how one of our #Chowkidar have thrashed Pa...  "
      ]
     },
     "execution_count": 12,
     "metadata": {},
     "output_type": "execute_result"
    }
   ],
   "source": [
    "df.head()"
   ]
  },
  {
   "cell_type": "code",
   "execution_count": 7,
   "metadata": {},
   "outputs": [],
   "source": [
    "def analize_sentiment(tweet):\n",
    "    analysis = TextBlob(tweet)\n",
    "    if analysis.sentiment.polarity > 0:\n",
    "        return 1\n",
    "    elif analysis.sentiment.polarity == 0:\n",
    "        return 0\n",
    "    else:\n",
    "        return -1\n",
    "df['sentiment'] = np.array([ analize_sentiment(tweet) for tweet in df['Tweets_Cln']])"
   ]
  },
  {
   "cell_type": "code",
   "execution_count": 8,
   "metadata": {
    "scrolled": true
   },
   "outputs": [
    {
     "data": {
      "text/html": [
       "<div>\n",
       "<style scoped>\n",
       "    .dataframe tbody tr th:only-of-type {\n",
       "        vertical-align: middle;\n",
       "    }\n",
       "\n",
       "    .dataframe tbody tr th {\n",
       "        vertical-align: top;\n",
       "    }\n",
       "\n",
       "    .dataframe thead th {\n",
       "        text-align: right;\n",
       "    }\n",
       "</style>\n",
       "<table border=\"1\" class=\"dataframe\">\n",
       "  <thead>\n",
       "    <tr style=\"text-align: right;\">\n",
       "      <th></th>\n",
       "      <th>screen_name</th>\n",
       "      <th>text</th>\n",
       "      <th>display_text_width</th>\n",
       "      <th>is_retweet</th>\n",
       "      <th>favorite_count</th>\n",
       "      <th>retweet_count</th>\n",
       "      <th>hashtags</th>\n",
       "      <th>lang</th>\n",
       "      <th>followers_count</th>\n",
       "      <th>friends_count</th>\n",
       "      <th>account_created_at</th>\n",
       "      <th>verified</th>\n",
       "      <th>account_lang</th>\n",
       "      <th>Tweets_Cln</th>\n",
       "      <th>sentiment</th>\n",
       "    </tr>\n",
       "  </thead>\n",
       "  <tbody>\n",
       "    <tr>\n",
       "      <th>0</th>\n",
       "      <td>Actor_Siddharth</td>\n",
       "      <td>I've spoken out against every major political ...</td>\n",
       "      <td>279</td>\n",
       "      <td>False</td>\n",
       "      <td>10757</td>\n",
       "      <td>2828</td>\n",
       "      <td>CHOWKIDAR BJP</td>\n",
       "      <td>en</td>\n",
       "      <td>4115243</td>\n",
       "      <td>75</td>\n",
       "      <td>2009-07-03 15:33:34</td>\n",
       "      <td>True</td>\n",
       "      <td>en</td>\n",
       "      <td>I've spoken out against every major political ...</td>\n",
       "      <td>-1</td>\n",
       "    </tr>\n",
       "    <tr>\n",
       "      <th>1</th>\n",
       "      <td>svaradarajan</td>\n",
       "      <td>Bhakts are thrilled one of the four men arrest...</td>\n",
       "      <td>276</td>\n",
       "      <td>False</td>\n",
       "      <td>4490</td>\n",
       "      <td>1681</td>\n",
       "      <td>NaN</td>\n",
       "      <td>en</td>\n",
       "      <td>486943</td>\n",
       "      <td>865</td>\n",
       "      <td>2009-02-16 19:02:23</td>\n",
       "      <td>True</td>\n",
       "      <td>en</td>\n",
       "      <td>Bhakts are thrilled one of the four men arrest...</td>\n",
       "      <td>-1</td>\n",
       "    </tr>\n",
       "  </tbody>\n",
       "</table>\n",
       "</div>"
      ],
      "text/plain": [
       "       screen_name                                               text  \\\n",
       "0  Actor_Siddharth  I've spoken out against every major political ...   \n",
       "1     svaradarajan  Bhakts are thrilled one of the four men arrest...   \n",
       "\n",
       "   display_text_width  is_retweet  favorite_count  retweet_count  \\\n",
       "0                 279       False           10757           2828   \n",
       "1                 276       False            4490           1681   \n",
       "\n",
       "        hashtags lang  followers_count  friends_count   account_created_at  \\\n",
       "0  CHOWKIDAR BJP   en          4115243             75  2009-07-03 15:33:34   \n",
       "1            NaN   en           486943            865  2009-02-16 19:02:23   \n",
       "\n",
       "   verified account_lang                                         Tweets_Cln  \\\n",
       "0      True           en  I've spoken out against every major political ...   \n",
       "1      True           en  Bhakts are thrilled one of the four men arrest...   \n",
       "\n",
       "   sentiment  \n",
       "0         -1  \n",
       "1         -1  "
      ]
     },
     "execution_count": 8,
     "metadata": {},
     "output_type": "execute_result"
    }
   ],
   "source": [
    "df.head(2)"
   ]
  },
  {
   "cell_type": "markdown",
   "metadata": {},
   "source": [
    "# Splittng, vectorization and modeling"
   ]
  },
  {
   "cell_type": "code",
   "execution_count": 9,
   "metadata": {},
   "outputs": [],
   "source": [
    "from sklearn.feature_extraction.text import CountVectorizer\n",
    "bow_vectorizer = CountVectorizer(max_df=0.90, min_df=2, max_features=1000, stop_words='english')  # bow bag of words\n",
    "# bag-of-words feature matrix\n",
    "bow = bow_vectorizer.fit_transform(df['Tweets_Cln'])"
   ]
  },
  {
   "cell_type": "code",
   "execution_count": 10,
   "metadata": {},
   "outputs": [],
   "source": [
    "from sklearn.ensemble import RandomForestClassifier\n",
    "from sklearn.model_selection import train_test_split\n",
    "from sklearn.metrics import classification_report,confusion_matrix\n",
    "\n",
    "X=bow.toarray()\n",
    "Y=df['sentiment']"
   ]
  },
  {
   "cell_type": "code",
   "execution_count": 11,
   "metadata": {},
   "outputs": [],
   "source": [
    "xtrain_bow,xtest_bow,ytrain_bow,ytest_bow = train_test_split(X,Y, random_state=42, test_size=0.3)"
   ]
  },
  {
   "cell_type": "code",
   "execution_count": 12,
   "metadata": {},
   "outputs": [],
   "source": [
    "rf= RandomForestClassifier()"
   ]
  },
  {
   "cell_type": "code",
   "execution_count": 13,
   "metadata": {},
   "outputs": [
    {
     "data": {
      "text/plain": [
       "RandomForestClassifier()"
      ]
     },
     "execution_count": 13,
     "metadata": {},
     "output_type": "execute_result"
    }
   ],
   "source": [
    "rf.fit(xtrain_bow, ytrain_bow) # training the model"
   ]
  },
  {
   "cell_type": "code",
   "execution_count": 14,
   "metadata": {},
   "outputs": [],
   "source": [
    "ypred_bow=rf.predict(xtest_bow)"
   ]
  },
  {
   "cell_type": "code",
   "execution_count": 15,
   "metadata": {},
   "outputs": [
    {
     "name": "stdout",
     "output_type": "stream",
     "text": [
      "              precision    recall  f1-score   support\n",
      "\n",
      "          -1       0.98      0.90      0.93      6426\n",
      "           0       0.93      0.97      0.95     13877\n",
      "           1       0.95      0.93      0.94     12088\n",
      "\n",
      "    accuracy                           0.94     32391\n",
      "   macro avg       0.95      0.93      0.94     32391\n",
      "weighted avg       0.94      0.94      0.94     32391\n",
      "\n"
     ]
    }
   ],
   "source": [
    "print(classification_report(ytest_bow,ypred_bow))"
   ]
  },
  {
   "cell_type": "code",
   "execution_count": null,
   "metadata": {},
   "outputs": [],
   "source": []
  }
 ],
 "metadata": {
  "kernelspec": {
   "display_name": "Python 3",
   "language": "python",
   "name": "python3"
  },
  "language_info": {
   "codemirror_mode": {
    "name": "ipython",
    "version": 3
   },
   "file_extension": ".py",
   "mimetype": "text/x-python",
   "name": "python",
   "nbconvert_exporter": "python",
   "pygments_lexer": "ipython3",
   "version": "3.8.5"
  }
 },
 "nbformat": 4,
 "nbformat_minor": 4
}
